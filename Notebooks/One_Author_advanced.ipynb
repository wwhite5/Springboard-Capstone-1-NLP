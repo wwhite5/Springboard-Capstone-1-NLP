{
 "cells": [
  {
   "cell_type": "markdown",
   "metadata": {},
   "source": [
    "**This project is about taking what I learned in the \"one author from title\" notebook and applying it to the entire dataset, using the entire body of the text instead of just the title. I will still be using scikit-learn's TfidfVectorizer as my plaintext vectorizer in this project.**"
   ]
  },
  {
   "cell_type": "code",
   "execution_count": 1,
   "metadata": {},
   "outputs": [],
   "source": [
    "import pandas as pd\n",
    "import os\n",
    "import numpy as np\n",
    "from sklearn.pipeline import make_pipeline\n",
    "from sklearn.model_selection import train_test_split, cross_validate, GridSearchCV\n",
    "from sklearn.feature_extraction.text import TfidfVectorizer\n",
    "from sklearn.linear_model import LogisticRegression\n",
    "from sklearn.metrics import accuracy_score, confusion_matrix, roc_auc_score, recall_score, precision_score\n",
    "import matplotlib.pyplot as plt\n",
    "from mlxtend.plotting import plot_confusion_matrix"
   ]
  },
  {
   "cell_type": "markdown",
   "metadata": {},
   "source": [
    "First I read in the papers_and_authors csv."
   ]
  },
  {
   "cell_type": "code",
   "execution_count": 2,
   "metadata": {},
   "outputs": [
    {
     "data": {
      "text/html": [
       "<div>\n",
       "<style scoped>\n",
       "    .dataframe tbody tr th:only-of-type {\n",
       "        vertical-align: middle;\n",
       "    }\n",
       "\n",
       "    .dataframe tbody tr th {\n",
       "        vertical-align: top;\n",
       "    }\n",
       "\n",
       "    .dataframe thead th {\n",
       "        text-align: right;\n",
       "    }\n",
       "</style>\n",
       "<table border=\"1\" class=\"dataframe\">\n",
       "  <thead>\n",
       "    <tr style=\"text-align: right;\">\n",
       "      <th></th>\n",
       "      <th>year</th>\n",
       "      <th>title</th>\n",
       "      <th>event_type</th>\n",
       "      <th>pdf_name</th>\n",
       "      <th>abstract</th>\n",
       "      <th>paper_text</th>\n",
       "      <th>paper_id</th>\n",
       "      <th>author_id</th>\n",
       "    </tr>\n",
       "  </thead>\n",
       "  <tbody>\n",
       "    <tr>\n",
       "      <th>0</th>\n",
       "      <td>1987</td>\n",
       "      <td>Self-Organization of Associative Database and ...</td>\n",
       "      <td>NaN</td>\n",
       "      <td>1-self-organization-of-associative-database-an...</td>\n",
       "      <td>Abstract Missing</td>\n",
       "      <td>767\\n\\nSELF-ORGANIZATION OF ASSOCIATIVE DATABA...</td>\n",
       "      <td>1</td>\n",
       "      <td>1</td>\n",
       "    </tr>\n",
       "    <tr>\n",
       "      <th>1</th>\n",
       "      <td>1987</td>\n",
       "      <td>Self-Organization of Associative Database and ...</td>\n",
       "      <td>NaN</td>\n",
       "      <td>1-self-organization-of-associative-database-an...</td>\n",
       "      <td>Abstract Missing</td>\n",
       "      <td>767\\n\\nSELF-ORGANIZATION OF ASSOCIATIVE DATABA...</td>\n",
       "      <td>1</td>\n",
       "      <td>2</td>\n",
       "    </tr>\n",
       "    <tr>\n",
       "      <th>2</th>\n",
       "      <td>1987</td>\n",
       "      <td>A Mean Field Theory of Layer IV of Visual Cort...</td>\n",
       "      <td>NaN</td>\n",
       "      <td>10-a-mean-field-theory-of-layer-iv-of-visual-c...</td>\n",
       "      <td>Abstract Missing</td>\n",
       "      <td>683\\n\\nA MEAN FIELD THEORY OF LAYER IV OF VISU...</td>\n",
       "      <td>10</td>\n",
       "      <td>14</td>\n",
       "    </tr>\n",
       "    <tr>\n",
       "      <th>3</th>\n",
       "      <td>1988</td>\n",
       "      <td>Storing Covariance by the Associative Long-Ter...</td>\n",
       "      <td>NaN</td>\n",
       "      <td>100-storing-covariance-by-the-associative-long...</td>\n",
       "      <td>Abstract Missing</td>\n",
       "      <td>394\\n\\nSTORING COVARIANCE BY THE ASSOCIATIVE\\n...</td>\n",
       "      <td>100</td>\n",
       "      <td>155</td>\n",
       "    </tr>\n",
       "    <tr>\n",
       "      <th>4</th>\n",
       "      <td>1988</td>\n",
       "      <td>Storing Covariance by the Associative Long-Ter...</td>\n",
       "      <td>NaN</td>\n",
       "      <td>100-storing-covariance-by-the-associative-long...</td>\n",
       "      <td>Abstract Missing</td>\n",
       "      <td>394\\n\\nSTORING COVARIANCE BY THE ASSOCIATIVE\\n...</td>\n",
       "      <td>100</td>\n",
       "      <td>54</td>\n",
       "    </tr>\n",
       "  </tbody>\n",
       "</table>\n",
       "</div>"
      ],
      "text/plain": [
       "   year                                              title event_type  \\\n",
       "0  1987  Self-Organization of Associative Database and ...        NaN   \n",
       "1  1987  Self-Organization of Associative Database and ...        NaN   \n",
       "2  1987  A Mean Field Theory of Layer IV of Visual Cort...        NaN   \n",
       "3  1988  Storing Covariance by the Associative Long-Ter...        NaN   \n",
       "4  1988  Storing Covariance by the Associative Long-Ter...        NaN   \n",
       "\n",
       "                                            pdf_name          abstract  \\\n",
       "0  1-self-organization-of-associative-database-an...  Abstract Missing   \n",
       "1  1-self-organization-of-associative-database-an...  Abstract Missing   \n",
       "2  10-a-mean-field-theory-of-layer-iv-of-visual-c...  Abstract Missing   \n",
       "3  100-storing-covariance-by-the-associative-long...  Abstract Missing   \n",
       "4  100-storing-covariance-by-the-associative-long...  Abstract Missing   \n",
       "\n",
       "                                          paper_text  paper_id  author_id  \n",
       "0  767\\n\\nSELF-ORGANIZATION OF ASSOCIATIVE DATABA...         1          1  \n",
       "1  767\\n\\nSELF-ORGANIZATION OF ASSOCIATIVE DATABA...         1          2  \n",
       "2  683\\n\\nA MEAN FIELD THEORY OF LAYER IV OF VISU...        10         14  \n",
       "3  394\\n\\nSTORING COVARIANCE BY THE ASSOCIATIVE\\n...       100        155  \n",
       "4  394\\n\\nSTORING COVARIANCE BY THE ASSOCIATIVE\\n...       100         54  "
      ]
     },
     "execution_count": 2,
     "metadata": {},
     "output_type": "execute_result"
    }
   ],
   "source": [
    "papers_and_authors = pd.read_csv('E:/OtherCodeProjects/Springboard Capstone Projects/Springboard-Capstone-1-Data/papers_and_authors.csv')\n",
    "papers_and_authors.head()"
   ]
  },
  {
   "cell_type": "markdown",
   "metadata": {},
   "source": [
    "Now, I am only dropping the pdf_name and abstract fields. The pdf name is redundant/useless information and the abstract field is incomplete and I'm not yet sure how to deal with it in the final analysis."
   ]
  },
  {
   "cell_type": "code",
   "execution_count": 3,
   "metadata": {},
   "outputs": [
    {
     "data": {
      "text/html": [
       "<div>\n",
       "<style scoped>\n",
       "    .dataframe tbody tr th:only-of-type {\n",
       "        vertical-align: middle;\n",
       "    }\n",
       "\n",
       "    .dataframe tbody tr th {\n",
       "        vertical-align: top;\n",
       "    }\n",
       "\n",
       "    .dataframe thead th {\n",
       "        text-align: right;\n",
       "    }\n",
       "</style>\n",
       "<table border=\"1\" class=\"dataframe\">\n",
       "  <thead>\n",
       "    <tr style=\"text-align: right;\">\n",
       "      <th></th>\n",
       "      <th>year</th>\n",
       "      <th>title</th>\n",
       "      <th>event_type</th>\n",
       "      <th>paper_text</th>\n",
       "      <th>paper_id</th>\n",
       "      <th>author_id</th>\n",
       "    </tr>\n",
       "  </thead>\n",
       "  <tbody>\n",
       "    <tr>\n",
       "      <th>0</th>\n",
       "      <td>1987</td>\n",
       "      <td>Self-Organization of Associative Database and ...</td>\n",
       "      <td>NaN</td>\n",
       "      <td>767\\n\\nSELF-ORGANIZATION OF ASSOCIATIVE DATABA...</td>\n",
       "      <td>1</td>\n",
       "      <td>1</td>\n",
       "    </tr>\n",
       "    <tr>\n",
       "      <th>1</th>\n",
       "      <td>1987</td>\n",
       "      <td>Self-Organization of Associative Database and ...</td>\n",
       "      <td>NaN</td>\n",
       "      <td>767\\n\\nSELF-ORGANIZATION OF ASSOCIATIVE DATABA...</td>\n",
       "      <td>1</td>\n",
       "      <td>2</td>\n",
       "    </tr>\n",
       "    <tr>\n",
       "      <th>2</th>\n",
       "      <td>1987</td>\n",
       "      <td>A Mean Field Theory of Layer IV of Visual Cort...</td>\n",
       "      <td>NaN</td>\n",
       "      <td>683\\n\\nA MEAN FIELD THEORY OF LAYER IV OF VISU...</td>\n",
       "      <td>10</td>\n",
       "      <td>14</td>\n",
       "    </tr>\n",
       "    <tr>\n",
       "      <th>3</th>\n",
       "      <td>1988</td>\n",
       "      <td>Storing Covariance by the Associative Long-Ter...</td>\n",
       "      <td>NaN</td>\n",
       "      <td>394\\n\\nSTORING COVARIANCE BY THE ASSOCIATIVE\\n...</td>\n",
       "      <td>100</td>\n",
       "      <td>155</td>\n",
       "    </tr>\n",
       "    <tr>\n",
       "      <th>4</th>\n",
       "      <td>1988</td>\n",
       "      <td>Storing Covariance by the Associative Long-Ter...</td>\n",
       "      <td>NaN</td>\n",
       "      <td>394\\n\\nSTORING COVARIANCE BY THE ASSOCIATIVE\\n...</td>\n",
       "      <td>100</td>\n",
       "      <td>54</td>\n",
       "    </tr>\n",
       "  </tbody>\n",
       "</table>\n",
       "</div>"
      ],
      "text/plain": [
       "   year                                              title event_type  \\\n",
       "0  1987  Self-Organization of Associative Database and ...        NaN   \n",
       "1  1987  Self-Organization of Associative Database and ...        NaN   \n",
       "2  1987  A Mean Field Theory of Layer IV of Visual Cort...        NaN   \n",
       "3  1988  Storing Covariance by the Associative Long-Ter...        NaN   \n",
       "4  1988  Storing Covariance by the Associative Long-Ter...        NaN   \n",
       "\n",
       "                                          paper_text  paper_id  author_id  \n",
       "0  767\\n\\nSELF-ORGANIZATION OF ASSOCIATIVE DATABA...         1          1  \n",
       "1  767\\n\\nSELF-ORGANIZATION OF ASSOCIATIVE DATABA...         1          2  \n",
       "2  683\\n\\nA MEAN FIELD THEORY OF LAYER IV OF VISU...        10         14  \n",
       "3  394\\n\\nSTORING COVARIANCE BY THE ASSOCIATIVE\\n...       100        155  \n",
       "4  394\\n\\nSTORING COVARIANCE BY THE ASSOCIATIVE\\n...       100         54  "
      ]
     },
     "execution_count": 3,
     "metadata": {},
     "output_type": "execute_result"
    }
   ],
   "source": [
    "auth_text_len = papers_and_authors.drop(['pdf_name', 'abstract'], axis=1)\n",
    "auth_text_len.head()"
   ]
  },
  {
   "cell_type": "markdown",
   "metadata": {},
   "source": [
    "I want to add some additional features to my dataset, and the first one will be the length of the title. The first line checks the length of the title at position 0, the using .apply I create a new column with the title lengths as the values. Double checking the head confirms that my first title is 62 characters long."
   ]
  },
  {
   "cell_type": "code",
   "execution_count": 4,
   "metadata": {},
   "outputs": [
    {
     "name": "stdout",
     "output_type": "stream",
     "text": [
      "62\n"
     ]
    },
    {
     "data": {
      "text/html": [
       "<div>\n",
       "<style scoped>\n",
       "    .dataframe tbody tr th:only-of-type {\n",
       "        vertical-align: middle;\n",
       "    }\n",
       "\n",
       "    .dataframe tbody tr th {\n",
       "        vertical-align: top;\n",
       "    }\n",
       "\n",
       "    .dataframe thead th {\n",
       "        text-align: right;\n",
       "    }\n",
       "</style>\n",
       "<table border=\"1\" class=\"dataframe\">\n",
       "  <thead>\n",
       "    <tr style=\"text-align: right;\">\n",
       "      <th></th>\n",
       "      <th>year</th>\n",
       "      <th>title</th>\n",
       "      <th>event_type</th>\n",
       "      <th>paper_text</th>\n",
       "      <th>paper_id</th>\n",
       "      <th>author_id</th>\n",
       "      <th>title_len</th>\n",
       "    </tr>\n",
       "  </thead>\n",
       "  <tbody>\n",
       "    <tr>\n",
       "      <th>0</th>\n",
       "      <td>1987</td>\n",
       "      <td>Self-Organization of Associative Database and ...</td>\n",
       "      <td>NaN</td>\n",
       "      <td>767\\n\\nSELF-ORGANIZATION OF ASSOCIATIVE DATABA...</td>\n",
       "      <td>1</td>\n",
       "      <td>1</td>\n",
       "      <td>62</td>\n",
       "    </tr>\n",
       "    <tr>\n",
       "      <th>1</th>\n",
       "      <td>1987</td>\n",
       "      <td>Self-Organization of Associative Database and ...</td>\n",
       "      <td>NaN</td>\n",
       "      <td>767\\n\\nSELF-ORGANIZATION OF ASSOCIATIVE DATABA...</td>\n",
       "      <td>1</td>\n",
       "      <td>2</td>\n",
       "      <td>62</td>\n",
       "    </tr>\n",
       "    <tr>\n",
       "      <th>2</th>\n",
       "      <td>1987</td>\n",
       "      <td>A Mean Field Theory of Layer IV of Visual Cort...</td>\n",
       "      <td>NaN</td>\n",
       "      <td>683\\n\\nA MEAN FIELD THEORY OF LAYER IV OF VISU...</td>\n",
       "      <td>10</td>\n",
       "      <td>14</td>\n",
       "      <td>98</td>\n",
       "    </tr>\n",
       "    <tr>\n",
       "      <th>3</th>\n",
       "      <td>1988</td>\n",
       "      <td>Storing Covariance by the Associative Long-Ter...</td>\n",
       "      <td>NaN</td>\n",
       "      <td>394\\n\\nSTORING COVARIANCE BY THE ASSOCIATIVE\\n...</td>\n",
       "      <td>100</td>\n",
       "      <td>155</td>\n",
       "      <td>116</td>\n",
       "    </tr>\n",
       "    <tr>\n",
       "      <th>4</th>\n",
       "      <td>1988</td>\n",
       "      <td>Storing Covariance by the Associative Long-Ter...</td>\n",
       "      <td>NaN</td>\n",
       "      <td>394\\n\\nSTORING COVARIANCE BY THE ASSOCIATIVE\\n...</td>\n",
       "      <td>100</td>\n",
       "      <td>54</td>\n",
       "      <td>116</td>\n",
       "    </tr>\n",
       "  </tbody>\n",
       "</table>\n",
       "</div>"
      ],
      "text/plain": [
       "   year                                              title event_type  \\\n",
       "0  1987  Self-Organization of Associative Database and ...        NaN   \n",
       "1  1987  Self-Organization of Associative Database and ...        NaN   \n",
       "2  1987  A Mean Field Theory of Layer IV of Visual Cort...        NaN   \n",
       "3  1988  Storing Covariance by the Associative Long-Ter...        NaN   \n",
       "4  1988  Storing Covariance by the Associative Long-Ter...        NaN   \n",
       "\n",
       "                                          paper_text  paper_id  author_id  \\\n",
       "0  767\\n\\nSELF-ORGANIZATION OF ASSOCIATIVE DATABA...         1          1   \n",
       "1  767\\n\\nSELF-ORGANIZATION OF ASSOCIATIVE DATABA...         1          2   \n",
       "2  683\\n\\nA MEAN FIELD THEORY OF LAYER IV OF VISU...        10         14   \n",
       "3  394\\n\\nSTORING COVARIANCE BY THE ASSOCIATIVE\\n...       100        155   \n",
       "4  394\\n\\nSTORING COVARIANCE BY THE ASSOCIATIVE\\n...       100         54   \n",
       "\n",
       "   title_len  \n",
       "0         62  \n",
       "1         62  \n",
       "2         98  \n",
       "3        116  \n",
       "4        116  "
      ]
     },
     "execution_count": 4,
     "metadata": {},
     "output_type": "execute_result"
    }
   ],
   "source": [
    "print(len(auth_text_len.at[0, 'title']))\n",
    "\n",
    "auth_text_len['title_len'] = auth_text_len.title.apply(lambda row: len(row))\n",
    "auth_text_len.head()"
   ]
  },
  {
   "cell_type": "markdown",
   "metadata": {},
   "source": [
    "The next step is doing this with total paper length. It's possible that word count would be better than character count, but for now I'll use this."
   ]
  },
  {
   "cell_type": "code",
   "execution_count": 5,
   "metadata": {},
   "outputs": [
    {
     "data": {
      "text/html": [
       "<div>\n",
       "<style scoped>\n",
       "    .dataframe tbody tr th:only-of-type {\n",
       "        vertical-align: middle;\n",
       "    }\n",
       "\n",
       "    .dataframe tbody tr th {\n",
       "        vertical-align: top;\n",
       "    }\n",
       "\n",
       "    .dataframe thead th {\n",
       "        text-align: right;\n",
       "    }\n",
       "</style>\n",
       "<table border=\"1\" class=\"dataframe\">\n",
       "  <thead>\n",
       "    <tr style=\"text-align: right;\">\n",
       "      <th></th>\n",
       "      <th>year</th>\n",
       "      <th>title</th>\n",
       "      <th>event_type</th>\n",
       "      <th>paper_text</th>\n",
       "      <th>paper_id</th>\n",
       "      <th>author_id</th>\n",
       "      <th>title_len</th>\n",
       "      <th>paper_len</th>\n",
       "    </tr>\n",
       "  </thead>\n",
       "  <tbody>\n",
       "    <tr>\n",
       "      <th>0</th>\n",
       "      <td>1987</td>\n",
       "      <td>Self-Organization of Associative Database and ...</td>\n",
       "      <td>NaN</td>\n",
       "      <td>767\\n\\nSELF-ORGANIZATION OF ASSOCIATIVE DATABA...</td>\n",
       "      <td>1</td>\n",
       "      <td>1</td>\n",
       "      <td>62</td>\n",
       "      <td>21643</td>\n",
       "    </tr>\n",
       "    <tr>\n",
       "      <th>1</th>\n",
       "      <td>1987</td>\n",
       "      <td>Self-Organization of Associative Database and ...</td>\n",
       "      <td>NaN</td>\n",
       "      <td>767\\n\\nSELF-ORGANIZATION OF ASSOCIATIVE DATABA...</td>\n",
       "      <td>1</td>\n",
       "      <td>2</td>\n",
       "      <td>62</td>\n",
       "      <td>21643</td>\n",
       "    </tr>\n",
       "    <tr>\n",
       "      <th>2</th>\n",
       "      <td>1987</td>\n",
       "      <td>A Mean Field Theory of Layer IV of Visual Cort...</td>\n",
       "      <td>NaN</td>\n",
       "      <td>683\\n\\nA MEAN FIELD THEORY OF LAYER IV OF VISU...</td>\n",
       "      <td>10</td>\n",
       "      <td>14</td>\n",
       "      <td>98</td>\n",
       "      <td>15505</td>\n",
       "    </tr>\n",
       "    <tr>\n",
       "      <th>3</th>\n",
       "      <td>1988</td>\n",
       "      <td>Storing Covariance by the Associative Long-Ter...</td>\n",
       "      <td>NaN</td>\n",
       "      <td>394\\n\\nSTORING COVARIANCE BY THE ASSOCIATIVE\\n...</td>\n",
       "      <td>100</td>\n",
       "      <td>155</td>\n",
       "      <td>116</td>\n",
       "      <td>20523</td>\n",
       "    </tr>\n",
       "    <tr>\n",
       "      <th>4</th>\n",
       "      <td>1988</td>\n",
       "      <td>Storing Covariance by the Associative Long-Ter...</td>\n",
       "      <td>NaN</td>\n",
       "      <td>394\\n\\nSTORING COVARIANCE BY THE ASSOCIATIVE\\n...</td>\n",
       "      <td>100</td>\n",
       "      <td>54</td>\n",
       "      <td>116</td>\n",
       "      <td>20523</td>\n",
       "    </tr>\n",
       "  </tbody>\n",
       "</table>\n",
       "</div>"
      ],
      "text/plain": [
       "   year                                              title event_type  \\\n",
       "0  1987  Self-Organization of Associative Database and ...        NaN   \n",
       "1  1987  Self-Organization of Associative Database and ...        NaN   \n",
       "2  1987  A Mean Field Theory of Layer IV of Visual Cort...        NaN   \n",
       "3  1988  Storing Covariance by the Associative Long-Ter...        NaN   \n",
       "4  1988  Storing Covariance by the Associative Long-Ter...        NaN   \n",
       "\n",
       "                                          paper_text  paper_id  author_id  \\\n",
       "0  767\\n\\nSELF-ORGANIZATION OF ASSOCIATIVE DATABA...         1          1   \n",
       "1  767\\n\\nSELF-ORGANIZATION OF ASSOCIATIVE DATABA...         1          2   \n",
       "2  683\\n\\nA MEAN FIELD THEORY OF LAYER IV OF VISU...        10         14   \n",
       "3  394\\n\\nSTORING COVARIANCE BY THE ASSOCIATIVE\\n...       100        155   \n",
       "4  394\\n\\nSTORING COVARIANCE BY THE ASSOCIATIVE\\n...       100         54   \n",
       "\n",
       "   title_len  paper_len  \n",
       "0         62      21643  \n",
       "1         62      21643  \n",
       "2         98      15505  \n",
       "3        116      20523  \n",
       "4        116      20523  "
      ]
     },
     "execution_count": 5,
     "metadata": {},
     "output_type": "execute_result"
    }
   ],
   "source": [
    "auth_text_len['paper_len'] = auth_text_len.paper_text.apply(lambda row: len(row))\n",
    "auth_text_len.head()"
   ]
  },
  {
   "cell_type": "markdown",
   "metadata": {},
   "source": [
    "I also want a feature for average word length in the paper, below is a custom function that splits the body of the text into the individual words, then finds their average length. It takes a block of text, in this case the values from the paper_text column, as its only parameter."
   ]
  },
  {
   "cell_type": "markdown",
   "metadata": {},
   "source": [
    "Checking that this works on the first row of the data."
   ]
  },
  {
   "cell_type": "code",
   "execution_count": 6,
   "metadata": {},
   "outputs": [],
   "source": [
    "def avg_word_len(row):\n",
    "    text_list = row.split()\n",
    "    try:\n",
    "        avg_len = sum(len(word) for word in text_list) / len(text_list)\n",
    "        return avg_len\n",
    "    except:\n",
    "        return 0"
   ]
  },
  {
   "cell_type": "code",
   "execution_count": 7,
   "metadata": {},
   "outputs": [
    {
     "data": {
      "text/plain": [
       "4.8082635700783145"
      ]
     },
     "execution_count": 7,
     "metadata": {},
     "output_type": "execute_result"
    }
   ],
   "source": [
    "avg_word_len(auth_text_len.paper_text[0])"
   ]
  },
  {
   "cell_type": "markdown",
   "metadata": {},
   "source": [
    "Now I'm applying this function across the entire dataset with lambda, and double checking that it correctly created a new column."
   ]
  },
  {
   "cell_type": "code",
   "execution_count": 8,
   "metadata": {},
   "outputs": [
    {
     "data": {
      "text/html": [
       "<div>\n",
       "<style scoped>\n",
       "    .dataframe tbody tr th:only-of-type {\n",
       "        vertical-align: middle;\n",
       "    }\n",
       "\n",
       "    .dataframe tbody tr th {\n",
       "        vertical-align: top;\n",
       "    }\n",
       "\n",
       "    .dataframe thead th {\n",
       "        text-align: right;\n",
       "    }\n",
       "</style>\n",
       "<table border=\"1\" class=\"dataframe\">\n",
       "  <thead>\n",
       "    <tr style=\"text-align: right;\">\n",
       "      <th></th>\n",
       "      <th>year</th>\n",
       "      <th>title</th>\n",
       "      <th>event_type</th>\n",
       "      <th>paper_text</th>\n",
       "      <th>paper_id</th>\n",
       "      <th>author_id</th>\n",
       "      <th>title_len</th>\n",
       "      <th>paper_len</th>\n",
       "      <th>avg_word_len</th>\n",
       "    </tr>\n",
       "  </thead>\n",
       "  <tbody>\n",
       "    <tr>\n",
       "      <th>0</th>\n",
       "      <td>1987</td>\n",
       "      <td>Self-Organization of Associative Database and ...</td>\n",
       "      <td>NaN</td>\n",
       "      <td>767\\n\\nSELF-ORGANIZATION OF ASSOCIATIVE DATABA...</td>\n",
       "      <td>1</td>\n",
       "      <td>1</td>\n",
       "      <td>62</td>\n",
       "      <td>21643</td>\n",
       "      <td>4.808264</td>\n",
       "    </tr>\n",
       "    <tr>\n",
       "      <th>1</th>\n",
       "      <td>1987</td>\n",
       "      <td>Self-Organization of Associative Database and ...</td>\n",
       "      <td>NaN</td>\n",
       "      <td>767\\n\\nSELF-ORGANIZATION OF ASSOCIATIVE DATABA...</td>\n",
       "      <td>1</td>\n",
       "      <td>2</td>\n",
       "      <td>62</td>\n",
       "      <td>21643</td>\n",
       "      <td>4.808264</td>\n",
       "    </tr>\n",
       "    <tr>\n",
       "      <th>2</th>\n",
       "      <td>1987</td>\n",
       "      <td>A Mean Field Theory of Layer IV of Visual Cort...</td>\n",
       "      <td>NaN</td>\n",
       "      <td>683\\n\\nA MEAN FIELD THEORY OF LAYER IV OF VISU...</td>\n",
       "      <td>10</td>\n",
       "      <td>14</td>\n",
       "      <td>98</td>\n",
       "      <td>15505</td>\n",
       "      <td>4.886807</td>\n",
       "    </tr>\n",
       "    <tr>\n",
       "      <th>3</th>\n",
       "      <td>1988</td>\n",
       "      <td>Storing Covariance by the Associative Long-Ter...</td>\n",
       "      <td>NaN</td>\n",
       "      <td>394\\n\\nSTORING COVARIANCE BY THE ASSOCIATIVE\\n...</td>\n",
       "      <td>100</td>\n",
       "      <td>155</td>\n",
       "      <td>116</td>\n",
       "      <td>20523</td>\n",
       "      <td>5.784861</td>\n",
       "    </tr>\n",
       "    <tr>\n",
       "      <th>4</th>\n",
       "      <td>1988</td>\n",
       "      <td>Storing Covariance by the Associative Long-Ter...</td>\n",
       "      <td>NaN</td>\n",
       "      <td>394\\n\\nSTORING COVARIANCE BY THE ASSOCIATIVE\\n...</td>\n",
       "      <td>100</td>\n",
       "      <td>54</td>\n",
       "      <td>116</td>\n",
       "      <td>20523</td>\n",
       "      <td>5.784861</td>\n",
       "    </tr>\n",
       "  </tbody>\n",
       "</table>\n",
       "</div>"
      ],
      "text/plain": [
       "   year                                              title event_type  \\\n",
       "0  1987  Self-Organization of Associative Database and ...        NaN   \n",
       "1  1987  Self-Organization of Associative Database and ...        NaN   \n",
       "2  1987  A Mean Field Theory of Layer IV of Visual Cort...        NaN   \n",
       "3  1988  Storing Covariance by the Associative Long-Ter...        NaN   \n",
       "4  1988  Storing Covariance by the Associative Long-Ter...        NaN   \n",
       "\n",
       "                                          paper_text  paper_id  author_id  \\\n",
       "0  767\\n\\nSELF-ORGANIZATION OF ASSOCIATIVE DATABA...         1          1   \n",
       "1  767\\n\\nSELF-ORGANIZATION OF ASSOCIATIVE DATABA...         1          2   \n",
       "2  683\\n\\nA MEAN FIELD THEORY OF LAYER IV OF VISU...        10         14   \n",
       "3  394\\n\\nSTORING COVARIANCE BY THE ASSOCIATIVE\\n...       100        155   \n",
       "4  394\\n\\nSTORING COVARIANCE BY THE ASSOCIATIVE\\n...       100         54   \n",
       "\n",
       "   title_len  paper_len  avg_word_len  \n",
       "0         62      21643      4.808264  \n",
       "1         62      21643      4.808264  \n",
       "2         98      15505      4.886807  \n",
       "3        116      20523      5.784861  \n",
       "4        116      20523      5.784861  "
      ]
     },
     "execution_count": 8,
     "metadata": {},
     "output_type": "execute_result"
    }
   ],
   "source": [
    "auth_text_len['avg_word_len'] = auth_text_len.paper_text.apply(lambda row: avg_word_len(row))\n",
    "auth_text_len.head()"
   ]
  },
  {
   "cell_type": "markdown",
   "metadata": {},
   "source": [
    "I had 4 entries that had an average word length of 0. I drop them and double check that none remain."
   ]
  },
  {
   "cell_type": "code",
   "execution_count": 9,
   "metadata": {},
   "outputs": [
    {
     "name": "stdout",
     "output_type": "stream",
     "text": [
      "       year                                              title event_type  \\\n",
      "15924  2016  Regret Bounds for Non-decomposable Metrics wit...     Poster   \n",
      "15925  2016  Regret Bounds for Non-decomposable Metrics wit...     Poster   \n",
      "18546  2017  Mean Field Residual Networks: On the Edge of C...     Poster   \n",
      "18547  2017  Mean Field Residual Networks: On the Edge of C...     Poster   \n",
      "\n",
      "      paper_text  paper_id  author_id  title_len  paper_len  avg_word_len  \n",
      "15924  \f\f\f\f\f\f\f\f\f      6178       6597         62          9           0.0  \n",
      "15925  \f\f\f\f\f\f\f\f\f      6178       3906         62          9           0.0  \n",
      "18546  \f\f\f\f\f\f\f\f\f      6879       9809         50          9           0.0  \n",
      "18547  \f\f\f\f\f\f\f\f\f      6879      10122         50          9           0.0  \n",
      "Empty DataFrame\n",
      "Columns: [year, title, event_type, paper_text, paper_id, author_id, title_len, paper_len, avg_word_len]\n",
      "Index: []\n"
     ]
    }
   ],
   "source": [
    "print(auth_text_len.query('avg_word_len == 0'))\n",
    "\n",
    "auth_text_len.drop(auth_text_len[auth_text_len['avg_word_len']==0].index, inplace=True)\n",
    "\n",
    "print(auth_text_len.query('avg_word_len == 0'))"
   ]
  },
  {
   "cell_type": "markdown",
   "metadata": {},
   "source": [
    "Now I fill the Nan's in the event_type column with Unknown, and drop the title column, as I only want text from the body of the paper right now. "
   ]
  },
  {
   "cell_type": "code",
   "execution_count": 10,
   "metadata": {},
   "outputs": [
    {
     "data": {
      "text/html": [
       "<div>\n",
       "<style scoped>\n",
       "    .dataframe tbody tr th:only-of-type {\n",
       "        vertical-align: middle;\n",
       "    }\n",
       "\n",
       "    .dataframe tbody tr th {\n",
       "        vertical-align: top;\n",
       "    }\n",
       "\n",
       "    .dataframe thead th {\n",
       "        text-align: right;\n",
       "    }\n",
       "</style>\n",
       "<table border=\"1\" class=\"dataframe\">\n",
       "  <thead>\n",
       "    <tr style=\"text-align: right;\">\n",
       "      <th></th>\n",
       "      <th>year</th>\n",
       "      <th>event_type</th>\n",
       "      <th>paper_text</th>\n",
       "      <th>paper_id</th>\n",
       "      <th>author_id</th>\n",
       "      <th>title_len</th>\n",
       "      <th>paper_len</th>\n",
       "      <th>avg_word_len</th>\n",
       "    </tr>\n",
       "  </thead>\n",
       "  <tbody>\n",
       "    <tr>\n",
       "      <th>0</th>\n",
       "      <td>1987</td>\n",
       "      <td>Unknown</td>\n",
       "      <td>767\\n\\nSELF-ORGANIZATION OF ASSOCIATIVE DATABA...</td>\n",
       "      <td>1</td>\n",
       "      <td>1</td>\n",
       "      <td>62</td>\n",
       "      <td>21643</td>\n",
       "      <td>4.808264</td>\n",
       "    </tr>\n",
       "    <tr>\n",
       "      <th>1</th>\n",
       "      <td>1987</td>\n",
       "      <td>Unknown</td>\n",
       "      <td>767\\n\\nSELF-ORGANIZATION OF ASSOCIATIVE DATABA...</td>\n",
       "      <td>1</td>\n",
       "      <td>2</td>\n",
       "      <td>62</td>\n",
       "      <td>21643</td>\n",
       "      <td>4.808264</td>\n",
       "    </tr>\n",
       "    <tr>\n",
       "      <th>2</th>\n",
       "      <td>1987</td>\n",
       "      <td>Unknown</td>\n",
       "      <td>683\\n\\nA MEAN FIELD THEORY OF LAYER IV OF VISU...</td>\n",
       "      <td>10</td>\n",
       "      <td>14</td>\n",
       "      <td>98</td>\n",
       "      <td>15505</td>\n",
       "      <td>4.886807</td>\n",
       "    </tr>\n",
       "    <tr>\n",
       "      <th>3</th>\n",
       "      <td>1988</td>\n",
       "      <td>Unknown</td>\n",
       "      <td>394\\n\\nSTORING COVARIANCE BY THE ASSOCIATIVE\\n...</td>\n",
       "      <td>100</td>\n",
       "      <td>155</td>\n",
       "      <td>116</td>\n",
       "      <td>20523</td>\n",
       "      <td>5.784861</td>\n",
       "    </tr>\n",
       "    <tr>\n",
       "      <th>4</th>\n",
       "      <td>1988</td>\n",
       "      <td>Unknown</td>\n",
       "      <td>394\\n\\nSTORING COVARIANCE BY THE ASSOCIATIVE\\n...</td>\n",
       "      <td>100</td>\n",
       "      <td>54</td>\n",
       "      <td>116</td>\n",
       "      <td>20523</td>\n",
       "      <td>5.784861</td>\n",
       "    </tr>\n",
       "  </tbody>\n",
       "</table>\n",
       "</div>"
      ],
      "text/plain": [
       "   year event_type                                         paper_text  \\\n",
       "0  1987    Unknown  767\\n\\nSELF-ORGANIZATION OF ASSOCIATIVE DATABA...   \n",
       "1  1987    Unknown  767\\n\\nSELF-ORGANIZATION OF ASSOCIATIVE DATABA...   \n",
       "2  1987    Unknown  683\\n\\nA MEAN FIELD THEORY OF LAYER IV OF VISU...   \n",
       "3  1988    Unknown  394\\n\\nSTORING COVARIANCE BY THE ASSOCIATIVE\\n...   \n",
       "4  1988    Unknown  394\\n\\nSTORING COVARIANCE BY THE ASSOCIATIVE\\n...   \n",
       "\n",
       "   paper_id  author_id  title_len  paper_len  avg_word_len  \n",
       "0         1          1         62      21643      4.808264  \n",
       "1         1          2         62      21643      4.808264  \n",
       "2        10         14         98      15505      4.886807  \n",
       "3       100        155        116      20523      5.784861  \n",
       "4       100         54        116      20523      5.784861  "
      ]
     },
     "execution_count": 10,
     "metadata": {},
     "output_type": "execute_result"
    }
   ],
   "source": [
    "added_features = auth_text_len.fillna('Unknown')\n",
    "added_features.drop(['title'], axis=1, inplace=True)\n",
    "added_features.head()"
   ]
  },
  {
   "cell_type": "markdown",
   "metadata": {},
   "source": [
    "I use .get_dummies to change the categorical data from the event_type column to sparse numeric data, then join it to my dataframe and drop the old event_type column."
   ]
  },
  {
   "cell_type": "code",
   "execution_count": 11,
   "metadata": {},
   "outputs": [
    {
     "data": {
      "text/html": [
       "<div>\n",
       "<style scoped>\n",
       "    .dataframe tbody tr th:only-of-type {\n",
       "        vertical-align: middle;\n",
       "    }\n",
       "\n",
       "    .dataframe tbody tr th {\n",
       "        vertical-align: top;\n",
       "    }\n",
       "\n",
       "    .dataframe thead th {\n",
       "        text-align: right;\n",
       "    }\n",
       "</style>\n",
       "<table border=\"1\" class=\"dataframe\">\n",
       "  <thead>\n",
       "    <tr style=\"text-align: right;\">\n",
       "      <th></th>\n",
       "      <th>year</th>\n",
       "      <th>paper_text</th>\n",
       "      <th>paper_id</th>\n",
       "      <th>author_id</th>\n",
       "      <th>title_len</th>\n",
       "      <th>paper_len</th>\n",
       "      <th>avg_word_len</th>\n",
       "      <th>Oral</th>\n",
       "      <th>Poster</th>\n",
       "      <th>Spotlight</th>\n",
       "      <th>Unknown</th>\n",
       "    </tr>\n",
       "  </thead>\n",
       "  <tbody>\n",
       "    <tr>\n",
       "      <th>0</th>\n",
       "      <td>1987</td>\n",
       "      <td>767\\n\\nSELF-ORGANIZATION OF ASSOCIATIVE DATABA...</td>\n",
       "      <td>1</td>\n",
       "      <td>1</td>\n",
       "      <td>62</td>\n",
       "      <td>21643</td>\n",
       "      <td>4.808264</td>\n",
       "      <td>0</td>\n",
       "      <td>0</td>\n",
       "      <td>0</td>\n",
       "      <td>1</td>\n",
       "    </tr>\n",
       "    <tr>\n",
       "      <th>1</th>\n",
       "      <td>1987</td>\n",
       "      <td>767\\n\\nSELF-ORGANIZATION OF ASSOCIATIVE DATABA...</td>\n",
       "      <td>1</td>\n",
       "      <td>2</td>\n",
       "      <td>62</td>\n",
       "      <td>21643</td>\n",
       "      <td>4.808264</td>\n",
       "      <td>0</td>\n",
       "      <td>0</td>\n",
       "      <td>0</td>\n",
       "      <td>1</td>\n",
       "    </tr>\n",
       "    <tr>\n",
       "      <th>2</th>\n",
       "      <td>1987</td>\n",
       "      <td>683\\n\\nA MEAN FIELD THEORY OF LAYER IV OF VISU...</td>\n",
       "      <td>10</td>\n",
       "      <td>14</td>\n",
       "      <td>98</td>\n",
       "      <td>15505</td>\n",
       "      <td>4.886807</td>\n",
       "      <td>0</td>\n",
       "      <td>0</td>\n",
       "      <td>0</td>\n",
       "      <td>1</td>\n",
       "    </tr>\n",
       "    <tr>\n",
       "      <th>3</th>\n",
       "      <td>1988</td>\n",
       "      <td>394\\n\\nSTORING COVARIANCE BY THE ASSOCIATIVE\\n...</td>\n",
       "      <td>100</td>\n",
       "      <td>155</td>\n",
       "      <td>116</td>\n",
       "      <td>20523</td>\n",
       "      <td>5.784861</td>\n",
       "      <td>0</td>\n",
       "      <td>0</td>\n",
       "      <td>0</td>\n",
       "      <td>1</td>\n",
       "    </tr>\n",
       "    <tr>\n",
       "      <th>4</th>\n",
       "      <td>1988</td>\n",
       "      <td>394\\n\\nSTORING COVARIANCE BY THE ASSOCIATIVE\\n...</td>\n",
       "      <td>100</td>\n",
       "      <td>54</td>\n",
       "      <td>116</td>\n",
       "      <td>20523</td>\n",
       "      <td>5.784861</td>\n",
       "      <td>0</td>\n",
       "      <td>0</td>\n",
       "      <td>0</td>\n",
       "      <td>1</td>\n",
       "    </tr>\n",
       "  </tbody>\n",
       "</table>\n",
       "</div>"
      ],
      "text/plain": [
       "   year                                         paper_text  paper_id  \\\n",
       "0  1987  767\\n\\nSELF-ORGANIZATION OF ASSOCIATIVE DATABA...         1   \n",
       "1  1987  767\\n\\nSELF-ORGANIZATION OF ASSOCIATIVE DATABA...         1   \n",
       "2  1987  683\\n\\nA MEAN FIELD THEORY OF LAYER IV OF VISU...        10   \n",
       "3  1988  394\\n\\nSTORING COVARIANCE BY THE ASSOCIATIVE\\n...       100   \n",
       "4  1988  394\\n\\nSTORING COVARIANCE BY THE ASSOCIATIVE\\n...       100   \n",
       "\n",
       "   author_id  title_len  paper_len  avg_word_len  Oral  Poster  Spotlight  \\\n",
       "0          1         62      21643      4.808264     0       0          0   \n",
       "1          2         62      21643      4.808264     0       0          0   \n",
       "2         14         98      15505      4.886807     0       0          0   \n",
       "3        155        116      20523      5.784861     0       0          0   \n",
       "4         54        116      20523      5.784861     0       0          0   \n",
       "\n",
       "   Unknown  \n",
       "0        1  \n",
       "1        1  \n",
       "2        1  \n",
       "3        1  \n",
       "4        1  "
      ]
     },
     "execution_count": 11,
     "metadata": {},
     "output_type": "execute_result"
    }
   ],
   "source": [
    "dummies = pd.get_dummies(added_features.event_type)\n",
    "dummies.head()\n",
    "added_dummies = added_features.join(dummies, how='outer')\n",
    "added_dummies.drop(['event_type'], axis=1, inplace=True)\n",
    "added_dummies.head()"
   ]
  },
  {
   "cell_type": "markdown",
   "metadata": {},
   "source": [
    "Saving this dataframe for later"
   ]
  },
  {
   "cell_type": "code",
   "execution_count": 12,
   "metadata": {},
   "outputs": [],
   "source": [
    "datapath = 'E:/OtherCodeProjects/Springboard Capstone Projects/Springboard-Capstone-1-Data/added_features_data.csv'\n",
    "added_dummies.to_csv(datapath, index=False)"
   ]
  },
  {
   "cell_type": "markdown",
   "metadata": {},
   "source": [
    "Now I am using a custom function to check for Michael Jordan's author id (330), and return a 1 if he wrote the paper and a 0 if he did not."
   ]
  },
  {
   "cell_type": "code",
   "execution_count": 13,
   "metadata": {},
   "outputs": [],
   "source": [
    "def jordan_detector(row):\n",
    "    if row['author_id'] == 1472:\n",
    "        return 1\n",
    "    else:\n",
    "        return 0"
   ]
  },
  {
   "cell_type": "markdown",
   "metadata": {},
   "source": [
    "Applying this custom function to the dataframe creates a new column with what will be my target feature, the is_jordan column."
   ]
  },
  {
   "cell_type": "code",
   "execution_count": 14,
   "metadata": {},
   "outputs": [
    {
     "data": {
      "text/html": [
       "<div>\n",
       "<style scoped>\n",
       "    .dataframe tbody tr th:only-of-type {\n",
       "        vertical-align: middle;\n",
       "    }\n",
       "\n",
       "    .dataframe tbody tr th {\n",
       "        vertical-align: top;\n",
       "    }\n",
       "\n",
       "    .dataframe thead th {\n",
       "        text-align: right;\n",
       "    }\n",
       "</style>\n",
       "<table border=\"1\" class=\"dataframe\">\n",
       "  <thead>\n",
       "    <tr style=\"text-align: right;\">\n",
       "      <th></th>\n",
       "      <th>year</th>\n",
       "      <th>paper_text</th>\n",
       "      <th>paper_id</th>\n",
       "      <th>author_id</th>\n",
       "      <th>title_len</th>\n",
       "      <th>paper_len</th>\n",
       "      <th>avg_word_len</th>\n",
       "      <th>Oral</th>\n",
       "      <th>Poster</th>\n",
       "      <th>Spotlight</th>\n",
       "      <th>Unknown</th>\n",
       "      <th>is_jordan</th>\n",
       "    </tr>\n",
       "  </thead>\n",
       "  <tbody>\n",
       "    <tr>\n",
       "      <th>0</th>\n",
       "      <td>1987</td>\n",
       "      <td>767\\n\\nSELF-ORGANIZATION OF ASSOCIATIVE DATABA...</td>\n",
       "      <td>1</td>\n",
       "      <td>1</td>\n",
       "      <td>62</td>\n",
       "      <td>21643</td>\n",
       "      <td>4.808264</td>\n",
       "      <td>0</td>\n",
       "      <td>0</td>\n",
       "      <td>0</td>\n",
       "      <td>1</td>\n",
       "      <td>0</td>\n",
       "    </tr>\n",
       "    <tr>\n",
       "      <th>1</th>\n",
       "      <td>1987</td>\n",
       "      <td>767\\n\\nSELF-ORGANIZATION OF ASSOCIATIVE DATABA...</td>\n",
       "      <td>1</td>\n",
       "      <td>2</td>\n",
       "      <td>62</td>\n",
       "      <td>21643</td>\n",
       "      <td>4.808264</td>\n",
       "      <td>0</td>\n",
       "      <td>0</td>\n",
       "      <td>0</td>\n",
       "      <td>1</td>\n",
       "      <td>0</td>\n",
       "    </tr>\n",
       "    <tr>\n",
       "      <th>2</th>\n",
       "      <td>1987</td>\n",
       "      <td>683\\n\\nA MEAN FIELD THEORY OF LAYER IV OF VISU...</td>\n",
       "      <td>10</td>\n",
       "      <td>14</td>\n",
       "      <td>98</td>\n",
       "      <td>15505</td>\n",
       "      <td>4.886807</td>\n",
       "      <td>0</td>\n",
       "      <td>0</td>\n",
       "      <td>0</td>\n",
       "      <td>1</td>\n",
       "      <td>0</td>\n",
       "    </tr>\n",
       "    <tr>\n",
       "      <th>3</th>\n",
       "      <td>1988</td>\n",
       "      <td>394\\n\\nSTORING COVARIANCE BY THE ASSOCIATIVE\\n...</td>\n",
       "      <td>100</td>\n",
       "      <td>155</td>\n",
       "      <td>116</td>\n",
       "      <td>20523</td>\n",
       "      <td>5.784861</td>\n",
       "      <td>0</td>\n",
       "      <td>0</td>\n",
       "      <td>0</td>\n",
       "      <td>1</td>\n",
       "      <td>0</td>\n",
       "    </tr>\n",
       "    <tr>\n",
       "      <th>4</th>\n",
       "      <td>1988</td>\n",
       "      <td>394\\n\\nSTORING COVARIANCE BY THE ASSOCIATIVE\\n...</td>\n",
       "      <td>100</td>\n",
       "      <td>54</td>\n",
       "      <td>116</td>\n",
       "      <td>20523</td>\n",
       "      <td>5.784861</td>\n",
       "      <td>0</td>\n",
       "      <td>0</td>\n",
       "      <td>0</td>\n",
       "      <td>1</td>\n",
       "      <td>0</td>\n",
       "    </tr>\n",
       "  </tbody>\n",
       "</table>\n",
       "</div>"
      ],
      "text/plain": [
       "   year                                         paper_text  paper_id  \\\n",
       "0  1987  767\\n\\nSELF-ORGANIZATION OF ASSOCIATIVE DATABA...         1   \n",
       "1  1987  767\\n\\nSELF-ORGANIZATION OF ASSOCIATIVE DATABA...         1   \n",
       "2  1987  683\\n\\nA MEAN FIELD THEORY OF LAYER IV OF VISU...        10   \n",
       "3  1988  394\\n\\nSTORING COVARIANCE BY THE ASSOCIATIVE\\n...       100   \n",
       "4  1988  394\\n\\nSTORING COVARIANCE BY THE ASSOCIATIVE\\n...       100   \n",
       "\n",
       "   author_id  title_len  paper_len  avg_word_len  Oral  Poster  Spotlight  \\\n",
       "0          1         62      21643      4.808264     0       0          0   \n",
       "1          2         62      21643      4.808264     0       0          0   \n",
       "2         14         98      15505      4.886807     0       0          0   \n",
       "3        155        116      20523      5.784861     0       0          0   \n",
       "4         54        116      20523      5.784861     0       0          0   \n",
       "\n",
       "   Unknown  is_jordan  \n",
       "0        1          0  \n",
       "1        1          0  \n",
       "2        1          0  \n",
       "3        1          0  \n",
       "4        1          0  "
      ]
     },
     "execution_count": 14,
     "metadata": {},
     "output_type": "execute_result"
    }
   ],
   "source": [
    "added_dummies['is_jordan'] = added_dummies.apply(lambda row: jordan_detector(row), axis=1)\n",
    "added_dummies.head()"
   ]
  },
  {
   "cell_type": "markdown",
   "metadata": {},
   "source": [
    "Now I can drop the author_id column, and in order to remove duplicate papers I sort Jordan's papers to the top and use drop_duplicates with keep='first'. This creates a dataframe with 7239 entries, one for each unique paper. This is two less than the 7241 papers I initially had, because I removed the two papers with no paper text."
   ]
  },
  {
   "cell_type": "code",
   "execution_count": 15,
   "metadata": {},
   "outputs": [
    {
     "data": {
      "text/plain": [
       "7239"
      ]
     },
     "execution_count": 15,
     "metadata": {},
     "output_type": "execute_result"
    }
   ],
   "source": [
    "df = added_dummies.drop('author_id', axis=1)\n",
    "df.sort_values(by='is_jordan', ascending=False, inplace=True)\n",
    "df.drop_duplicates(subset='paper_id', inplace=True, keep='first')\n",
    "len(df)"
   ]
  },
  {
   "cell_type": "markdown",
   "metadata": {},
   "source": [
    "As expected, we have 79 entries for is_jordan == 1."
   ]
  },
  {
   "cell_type": "code",
   "execution_count": 16,
   "metadata": {},
   "outputs": [
    {
     "data": {
      "text/plain": [
       "62"
      ]
     },
     "execution_count": 16,
     "metadata": {},
     "output_type": "execute_result"
    }
   ],
   "source": [
    "len(df.query('is_jordan == 1'))"
   ]
  },
  {
   "cell_type": "markdown",
   "metadata": {},
   "source": [
    "A look at my final (pre vectorization) dataframe."
   ]
  },
  {
   "cell_type": "code",
   "execution_count": 17,
   "metadata": {},
   "outputs": [
    {
     "data": {
      "text/html": [
       "<div>\n",
       "<style scoped>\n",
       "    .dataframe tbody tr th:only-of-type {\n",
       "        vertical-align: middle;\n",
       "    }\n",
       "\n",
       "    .dataframe tbody tr th {\n",
       "        vertical-align: top;\n",
       "    }\n",
       "\n",
       "    .dataframe thead th {\n",
       "        text-align: right;\n",
       "    }\n",
       "</style>\n",
       "<table border=\"1\" class=\"dataframe\">\n",
       "  <thead>\n",
       "    <tr style=\"text-align: right;\">\n",
       "      <th></th>\n",
       "      <th>year</th>\n",
       "      <th>paper_text</th>\n",
       "      <th>paper_id</th>\n",
       "      <th>title_len</th>\n",
       "      <th>paper_len</th>\n",
       "      <th>avg_word_len</th>\n",
       "      <th>Oral</th>\n",
       "      <th>Poster</th>\n",
       "      <th>Spotlight</th>\n",
       "      <th>Unknown</th>\n",
       "      <th>is_jordan</th>\n",
       "    </tr>\n",
       "  </thead>\n",
       "  <tbody>\n",
       "    <tr>\n",
       "      <th>17276</th>\n",
       "      <td>2016</td>\n",
       "      <td>Consistent Kernel Mean Estimation\\nfor Functio...</td>\n",
       "      <td>6545</td>\n",
       "      <td>67</td>\n",
       "      <td>33747</td>\n",
       "      <td>4.488406</td>\n",
       "      <td>0</td>\n",
       "      <td>1</td>\n",
       "      <td>0</td>\n",
       "      <td>0</td>\n",
       "      <td>1</td>\n",
       "    </tr>\n",
       "    <tr>\n",
       "      <th>7238</th>\n",
       "      <td>2008</td>\n",
       "      <td>Bayesian Experimental Design of Magnetic\\nReso...</td>\n",
       "      <td>3558</td>\n",
       "      <td>68</td>\n",
       "      <td>33280</td>\n",
       "      <td>4.916890</td>\n",
       "      <td>0</td>\n",
       "      <td>0</td>\n",
       "      <td>0</td>\n",
       "      <td>1</td>\n",
       "      <td>1</td>\n",
       "    </tr>\n",
       "    <tr>\n",
       "      <th>1216</th>\n",
       "      <td>1998</td>\n",
       "      <td>Kernel peA and De-Noising in Feature Spaces\\n\\...</td>\n",
       "      <td>1491</td>\n",
       "      <td>43</td>\n",
       "      <td>22127</td>\n",
       "      <td>4.798472</td>\n",
       "      <td>0</td>\n",
       "      <td>0</td>\n",
       "      <td>0</td>\n",
       "      <td>1</td>\n",
       "      <td>1</td>\n",
       "    </tr>\n",
       "    <tr>\n",
       "      <th>1441</th>\n",
       "      <td>1998</td>\n",
       "      <td>Semiparametric Support Vector and\\nLinear Prog...</td>\n",
       "      <td>1575</td>\n",
       "      <td>61</td>\n",
       "      <td>18571</td>\n",
       "      <td>4.874520</td>\n",
       "      <td>0</td>\n",
       "      <td>0</td>\n",
       "      <td>0</td>\n",
       "      <td>1</td>\n",
       "      <td>1</td>\n",
       "    </tr>\n",
       "    <tr>\n",
       "      <th>17038</th>\n",
       "      <td>2016</td>\n",
       "      <td>Minimax Estimation of Maximum Mean Discrepancy...</td>\n",
       "      <td>6483</td>\n",
       "      <td>66</td>\n",
       "      <td>29683</td>\n",
       "      <td>3.954461</td>\n",
       "      <td>0</td>\n",
       "      <td>1</td>\n",
       "      <td>0</td>\n",
       "      <td>0</td>\n",
       "      <td>1</td>\n",
       "    </tr>\n",
       "  </tbody>\n",
       "</table>\n",
       "</div>"
      ],
      "text/plain": [
       "       year                                         paper_text  paper_id  \\\n",
       "17276  2016  Consistent Kernel Mean Estimation\\nfor Functio...      6545   \n",
       "7238   2008  Bayesian Experimental Design of Magnetic\\nReso...      3558   \n",
       "1216   1998  Kernel peA and De-Noising in Feature Spaces\\n\\...      1491   \n",
       "1441   1998  Semiparametric Support Vector and\\nLinear Prog...      1575   \n",
       "17038  2016  Minimax Estimation of Maximum Mean Discrepancy...      6483   \n",
       "\n",
       "       title_len  paper_len  avg_word_len  Oral  Poster  Spotlight  Unknown  \\\n",
       "17276         67      33747      4.488406     0       1          0        0   \n",
       "7238          68      33280      4.916890     0       0          0        1   \n",
       "1216          43      22127      4.798472     0       0          0        1   \n",
       "1441          61      18571      4.874520     0       0          0        1   \n",
       "17038         66      29683      3.954461     0       1          0        0   \n",
       "\n",
       "       is_jordan  \n",
       "17276          1  \n",
       "7238           1  \n",
       "1216           1  \n",
       "1441           1  \n",
       "17038          1  "
      ]
     },
     "execution_count": 17,
     "metadata": {},
     "output_type": "execute_result"
    }
   ],
   "source": [
    "df.head()"
   ]
  },
  {
   "cell_type": "markdown",
   "metadata": {},
   "source": [
    "Saving this dataframe so I can use it later"
   ]
  },
  {
   "cell_type": "code",
   "execution_count": 18,
   "metadata": {},
   "outputs": [],
   "source": [
    "datapath = 'E:/OtherCodeProjects/Springboard Capstone Projects/Springboard-Capstone-1-Data/one_author_advanced_data.csv'\n",
    "df.to_csv(datapath, index=False)"
   ]
  },
  {
   "cell_type": "markdown",
   "metadata": {},
   "source": [
    "Now I split the features into X: my predictive features (excluding paper_id and is_jordan), and y: the is_jordan column flattened into a 1-D array."
   ]
  },
  {
   "cell_type": "code",
   "execution_count": 19,
   "metadata": {},
   "outputs": [],
   "source": [
    "exclude = ['paper_id', 'is_jordan']\n",
    "X = df[df.columns.difference(exclude)]\n",
    "\n",
    "y = df['is_jordan'].values.flatten()\n"
   ]
  },
  {
   "cell_type": "markdown",
   "metadata": {},
   "source": [
    "Creating my train and test splits, with a train size of 75% and stratified on my target feature."
   ]
  },
  {
   "cell_type": "code",
   "execution_count": 20,
   "metadata": {},
   "outputs": [],
   "source": [
    "X_train, X_test, y_train, y_test = train_test_split(X, y, random_state=21, train_size=0.75, stratify=y)"
   ]
  },
  {
   "cell_type": "markdown",
   "metadata": {},
   "source": [
    "Now it's time to TfidfVectorize the paper text. I fit and transform on the train set and only transform the test set. Looking at the shape indicates that I now have 195,720 total features (mostly individual words). **I SHOULD PLAY WITH THE STOP WORDS SOME, THE NUMBER OF WORDS MISSING SEEMS TO VARY CONSIDERABLY WITH RANDOM SPLIT**"
   ]
  },
  {
   "cell_type": "code",
   "execution_count": 21,
   "metadata": {},
   "outputs": [
    {
     "name": "stdout",
     "output_type": "stream",
     "text": [
      "(5429, 196602)\n",
      "(1810, 196602)\n"
     ]
    }
   ],
   "source": [
    "tfidf = TfidfVectorizer()\n",
    "\n",
    "X_train = tfidf.fit_transform(X_train.paper_text)\n",
    "X_test = tfidf.transform(X_test.paper_text)\n",
    "\n",
    "print(X_train.shape)\n",
    "print(X_test.shape)"
   ]
  },
  {
   "cell_type": "markdown",
   "metadata": {},
   "source": [
    "My initial model will again be a logistic regression with class weights of {0:1, 1:99}, so the model is penalized 99x for an incorrect attribution of a Jordan paper. "
   ]
  },
  {
   "cell_type": "code",
   "execution_count": 22,
   "metadata": {},
   "outputs": [],
   "source": [
    "pipe1 = make_pipeline(LogisticRegression(random_state=21, class_weight={0:1, 1:99}, C=1))"
   ]
  },
  {
   "cell_type": "markdown",
   "metadata": {},
   "source": [
    "I fit on the train data and predict on both the train and test data."
   ]
  },
  {
   "cell_type": "code",
   "execution_count": 23,
   "metadata": {},
   "outputs": [],
   "source": [
    "pipe1.fit(X_train, y_train)\n",
    "\n",
    "pipe1_train_pred = pipe1.predict(X_train)\n",
    "pipe1_test_pred = pipe1.predict(X_test)"
   ]
  },
  {
   "cell_type": "markdown",
   "metadata": {},
   "source": [
    "This is the accuracy of the model on the train set. **AGAIN THIS IS VERY HIGH, DOES THIS MEAN I'M OVERFITTING?**"
   ]
  },
  {
   "cell_type": "code",
   "execution_count": 24,
   "metadata": {},
   "outputs": [
    {
     "name": "stdout",
     "output_type": "stream",
     "text": [
      "Train Accuracy: 0.9944741204641738\n",
      "Train AUC: 0.9972134497492106\n",
      "Train Recall score: 1.0\n",
      "Train Precision score: 0.6052631578947368\n"
     ]
    }
   ],
   "source": [
    "accuracy1_train = pipe1.score(X_train, y_train)\n",
    "auc1_train = roc_auc_score(y_train, pipe1_train_pred)\n",
    "recall1_train = recall_score(y_train, pipe1_train_pred)\n",
    "precision1_train = precision_score(y_train, pipe1_train_pred)\n",
    "print('Train Accuracy:', accuracy1_train)\n",
    "print('Train AUC:', auc1_train)\n",
    "print('Train Recall score:', recall1_train)\n",
    "print('Train Precision score:', precision1_train)"
   ]
  },
  {
   "cell_type": "code",
   "execution_count": 25,
   "metadata": {},
   "outputs": [
    {
     "data": {
      "image/png": "[encoded data removed]",
      "text/plain": [
       "<Figure size 432x288 with 1 Axes>"
      ]
     },
     "metadata": {
      "needs_background": "light"
     },
     "output_type": "display_data"
    }
   ],
   "source": [
    "cm1_train = confusion_matrix(y_train, pipe1_train_pred)\n",
    "fig, ax = plot_confusion_matrix(conf_mat=cm1_train)\n",
    "plt.show()"
   ]
  },
  {
   "cell_type": "markdown",
   "metadata": {},
   "source": [
    "Here is the accuracy of the model on the test data, **THIS IS VERY SIMILAR TO WHAT I GOT ON JUST TITLES, THAT DOESN'T SEEM CORRECT**. Although it did get much better at not having false positives (the other model had 43 false positives)."
   ]
  },
  {
   "cell_type": "code",
   "execution_count": 26,
   "metadata": {},
   "outputs": [
    {
     "name": "stdout",
     "output_type": "stream",
     "text": [
      "Test Accuracy: 0.987292817679558\n",
      "Test AUC: 0.7148481047937569\n",
      "Test Recall score: 0.4375\n",
      "Train Precision score: 0.3333333333333333\n"
     ]
    }
   ],
   "source": [
    "accuracy1_test = pipe1.score(X_test, y_test)\n",
    "auc1_test = roc_auc_score(y_test, pipe1_test_pred)\n",
    "recall1_test = recall_score(y_test, pipe1_test_pred)\n",
    "precision1_test = precision_score(y_test, pipe1_test_pred)\n",
    "print('Test Accuracy:', accuracy1_test)\n",
    "print('Test AUC:', auc1_test)\n",
    "print('Test Recall score:', recall1_test)\n",
    "print('Train Precision score:', precision1_test)"
   ]
  },
  {
   "cell_type": "code",
   "execution_count": 27,
   "metadata": {},
   "outputs": [
    {
     "data": {
      "image/png": "[encoded data removed]",
      "text/plain": [
       "<Figure size 432x288 with 1 Axes>"
      ]
     },
     "metadata": {
      "needs_background": "light"
     },
     "output_type": "display_data"
    }
   ],
   "source": [
    "cm1_test = confusion_matrix(y_test, pipe1_test_pred)\n",
    "fig, ax = plot_confusion_matrix(conf_mat=cm1_test)\n",
    "plt.show()"
   ]
  },
  {
   "cell_type": "markdown",
   "metadata": {},
   "source": [
    "Using GridSearchCV to crossvalidate and find the best value for C to reduce overfitting. I made a new pipeline with no random state for this."
   ]
  },
  {
   "cell_type": "code",
   "execution_count": 28,
   "metadata": {},
   "outputs": [],
   "source": [
    "pipe1_rand = make_pipeline(LogisticRegression(class_weight={0:1, 1:99}))"
   ]
  },
  {
   "cell_type": "markdown",
   "metadata": {},
   "source": [
    "Checking what parameters I have available, right now I'm interested in 'logisticregression__C', as a potential fix for overfitting"
   ]
  },
  {
   "cell_type": "code",
   "execution_count": 29,
   "metadata": {},
   "outputs": [
    {
     "data": {
      "text/plain": [
       "dict_keys(['memory', 'steps', 'verbose', 'logisticregression', 'logisticregression__C', 'logisticregression__class_weight', 'logisticregression__dual', 'logisticregression__fit_intercept', 'logisticregression__intercept_scaling', 'logisticregression__l1_ratio', 'logisticregression__max_iter', 'logisticregression__multi_class', 'logisticregression__n_jobs', 'logisticregression__penalty', 'logisticregression__random_state', 'logisticregression__solver', 'logisticregression__tol', 'logisticregression__verbose', 'logisticregression__warm_start'])"
      ]
     },
     "execution_count": 29,
     "metadata": {},
     "output_type": "execute_result"
    }
   ],
   "source": [
    "pipe1_rand.get_params().keys()"
   ]
  },
  {
   "cell_type": "markdown",
   "metadata": {},
   "source": [
    "The values of C I will test for the model"
   ]
  },
  {
   "cell_type": "code",
   "execution_count": 30,
   "metadata": {},
   "outputs": [],
   "source": [
    "C = [1, 0.5, 0.1, 0.05, 0.01, 0.005, 0.001]"
   ]
  },
  {
   "cell_type": "markdown",
   "metadata": {},
   "source": [
    "Creating the grid search, with C as my only parameter I'm checking, and using roc_auc as my score"
   ]
  },
  {
   "cell_type": "code",
   "execution_count": 31,
   "metadata": {},
   "outputs": [],
   "source": [
    "pipe1_rand_grid_cv = GridSearchCV(pipe1_rand, param_grid={'logisticregression__C':C}, cv=5, n_jobs=-1, scoring='roc_auc')"
   ]
  },
  {
   "cell_type": "markdown",
   "metadata": {},
   "source": [
    "Fitting the grid search on my X_train and y_train data"
   ]
  },
  {
   "cell_type": "code",
   "execution_count": 32,
   "metadata": {},
   "outputs": [
    {
     "data": {
      "text/html": [
       "<style>#sk-container-id-1 {color: black;background-color: white;}#sk-container-id-1 pre{padding: 0;}#sk-container-id-1 div.sk-toggleable {background-color: white;}#sk-container-id-1 label.sk-toggleable__label {cursor: pointer;display: block;width: 100%;margin-bottom: 0;padding: 0.3em;box-sizing: border-box;text-align: center;}#sk-container-id-1 label.sk-toggleable__label-arrow:before {content: \"▸\";float: left;margin-right: 0.25em;color: #696969;}#sk-container-id-1 label.sk-toggleable__label-arrow:hover:before {color: black;}#sk-container-id-1 div.sk-estimator:hover label.sk-toggleable__label-arrow:before {color: black;}#sk-container-id-1 div.sk-toggleable__content {max-height: 0;max-width: 0;overflow: hidden;text-align: left;background-color: #f0f8ff;}#sk-container-id-1 div.sk-toggleable__content pre {margin: 0.2em;color: black;border-radius: 0.25em;background-color: #f0f8ff;}#sk-container-id-1 input.sk-toggleable__control:checked~div.sk-toggleable__content {max-height: 200px;max-width: 100%;overflow: auto;}#sk-container-id-1 input.sk-toggleable__control:checked~label.sk-toggleable__label-arrow:before {content: \"▾\";}#sk-container-id-1 div.sk-estimator input.sk-toggleable__control:checked~label.sk-toggleable__label {background-color: #d4ebff;}#sk-container-id-1 div.sk-label input.sk-toggleable__control:checked~label.sk-toggleable__label {background-color: #d4ebff;}#sk-container-id-1 input.sk-hidden--visually {border: 0;clip: rect(1px 1px 1px 1px);clip: rect(1px, 1px, 1px, 1px);height: 1px;margin: -1px;overflow: hidden;padding: 0;position: absolute;width: 1px;}#sk-container-id-1 div.sk-estimator {font-family: monospace;background-color: #f0f8ff;border: 1px dotted black;border-radius: 0.25em;box-sizing: border-box;margin-bottom: 0.5em;}#sk-container-id-1 div.sk-estimator:hover {background-color: #d4ebff;}#sk-container-id-1 div.sk-parallel-item::after {content: \"\";width: 100%;border-bottom: 1px solid gray;flex-grow: 1;}#sk-container-id-1 div.sk-label:hover label.sk-toggleable__label {background-color: #d4ebff;}#sk-container-id-1 div.sk-serial::before {content: \"\";position: absolute;border-left: 1px solid gray;box-sizing: border-box;top: 0;bottom: 0;left: 50%;z-index: 0;}#sk-container-id-1 div.sk-serial {display: flex;flex-direction: column;align-items: center;background-color: white;padding-right: 0.2em;padding-left: 0.2em;position: relative;}#sk-container-id-1 div.sk-item {position: relative;z-index: 1;}#sk-container-id-1 div.sk-parallel {display: flex;align-items: stretch;justify-content: center;background-color: white;position: relative;}#sk-container-id-1 div.sk-item::before, #sk-container-id-1 div.sk-parallel-item::before {content: \"\";position: absolute;border-left: 1px solid gray;box-sizing: border-box;top: 0;bottom: 0;left: 50%;z-index: -1;}#sk-container-id-1 div.sk-parallel-item {display: flex;flex-direction: column;z-index: 1;position: relative;background-color: white;}#sk-container-id-1 div.sk-parallel-item:first-child::after {align-self: flex-end;width: 50%;}#sk-container-id-1 div.sk-parallel-item:last-child::after {align-self: flex-start;width: 50%;}#sk-container-id-1 div.sk-parallel-item:only-child::after {width: 0;}#sk-container-id-1 div.sk-dashed-wrapped {border: 1px dashed gray;margin: 0 0.4em 0.5em 0.4em;box-sizing: border-box;padding-bottom: 0.4em;background-color: white;}#sk-container-id-1 div.sk-label label {font-family: monospace;font-weight: bold;display: inline-block;line-height: 1.2em;}#sk-container-id-1 div.sk-label-container {text-align: center;}#sk-container-id-1 div.sk-container {/* jupyter's `normalize.less` sets `[hidden] { display: none; }` but bootstrap.min.css set `[hidden] { display: none !important; }` so we also need the `!important` here to be able to override the default hidden behavior on the sphinx rendered scikit-learn.org. See: https://github.com/scikit-learn/scikit-learn/issues/21755 */display: inline-block !important;position: relative;}#sk-container-id-1 div.sk-text-repr-fallback {display: none;}</style><div id=\"sk-container-id-1\" class=\"sk-top-container\"><div class=\"sk-text-repr-fallback\"><pre>GridSearchCV(cv=5,\n",
       "             estimator=Pipeline(steps=[(&#x27;logisticregression&#x27;,\n",
       "                                        LogisticRegression(class_weight={0: 1,\n",
       "                                                                         1: 99}))]),\n",
       "             n_jobs=-1,\n",
       "             param_grid={&#x27;logisticregression__C&#x27;: [1, 0.5, 0.1, 0.05, 0.01,\n",
       "                                                   0.005, 0.001]},\n",
       "             scoring=&#x27;roc_auc&#x27;)</pre><b>In a Jupyter environment, please rerun this cell to show the HTML representation or trust the notebook. <br />On GitHub, the HTML representation is unable to render, please try loading this page with nbviewer.org.</b></div><div class=\"sk-container\" hidden><div class=\"sk-item sk-dashed-wrapped\"><div class=\"sk-label-container\"><div class=\"sk-label sk-toggleable\"><input class=\"sk-toggleable__control sk-hidden--visually\" id=\"sk-estimator-id-1\" type=\"checkbox\" ><label for=\"sk-estimator-id-1\" class=\"sk-toggleable__label sk-toggleable__label-arrow\">GridSearchCV</label><div class=\"sk-toggleable__content\"><pre>GridSearchCV(cv=5,\n",
       "             estimator=Pipeline(steps=[(&#x27;logisticregression&#x27;,\n",
       "                                        LogisticRegression(class_weight={0: 1,\n",
       "                                                                         1: 99}))]),\n",
       "             n_jobs=-1,\n",
       "             param_grid={&#x27;logisticregression__C&#x27;: [1, 0.5, 0.1, 0.05, 0.01,\n",
       "                                                   0.005, 0.001]},\n",
       "             scoring=&#x27;roc_auc&#x27;)</pre></div></div></div><div class=\"sk-parallel\"><div class=\"sk-parallel-item\"><div class=\"sk-item\"><div class=\"sk-label-container\"><div class=\"sk-label sk-toggleable\"><input class=\"sk-toggleable__control sk-hidden--visually\" id=\"sk-estimator-id-2\" type=\"checkbox\" ><label for=\"sk-estimator-id-2\" class=\"sk-toggleable__label sk-toggleable__label-arrow\">estimator: Pipeline</label><div class=\"sk-toggleable__content\"><pre>Pipeline(steps=[(&#x27;logisticregression&#x27;,\n",
       "                 LogisticRegression(class_weight={0: 1, 1: 99}))])</pre></div></div></div><div class=\"sk-serial\"><div class=\"sk-item\"><div class=\"sk-serial\"><div class=\"sk-item\"><div class=\"sk-estimator sk-toggleable\"><input class=\"sk-toggleable__control sk-hidden--visually\" id=\"sk-estimator-id-3\" type=\"checkbox\" ><label for=\"sk-estimator-id-3\" class=\"sk-toggleable__label sk-toggleable__label-arrow\">LogisticRegression</label><div class=\"sk-toggleable__content\"><pre>LogisticRegression(class_weight={0: 1, 1: 99})</pre></div></div></div></div></div></div></div></div></div></div></div></div>"
      ],
      "text/plain": [
       "GridSearchCV(cv=5,\n",
       "             estimator=Pipeline(steps=[('logisticregression',\n",
       "                                        LogisticRegression(class_weight={0: 1,\n",
       "                                                                         1: 99}))]),\n",
       "             n_jobs=-1,\n",
       "             param_grid={'logisticregression__C': [1, 0.5, 0.1, 0.05, 0.01,\n",
       "                                                   0.005, 0.001]},\n",
       "             scoring='roc_auc')"
      ]
     },
     "execution_count": 32,
     "metadata": {},
     "output_type": "execute_result"
    }
   ],
   "source": [
    "pipe1_rand_grid_cv.fit(X_train, y_train)"
   ]
  },
  {
   "cell_type": "markdown",
   "metadata": {},
   "source": [
    "The best roc_auc score of the models, lower than the AUC on pipe1 but fairly high still"
   ]
  },
  {
   "cell_type": "code",
   "execution_count": 33,
   "metadata": {},
   "outputs": [
    {
     "data": {
      "text/plain": [
       "0.9104308440115256"
      ]
     },
     "execution_count": 33,
     "metadata": {},
     "output_type": "execute_result"
    }
   ],
   "source": [
    "pipe1_rand_grid_cv.best_score_"
   ]
  },
  {
   "cell_type": "code",
   "execution_count": 34,
   "metadata": {},
   "outputs": [
    {
     "data": {
      "text/plain": [
       "array([0.91043084, 0.90743421, 0.89881264, 0.8943496 , 0.88235895,\n",
       "       0.87872941, 0.87517002])"
      ]
     },
     "execution_count": 34,
     "metadata": {},
     "output_type": "execute_result"
    }
   ],
   "source": [
    "pipe1_rand_grid_cv.cv_results_['mean_test_score']"
   ]
  },
  {
   "cell_type": "markdown",
   "metadata": {},
   "source": [
    "A C=1 was chosen **THIS SEEMS STRANGE OR INCORRECT, SEE BELOW**"
   ]
  },
  {
   "cell_type": "code",
   "execution_count": 35,
   "metadata": {},
   "outputs": [
    {
     "data": {
      "text/plain": [
       "{'logisticregression__C': 1}"
      ]
     },
     "execution_count": 35,
     "metadata": {},
     "output_type": "execute_result"
    }
   ],
   "source": [
    "pipe1_rand_grid_cv.best_params_"
   ]
  },
  {
   "cell_type": "markdown",
   "metadata": {},
   "source": [
    "Picking out the best estimator I found, then predicting on the test set"
   ]
  },
  {
   "cell_type": "code",
   "execution_count": 36,
   "metadata": {},
   "outputs": [],
   "source": [
    "pipe1_rand_best = pipe1_rand_grid_cv.best_estimator_"
   ]
  },
  {
   "cell_type": "code",
   "execution_count": 37,
   "metadata": {},
   "outputs": [],
   "source": [
    "pipe1_grid_cv_test_pred = pipe1_rand_best.predict(X_test)"
   ]
  },
  {
   "cell_type": "markdown",
   "metadata": {},
   "source": [
    "**THESE RESULTS ARE IDENTICAL TO THE FIRST TIME, AND IF I MANUALLY CHOOSE A LOWER C VALUE THEY GET BETTER?** For instance, a C=0.5 gives an AUC of 0.597 on the test set. I know the whole point is to not overfit on the test set, but what's going on here? It's possible my random split of my train and test sets happened to be very \"unlucky\"."
   ]
  },
  {
   "cell_type": "code",
   "execution_count": 38,
   "metadata": {},
   "outputs": [
    {
     "name": "stdout",
     "output_type": "stream",
     "text": [
      "Test Accuracy: 0.987292817679558\n",
      "Test AUC: 0.7148481047937569\n",
      "Test Recall score: 0.4375\n",
      "Train Precision score: 0.3333333333333333\n"
     ]
    }
   ],
   "source": [
    "accuracy1_grid_cv_test = pipe1_rand_best.score(X_test, y_test)\n",
    "auc1_grid_cv_test = roc_auc_score(y_test, pipe1_grid_cv_test_pred)\n",
    "recall1_grid_cv_test = recall_score(y_test, pipe1_grid_cv_test_pred)\n",
    "precision1_grid_cv_test = precision_score(y_test, pipe1_grid_cv_test_pred)\n",
    "print('Test Accuracy:', accuracy1_grid_cv_test)\n",
    "print('Test AUC:', auc1_grid_cv_test)\n",
    "print('Test Recall score:', recall1_grid_cv_test)\n",
    "print('Train Precision score:', precision1_grid_cv_test)"
   ]
  },
  {
   "cell_type": "code",
   "execution_count": 39,
   "metadata": {},
   "outputs": [
    {
     "data": {
      "image/png": "[encoded data removed]",
      "text/plain": [
       "<Figure size 432x288 with 1 Axes>"
      ]
     },
     "metadata": {
      "needs_background": "light"
     },
     "output_type": "display_data"
    }
   ],
   "source": [
    "cm1_grid_cv_test = confusion_matrix(y_test, pipe1_grid_cv_test_pred)\n",
    "fig, ax = plot_confusion_matrix(conf_mat=cm1_grid_cv_test)\n",
    "plt.show()"
   ]
  }
 ],
 "metadata": {
  "kernelspec": {
   "display_name": "Python 3.9.13 ('Springboard_Capstone_1')",
   "language": "python",
   "name": "python3"
  },
  "language_info": {
   "codemirror_mode": {
    "name": "ipython",
    "version": 3
   },
   "file_extension": ".py",
   "mimetype": "text/x-python",
   "name": "python",
   "nbconvert_exporter": "python",
   "pygments_lexer": "ipython3",
   "version": "3.9.13"
  },
  "orig_nbformat": 4,
  "vscode": {
   "interpreter": {
    "hash": "918dc82fcda072602f7dedc1715dd52bd51c73a6bbc48592bc491021bad55eb4"
   }
  }
 },
 "nbformat": 4,
 "nbformat_minor": 2
}
