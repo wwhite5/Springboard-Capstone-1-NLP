{
 "cells": [
  {
   "cell_type": "markdown",
   "metadata": {},
   "source": [
    "**This is a continuation of the One Author Advanced Project, made to help keep things straight**"
   ]
  },
  {
   "cell_type": "code",
   "execution_count": 64,
   "metadata": {},
   "outputs": [],
   "source": [
    "import pandas as pd\n",
    "import os\n",
    "import numpy as np\n",
    "import seaborn as sns\n",
    "from imblearn.pipeline import Pipeline\n",
    "from sklearn.model_selection import train_test_split\n",
    "from sklearn.feature_extraction.text import TfidfVectorizer\n",
    "from sklearn.linear_model import LogisticRegression\n",
    "from sklearn.svm import LinearSVC\n",
    "from sklearn.ensemble import RandomForestClassifier\n",
    "from sklearn.metrics import accuracy_score, confusion_matrix, roc_auc_score, precision_score, f1_score\n",
    "import matplotlib.pyplot as plt\n",
    "from mlxtend.plotting import plot_confusion_matrix\n",
    "from imblearn.over_sampling import RandomOverSampler\n",
    "from imblearn.under_sampling import RandomUnderSampler\n",
    "import itertools\n",
    "from sklearn.decomposition import TruncatedSVD\n",
    "from sklearn.preprocessing import StandardScaler"
   ]
  },
  {
   "cell_type": "code",
   "execution_count": 2,
   "metadata": {},
   "outputs": [
    {
     "data": {
      "text/html": [
       "<div>\n",
       "<style scoped>\n",
       "    .dataframe tbody tr th:only-of-type {\n",
       "        vertical-align: middle;\n",
       "    }\n",
       "\n",
       "    .dataframe tbody tr th {\n",
       "        vertical-align: top;\n",
       "    }\n",
       "\n",
       "    .dataframe thead th {\n",
       "        text-align: right;\n",
       "    }\n",
       "</style>\n",
       "<table border=\"1\" class=\"dataframe\">\n",
       "  <thead>\n",
       "    <tr style=\"text-align: right;\">\n",
       "      <th></th>\n",
       "      <th>year</th>\n",
       "      <th>paper_text</th>\n",
       "      <th>paper_id</th>\n",
       "      <th>title_len</th>\n",
       "      <th>paper_len</th>\n",
       "      <th>avg_word_len</th>\n",
       "      <th>Oral</th>\n",
       "      <th>Poster</th>\n",
       "      <th>Spotlight</th>\n",
       "      <th>Unknown</th>\n",
       "      <th>is_jordan</th>\n",
       "    </tr>\n",
       "  </thead>\n",
       "  <tbody>\n",
       "    <tr>\n",
       "      <th>0</th>\n",
       "      <td>2001</td>\n",
       "      <td>Minimax Probability Machine\\n\\nGert R.G. Lanck...</td>\n",
       "      <td>2036</td>\n",
       "      <td>27</td>\n",
       "      <td>17323</td>\n",
       "      <td>4.635348</td>\n",
       "      <td>0</td>\n",
       "      <td>0</td>\n",
       "      <td>0</td>\n",
       "      <td>1</td>\n",
       "      <td>1</td>\n",
       "    </tr>\n",
       "    <tr>\n",
       "      <th>1</th>\n",
       "      <td>2003</td>\n",
       "      <td>On the concentration of expectation and\\nappro...</td>\n",
       "      <td>2411</td>\n",
       "      <td>81</td>\n",
       "      <td>25777</td>\n",
       "      <td>4.540640</td>\n",
       "      <td>0</td>\n",
       "      <td>0</td>\n",
       "      <td>0</td>\n",
       "      <td>1</td>\n",
       "      <td>1</td>\n",
       "    </tr>\n",
       "    <tr>\n",
       "      <th>2</th>\n",
       "      <td>1994</td>\n",
       "      <td>An Alternative Model for Mixtures of\\nExperts\\...</td>\n",
       "      <td>906</td>\n",
       "      <td>44</td>\n",
       "      <td>17802</td>\n",
       "      <td>4.856669</td>\n",
       "      <td>0</td>\n",
       "      <td>0</td>\n",
       "      <td>0</td>\n",
       "      <td>1</td>\n",
       "      <td>1</td>\n",
       "    </tr>\n",
       "    <tr>\n",
       "      <th>3</th>\n",
       "      <td>2011</td>\n",
       "      <td>Divide-and-Conquer Matrix Factorization\\nLeste...</td>\n",
       "      <td>4486</td>\n",
       "      <td>39</td>\n",
       "      <td>30128</td>\n",
       "      <td>4.695537</td>\n",
       "      <td>0</td>\n",
       "      <td>0</td>\n",
       "      <td>0</td>\n",
       "      <td>1</td>\n",
       "      <td>1</td>\n",
       "    </tr>\n",
       "    <tr>\n",
       "      <th>4</th>\n",
       "      <td>2004</td>\n",
       "      <td>Blind one-microphone speech separation:\\nA spe...</td>\n",
       "      <td>2572</td>\n",
       "      <td>68</td>\n",
       "      <td>26817</td>\n",
       "      <td>4.908790</td>\n",
       "      <td>0</td>\n",
       "      <td>0</td>\n",
       "      <td>0</td>\n",
       "      <td>1</td>\n",
       "      <td>1</td>\n",
       "    </tr>\n",
       "  </tbody>\n",
       "</table>\n",
       "</div>"
      ],
      "text/plain": [
       "   year                                         paper_text  paper_id  \\\n",
       "0  2001  Minimax Probability Machine\\n\\nGert R.G. Lanck...      2036   \n",
       "1  2003  On the concentration of expectation and\\nappro...      2411   \n",
       "2  1994  An Alternative Model for Mixtures of\\nExperts\\...       906   \n",
       "3  2011  Divide-and-Conquer Matrix Factorization\\nLeste...      4486   \n",
       "4  2004  Blind one-microphone speech separation:\\nA spe...      2572   \n",
       "\n",
       "   title_len  paper_len  avg_word_len  Oral  Poster  Spotlight  Unknown  \\\n",
       "0         27      17323      4.635348     0       0          0        1   \n",
       "1         81      25777      4.540640     0       0          0        1   \n",
       "2         44      17802      4.856669     0       0          0        1   \n",
       "3         39      30128      4.695537     0       0          0        1   \n",
       "4         68      26817      4.908790     0       0          0        1   \n",
       "\n",
       "   is_jordan  \n",
       "0          1  \n",
       "1          1  \n",
       "2          1  \n",
       "3          1  \n",
       "4          1  "
      ]
     },
     "execution_count": 2,
     "metadata": {},
     "output_type": "execute_result"
    }
   ],
   "source": [
    "df = pd.read_csv('E:/OtherCodeProjects/Springboard Capstone Projects/Springboard-Capstone-1-Data/one_author_advanced_data.csv')\n",
    "\n",
    "df.head()"
   ]
  },
  {
   "cell_type": "code",
   "execution_count": 83,
   "metadata": {},
   "outputs": [],
   "source": [
    "exclude = ['paper_id', 'is_jordan']\n",
    "X = df[df.columns.difference(exclude)]\n",
    "\n",
    "y = df['is_jordan'].values.flatten()"
   ]
  },
  {
   "cell_type": "code",
   "execution_count": 4,
   "metadata": {},
   "outputs": [],
   "source": [
    "X_train, X_test, y_train, y_test = train_test_split(X, y, random_state=21, train_size=0.75, stratify=y)"
   ]
  },
  {
   "cell_type": "code",
   "execution_count": 5,
   "metadata": {},
   "outputs": [],
   "source": [
    "Tfidf_stop_words = [None, 'english']"
   ]
  },
  {
   "cell_type": "code",
   "execution_count": 6,
   "metadata": {},
   "outputs": [],
   "source": [
    "C = [1, 0.5, 0.1]"
   ]
  },
  {
   "cell_type": "code",
   "execution_count": 7,
   "metadata": {},
   "outputs": [
    {
     "data": {
      "text/plain": [
       "[(None, 1),\n",
       " (None, 0.5),\n",
       " (None, 0.1),\n",
       " ('english', 1),\n",
       " ('english', 0.5),\n",
       " ('english', 0.1)]"
      ]
     },
     "execution_count": 7,
     "metadata": {},
     "output_type": "execute_result"
    }
   ],
   "source": [
    "hyperparameters = list(itertools.product(\n",
    "                        Tfidf_stop_words, C\n",
    "))\n",
    "\n",
    "hyperparameters\n"
   ]
  },
  {
   "cell_type": "code",
   "execution_count": 8,
   "metadata": {},
   "outputs": [
    {
     "name": "stdout",
     "output_type": "stream",
     "text": [
      "0\n",
      "1\n",
      "2\n",
      "3\n",
      "4\n",
      "5\n"
     ]
    }
   ],
   "source": [
    "# Initializing a dictionary with keys corresponding to the hyperparameters I am testing, \n",
    "# as well as my results on the train and test sets\n",
    "LR_dict = {'Tfidf_Stop_Words': [],\n",
    "            'LogReg_C_value' : [],\n",
    "            'Train_auc': [],\n",
    "            'Test_auc': []}\n",
    "\n",
    "run = 0\n",
    "for Tfidf_params, C_params in hyperparameters:\n",
    "\n",
    "    # Counting what iteration I am on\n",
    "    print(run)\n",
    "    run += 1\n",
    "\n",
    "    # Appending the parameters for this run to my dictionary\n",
    "    LR_dict['Tfidf_Stop_Words'].append(str(Tfidf_params))\n",
    "    LR_dict['LogReg_C_value'].append(C_params)\n",
    "\n",
    "    # Initializing the TfidfVectorizer with different stop words, then .fit_transforming it on the train set\n",
    "    # and .transforming on the test set\n",
    "    tfidf = TfidfVectorizer(stop_words=Tfidf_params)\n",
    "    X_train_tfidf = tfidf.fit_transform(X_train.paper_text)\n",
    "    X_test_tfidf = tfidf.transform(X_test.paper_text)\n",
    "\n",
    "    # Making a pipeline with the logistic regressor inside, the C hyperparameter is chosen here\n",
    "    pipe = Pipeline(steps=[\n",
    "        ('LR', LogisticRegression(class_weight={0:1, 1:99}, C=C_params)),\n",
    "        \n",
    "    ])\n",
    "\n",
    "    # Fitting the pipeline to the train set and predicting on both train and test sets\n",
    "    pipe.fit(X_train_tfidf, y_train)\n",
    "    pipe_train_pred = pipe.predict(X_train_tfidf)\n",
    "    pipe_test_pred = pipe.predict(X_test_tfidf)\n",
    "\n",
    "    # Finding the roc_auc_score for both\n",
    "    auc_train = roc_auc_score(y_train, pipe_train_pred)\n",
    "    auc_test = roc_auc_score(y_test, pipe_test_pred)\n",
    "\n",
    "    # Appending the scores to the dictionary\n",
    "    LR_dict['Train_auc'].append(auc_train)\n",
    "    LR_dict['Test_auc'].append(auc_test)"
   ]
  },
  {
   "cell_type": "markdown",
   "metadata": {},
   "source": [
    "Using Tfidf inside the loop is time consuming, and using no stop words gives better results across the models, so I will recreate the above code without the TfidfVectorizer in the loop"
   ]
  },
  {
   "cell_type": "code",
   "execution_count": 9,
   "metadata": {},
   "outputs": [
    {
     "data": {
      "text/html": [
       "<div>\n",
       "<style scoped>\n",
       "    .dataframe tbody tr th:only-of-type {\n",
       "        vertical-align: middle;\n",
       "    }\n",
       "\n",
       "    .dataframe tbody tr th {\n",
       "        vertical-align: top;\n",
       "    }\n",
       "\n",
       "    .dataframe thead th {\n",
       "        text-align: right;\n",
       "    }\n",
       "</style>\n",
       "<table border=\"1\" class=\"dataframe\">\n",
       "  <thead>\n",
       "    <tr style=\"text-align: right;\">\n",
       "      <th></th>\n",
       "      <th>Tfidf_Stop_Words</th>\n",
       "      <th>LogReg_C_value</th>\n",
       "      <th>Train_auc</th>\n",
       "      <th>Test_auc</th>\n",
       "    </tr>\n",
       "  </thead>\n",
       "  <tbody>\n",
       "    <tr>\n",
       "      <th>0</th>\n",
       "      <td>None</td>\n",
       "      <td>1.0</td>\n",
       "      <td>0.998603</td>\n",
       "      <td>0.572207</td>\n",
       "    </tr>\n",
       "    <tr>\n",
       "      <th>1</th>\n",
       "      <td>None</td>\n",
       "      <td>0.5</td>\n",
       "      <td>0.997486</td>\n",
       "      <td>0.596927</td>\n",
       "    </tr>\n",
       "    <tr>\n",
       "      <th>2</th>\n",
       "      <td>None</td>\n",
       "      <td>0.1</td>\n",
       "      <td>0.990689</td>\n",
       "      <td>0.667737</td>\n",
       "    </tr>\n",
       "    <tr>\n",
       "      <th>3</th>\n",
       "      <td>english</td>\n",
       "      <td>1.0</td>\n",
       "      <td>0.998976</td>\n",
       "      <td>0.572765</td>\n",
       "    </tr>\n",
       "    <tr>\n",
       "      <th>4</th>\n",
       "      <td>english</td>\n",
       "      <td>0.5</td>\n",
       "      <td>0.998324</td>\n",
       "      <td>0.597207</td>\n",
       "    </tr>\n",
       "    <tr>\n",
       "      <th>5</th>\n",
       "      <td>english</td>\n",
       "      <td>0.1</td>\n",
       "      <td>0.993762</td>\n",
       "      <td>0.619693</td>\n",
       "    </tr>\n",
       "  </tbody>\n",
       "</table>\n",
       "</div>"
      ],
      "text/plain": [
       "  Tfidf_Stop_Words  LogReg_C_value  Train_auc  Test_auc\n",
       "0             None             1.0   0.998603  0.572207\n",
       "1             None             0.5   0.997486  0.596927\n",
       "2             None             0.1   0.990689  0.667737\n",
       "3          english             1.0   0.998976  0.572765\n",
       "4          english             0.5   0.998324  0.597207\n",
       "5          english             0.1   0.993762  0.619693"
      ]
     },
     "execution_count": 9,
     "metadata": {},
     "output_type": "execute_result"
    }
   ],
   "source": [
    "LR_HPtable = pd.DataFrame.from_dict(LR_dict) \n",
    "LR_HPtable"
   ]
  },
  {
   "cell_type": "code",
   "execution_count": 10,
   "metadata": {},
   "outputs": [
    {
     "data": {
      "text/plain": [
       "Tfidf_Stop_Words\n",
       "None       0.612291\n",
       "english    0.596555\n",
       "Name: Test_auc, dtype: float64"
      ]
     },
     "execution_count": 10,
     "metadata": {},
     "output_type": "execute_result"
    }
   ],
   "source": [
    "stop_words_avg = LR_HPtable.groupby('Tfidf_Stop_Words')['Test_auc'].mean()\n",
    "stop_words_avg"
   ]
  },
  {
   "cell_type": "code",
   "execution_count": 11,
   "metadata": {},
   "outputs": [],
   "source": [
    "X_train, X_test, y_train, y_test = train_test_split(X, y, random_state=11, train_size=0.75, stratify=y)"
   ]
  },
  {
   "cell_type": "code",
   "execution_count": 12,
   "metadata": {},
   "outputs": [],
   "source": [
    "tfidf = TfidfVectorizer()\n",
    "\n",
    "X_train = tfidf.fit_transform(X_train.paper_text)\n",
    "X_test = tfidf.transform(X_test.paper_text)"
   ]
  },
  {
   "cell_type": "code",
   "execution_count": 13,
   "metadata": {},
   "outputs": [],
   "source": [
    "C = [1, 0.5, 0.1, 0.05, 0.01, 0.005, 0.001]"
   ]
  },
  {
   "cell_type": "code",
   "execution_count": 14,
   "metadata": {},
   "outputs": [],
   "source": [
    "samplers = ['None', 'ros', 'rus']"
   ]
  },
  {
   "cell_type": "code",
   "execution_count": 15,
   "metadata": {},
   "outputs": [
    {
     "data": {
      "text/plain": [
       "[(1, 'None'),\n",
       " (1, 'ros'),\n",
       " (1, 'rus'),\n",
       " (0.5, 'None'),\n",
       " (0.5, 'ros'),\n",
       " (0.5, 'rus'),\n",
       " (0.1, 'None'),\n",
       " (0.1, 'ros'),\n",
       " (0.1, 'rus'),\n",
       " (0.05, 'None'),\n",
       " (0.05, 'ros'),\n",
       " (0.05, 'rus'),\n",
       " (0.01, 'None'),\n",
       " (0.01, 'ros'),\n",
       " (0.01, 'rus'),\n",
       " (0.005, 'None'),\n",
       " (0.005, 'ros'),\n",
       " (0.005, 'rus'),\n",
       " (0.001, 'None'),\n",
       " (0.001, 'ros'),\n",
       " (0.001, 'rus')]"
      ]
     },
     "execution_count": 15,
     "metadata": {},
     "output_type": "execute_result"
    }
   ],
   "source": [
    "hyperparameters = list(itertools.product(\n",
    "                        C, samplers\n",
    "))\n",
    "\n",
    "hyperparameters"
   ]
  },
  {
   "cell_type": "code",
   "execution_count": 16,
   "metadata": {},
   "outputs": [
    {
     "name": "stdout",
     "output_type": "stream",
     "text": [
      "0\n",
      "1\n",
      "2\n",
      "3\n",
      "4\n",
      "5\n",
      "6\n",
      "7\n",
      "8\n",
      "9\n",
      "10\n",
      "11\n",
      "12\n",
      "13\n",
      "14\n",
      "15\n",
      "16\n",
      "17\n",
      "18\n",
      "19\n",
      "20\n"
     ]
    }
   ],
   "source": [
    "# Initializing a dictionary with keys corresponding to the hyperparameters I am testing, \n",
    "# as well as my results on the train and test sets\n",
    "LR_dict = {'LogReg_C_value' : [],\n",
    "            'Sampler': [],\n",
    "            'Precision': [],\n",
    "            'F1_score': [],\n",
    "            'Train_auc': [],\n",
    "            'Test_auc': []}\n",
    "\n",
    "run = 0\n",
    "best_score_precision = 0\n",
    "best_LR_model_precision = None\n",
    "best_score_F1 = 0\n",
    "best_LR_model_F1 = None\n",
    "best_score_auc = 0\n",
    "best_LR_model_auc = None\n",
    "\n",
    "for C_value, sampler_type in hyperparameters:\n",
    "\n",
    "    # Counting what iteration I am on\n",
    "    print(run)\n",
    "    run += 1\n",
    "    \n",
    "    # Appending the parameters for this run to my dictionary\n",
    "    LR_dict['LogReg_C_value'].append(C_value)\n",
    "    LR_dict['Sampler'].append(sampler_type)\n",
    "\n",
    "    # Making pipelines for each sampler type, with the C value used within\n",
    "    if sampler_type == 'rus':\n",
    "        pipe = Pipeline(steps=[\n",
    "            ('rus', RandomUnderSampler(random_state=21)),\n",
    "            ('LR', LogisticRegression(C=C_value))\n",
    "            ])\n",
    "\n",
    "    elif sampler_type == 'ros':\n",
    "        pipe = Pipeline(steps=[\n",
    "            ('ros', RandomOverSampler(random_state=21)),\n",
    "            ('LR', LogisticRegression(C=C_value))\n",
    "            ])\n",
    "\n",
    "    else:\n",
    "        pipe = Pipeline(steps=[\n",
    "            ('LR', LogisticRegression(class_weight={0:1, 1:99}, C=C_value))\n",
    "            ])\n",
    "\n",
    "    # Fitting the pipeline to the train set and predicting on both train and test sets\n",
    "    pipe.fit(X_train, y_train)\n",
    "    pipe_train_pred = pipe.predict(X_train)\n",
    "    pipe_test_pred = pipe.predict(X_test)\n",
    "\n",
    "    # Finding the roc_auc_score for both, I am including precision as in the past \n",
    "    # undersampling has led to awful precision scores\n",
    "    precision = precision_score(y_test, pipe_test_pred)\n",
    "    F1_score = f1_score(y_test, pipe_test_pred)\n",
    "    auc_train = roc_auc_score(y_train, pipe_train_pred)\n",
    "    auc_test = roc_auc_score(y_test, pipe_test_pred)\n",
    "\n",
    "    # Appending the scores to the dictionary\n",
    "    LR_dict['Precision'].append(precision)\n",
    "    LR_dict['F1_score'].append(F1_score)\n",
    "    LR_dict['Train_auc'].append(auc_train)\n",
    "    LR_dict['Test_auc'].append(auc_test)\n",
    "\n",
    "    # Saving the best model\n",
    "    if precision > best_score_precision:\n",
    "        best_score_precision = precision\n",
    "        best_LR_model_precision = pipe\n",
    "\n",
    "    if F1_score > best_score_F1:\n",
    "        best_score_F1 = F1_score\n",
    "        best_LR_model_F1 = pipe\n",
    "\n",
    "    if auc_test > best_score_auc:\n",
    "        best_score_auc = auc_test\n",
    "        best_LR_model_auc = pipe"
   ]
  },
  {
   "cell_type": "code",
   "execution_count": 17,
   "metadata": {},
   "outputs": [
    {
     "data": {
      "text/html": [
       "<div>\n",
       "<style scoped>\n",
       "    .dataframe tbody tr th:only-of-type {\n",
       "        vertical-align: middle;\n",
       "    }\n",
       "\n",
       "    .dataframe tbody tr th {\n",
       "        vertical-align: top;\n",
       "    }\n",
       "\n",
       "    .dataframe thead th {\n",
       "        text-align: right;\n",
       "    }\n",
       "</style>\n",
       "<table border=\"1\" class=\"dataframe\">\n",
       "  <thead>\n",
       "    <tr style=\"text-align: right;\">\n",
       "      <th></th>\n",
       "      <th>LogReg_C_value</th>\n",
       "      <th>Sampler</th>\n",
       "      <th>Precision</th>\n",
       "      <th>F1_score</th>\n",
       "      <th>Train_auc</th>\n",
       "      <th>Test_auc</th>\n",
       "    </tr>\n",
       "  </thead>\n",
       "  <tbody>\n",
       "    <tr>\n",
       "      <th>3</th>\n",
       "      <td>0.500</td>\n",
       "      <td>None</td>\n",
       "      <td>0.428571</td>\n",
       "      <td>0.352941</td>\n",
       "      <td>0.996741</td>\n",
       "      <td>0.647765</td>\n",
       "    </tr>\n",
       "    <tr>\n",
       "      <th>4</th>\n",
       "      <td>0.500</td>\n",
       "      <td>ros</td>\n",
       "      <td>0.384615</td>\n",
       "      <td>0.303030</td>\n",
       "      <td>0.997207</td>\n",
       "      <td>0.622765</td>\n",
       "    </tr>\n",
       "    <tr>\n",
       "      <th>1</th>\n",
       "      <td>1.000</td>\n",
       "      <td>ros</td>\n",
       "      <td>0.750000</td>\n",
       "      <td>0.250000</td>\n",
       "      <td>0.998417</td>\n",
       "      <td>0.574721</td>\n",
       "    </tr>\n",
       "    <tr>\n",
       "      <th>7</th>\n",
       "      <td>0.100</td>\n",
       "      <td>ros</td>\n",
       "      <td>0.184211</td>\n",
       "      <td>0.241379</td>\n",
       "      <td>0.990410</td>\n",
       "      <td>0.666341</td>\n",
       "    </tr>\n",
       "    <tr>\n",
       "      <th>0</th>\n",
       "      <td>1.000</td>\n",
       "      <td>None</td>\n",
       "      <td>0.500000</td>\n",
       "      <td>0.230769</td>\n",
       "      <td>0.998231</td>\n",
       "      <td>0.574162</td>\n",
       "    </tr>\n",
       "    <tr>\n",
       "      <th>6</th>\n",
       "      <td>0.100</td>\n",
       "      <td>None</td>\n",
       "      <td>0.159091</td>\n",
       "      <td>0.218750</td>\n",
       "      <td>0.987244</td>\n",
       "      <td>0.664665</td>\n",
       "    </tr>\n",
       "    <tr>\n",
       "      <th>10</th>\n",
       "      <td>0.050</td>\n",
       "      <td>ros</td>\n",
       "      <td>0.137255</td>\n",
       "      <td>0.197183</td>\n",
       "      <td>0.985196</td>\n",
       "      <td>0.662709</td>\n",
       "    </tr>\n",
       "    <tr>\n",
       "      <th>9</th>\n",
       "      <td>0.050</td>\n",
       "      <td>None</td>\n",
       "      <td>0.111111</td>\n",
       "      <td>0.173913</td>\n",
       "      <td>0.978399</td>\n",
       "      <td>0.682123</td>\n",
       "    </tr>\n",
       "    <tr>\n",
       "      <th>13</th>\n",
       "      <td>0.010</td>\n",
       "      <td>ros</td>\n",
       "      <td>0.084211</td>\n",
       "      <td>0.139130</td>\n",
       "      <td>0.962568</td>\n",
       "      <td>0.675698</td>\n",
       "    </tr>\n",
       "    <tr>\n",
       "      <th>16</th>\n",
       "      <td>0.005</td>\n",
       "      <td>ros</td>\n",
       "      <td>0.067797</td>\n",
       "      <td>0.115942</td>\n",
       "      <td>0.958565</td>\n",
       "      <td>0.669274</td>\n",
       "    </tr>\n",
       "    <tr>\n",
       "      <th>19</th>\n",
       "      <td>0.001</td>\n",
       "      <td>ros</td>\n",
       "      <td>0.057143</td>\n",
       "      <td>0.100000</td>\n",
       "      <td>0.937053</td>\n",
       "      <td>0.663128</td>\n",
       "    </tr>\n",
       "    <tr>\n",
       "      <th>12</th>\n",
       "      <td>0.010</td>\n",
       "      <td>None</td>\n",
       "      <td>0.044304</td>\n",
       "      <td>0.083333</td>\n",
       "      <td>0.922998</td>\n",
       "      <td>0.765642</td>\n",
       "    </tr>\n",
       "    <tr>\n",
       "      <th>2</th>\n",
       "      <td>1.000</td>\n",
       "      <td>rus</td>\n",
       "      <td>0.033708</td>\n",
       "      <td>0.064982</td>\n",
       "      <td>0.859032</td>\n",
       "      <td>0.805866</td>\n",
       "    </tr>\n",
       "    <tr>\n",
       "      <th>5</th>\n",
       "      <td>0.500</td>\n",
       "      <td>rus</td>\n",
       "      <td>0.032787</td>\n",
       "      <td>0.063269</td>\n",
       "      <td>0.856611</td>\n",
       "      <td>0.801676</td>\n",
       "    </tr>\n",
       "    <tr>\n",
       "      <th>8</th>\n",
       "      <td>0.100</td>\n",
       "      <td>rus</td>\n",
       "      <td>0.031972</td>\n",
       "      <td>0.061750</td>\n",
       "      <td>0.852886</td>\n",
       "      <td>0.797765</td>\n",
       "    </tr>\n",
       "    <tr>\n",
       "      <th>20</th>\n",
       "      <td>0.001</td>\n",
       "      <td>rus</td>\n",
       "      <td>0.031634</td>\n",
       "      <td>0.061121</td>\n",
       "      <td>0.853259</td>\n",
       "      <td>0.796089</td>\n",
       "    </tr>\n",
       "    <tr>\n",
       "      <th>11</th>\n",
       "      <td>0.050</td>\n",
       "      <td>rus</td>\n",
       "      <td>0.031524</td>\n",
       "      <td>0.060914</td>\n",
       "      <td>0.852328</td>\n",
       "      <td>0.795531</td>\n",
       "    </tr>\n",
       "    <tr>\n",
       "      <th>14</th>\n",
       "      <td>0.010</td>\n",
       "      <td>rus</td>\n",
       "      <td>0.031414</td>\n",
       "      <td>0.060708</td>\n",
       "      <td>0.852048</td>\n",
       "      <td>0.794972</td>\n",
       "    </tr>\n",
       "    <tr>\n",
       "      <th>17</th>\n",
       "      <td>0.005</td>\n",
       "      <td>rus</td>\n",
       "      <td>0.031414</td>\n",
       "      <td>0.060708</td>\n",
       "      <td>0.852048</td>\n",
       "      <td>0.794972</td>\n",
       "    </tr>\n",
       "    <tr>\n",
       "      <th>15</th>\n",
       "      <td>0.005</td>\n",
       "      <td>None</td>\n",
       "      <td>0.027650</td>\n",
       "      <td>0.053651</td>\n",
       "      <td>0.838361</td>\n",
       "      <td>0.773184</td>\n",
       "    </tr>\n",
       "    <tr>\n",
       "      <th>18</th>\n",
       "      <td>0.001</td>\n",
       "      <td>None</td>\n",
       "      <td>0.011074</td>\n",
       "      <td>0.021906</td>\n",
       "      <td>0.500745</td>\n",
       "      <td>0.501117</td>\n",
       "    </tr>\n",
       "  </tbody>\n",
       "</table>\n",
       "</div>"
      ],
      "text/plain": [
       "    LogReg_C_value Sampler  Precision  F1_score  Train_auc  Test_auc\n",
       "3            0.500    None   0.428571  0.352941   0.996741  0.647765\n",
       "4            0.500     ros   0.384615  0.303030   0.997207  0.622765\n",
       "1            1.000     ros   0.750000  0.250000   0.998417  0.574721\n",
       "7            0.100     ros   0.184211  0.241379   0.990410  0.666341\n",
       "0            1.000    None   0.500000  0.230769   0.998231  0.574162\n",
       "6            0.100    None   0.159091  0.218750   0.987244  0.664665\n",
       "10           0.050     ros   0.137255  0.197183   0.985196  0.662709\n",
       "9            0.050    None   0.111111  0.173913   0.978399  0.682123\n",
       "13           0.010     ros   0.084211  0.139130   0.962568  0.675698\n",
       "16           0.005     ros   0.067797  0.115942   0.958565  0.669274\n",
       "19           0.001     ros   0.057143  0.100000   0.937053  0.663128\n",
       "12           0.010    None   0.044304  0.083333   0.922998  0.765642\n",
       "2            1.000     rus   0.033708  0.064982   0.859032  0.805866\n",
       "5            0.500     rus   0.032787  0.063269   0.856611  0.801676\n",
       "8            0.100     rus   0.031972  0.061750   0.852886  0.797765\n",
       "20           0.001     rus   0.031634  0.061121   0.853259  0.796089\n",
       "11           0.050     rus   0.031524  0.060914   0.852328  0.795531\n",
       "14           0.010     rus   0.031414  0.060708   0.852048  0.794972\n",
       "17           0.005     rus   0.031414  0.060708   0.852048  0.794972\n",
       "15           0.005    None   0.027650  0.053651   0.838361  0.773184\n",
       "18           0.001    None   0.011074  0.021906   0.500745  0.501117"
      ]
     },
     "execution_count": 17,
     "metadata": {},
     "output_type": "execute_result"
    }
   ],
   "source": [
    "LR_HPtable = pd.DataFrame.from_dict(LR_dict) \n",
    "LR_HPtable.sort_values(by='F1_score', ascending=False, inplace=True)\n",
    "LR_HPtable"
   ]
  },
  {
   "cell_type": "markdown",
   "metadata": {},
   "source": [
    "**WHAT IS THE BEST SCORE TO USE? PRECISION, AUC, SOMETHING IN THE MIDDLE?**"
   ]
  },
  {
   "cell_type": "code",
   "execution_count": 18,
   "metadata": {},
   "outputs": [
    {
     "data": {
      "image/png": "[encoded data removed]",
      "text/plain": [
       "<Figure size 432x288 with 1 Axes>"
      ]
     },
     "metadata": {
      "needs_background": "light"
     },
     "output_type": "display_data"
    }
   ],
   "source": [
    "best_LR_model_precision.fit(X_train, y_train)\n",
    "best_LR_pred = best_LR_model_precision.predict(X_test)\n",
    "best_LR_cm_test = confusion_matrix(y_test, best_LR_pred)\n",
    "fig, ax = plot_confusion_matrix(conf_mat=best_LR_cm_test)\n",
    "plt.title('Optimizing for Precision in LR')\n",
    "plt.show()"
   ]
  },
  {
   "cell_type": "code",
   "execution_count": 19,
   "metadata": {},
   "outputs": [
    {
     "data": {
      "image/png": "[encoded data removed]",
      "text/plain": [
       "<Figure size 432x288 with 1 Axes>"
      ]
     },
     "metadata": {
      "needs_background": "light"
     },
     "output_type": "display_data"
    }
   ],
   "source": [
    "best_LR_model_F1.fit(X_train, y_train)\n",
    "best_LR_pred = best_LR_model_F1.predict(X_test)\n",
    "best_LR_cm_test = confusion_matrix(y_test, best_LR_pred)\n",
    "fig, ax = plot_confusion_matrix(conf_mat=best_LR_cm_test)\n",
    "plt.title('Optimizing for F1 score in LR')\n",
    "plt.show()"
   ]
  },
  {
   "cell_type": "code",
   "execution_count": 20,
   "metadata": {},
   "outputs": [
    {
     "data": {
      "image/png": "[encoded data removed]",
      "text/plain": [
       "<Figure size 432x288 with 1 Axes>"
      ]
     },
     "metadata": {
      "needs_background": "light"
     },
     "output_type": "display_data"
    }
   ],
   "source": [
    "best_LR_model_auc.fit(X_train, y_train)\n",
    "best_LR_pred = best_LR_model_auc.predict(X_test)\n",
    "best_LR_cm_test = confusion_matrix(y_test, best_LR_pred)\n",
    "fig, ax = plot_confusion_matrix(conf_mat=best_LR_cm_test)\n",
    "plt.title('Optimizing for roc_auc in LR')\n",
    "plt.show()"
   ]
  },
  {
   "cell_type": "markdown",
   "metadata": {},
   "source": [
    "For now I will use F1 score (2 * (precision * recall) / (precision + recall)) for the following models"
   ]
  },
  {
   "cell_type": "markdown",
   "metadata": {},
   "source": [
    "Now I will test the LinearSVC model, as SVC took too long to train"
   ]
  },
  {
   "cell_type": "code",
   "execution_count": 21,
   "metadata": {},
   "outputs": [],
   "source": [
    "C = [1, 0.5, 0.1, 0.05, 0.01, 0.005, 0.001]"
   ]
  },
  {
   "cell_type": "code",
   "execution_count": 22,
   "metadata": {},
   "outputs": [],
   "source": [
    "samplers = ['None', 'ros', 'rus']"
   ]
  },
  {
   "cell_type": "code",
   "execution_count": 23,
   "metadata": {},
   "outputs": [
    {
     "data": {
      "text/plain": [
       "[(1, 'None'),\n",
       " (1, 'ros'),\n",
       " (1, 'rus'),\n",
       " (0.5, 'None'),\n",
       " (0.5, 'ros'),\n",
       " (0.5, 'rus'),\n",
       " (0.1, 'None'),\n",
       " (0.1, 'ros'),\n",
       " (0.1, 'rus'),\n",
       " (0.05, 'None'),\n",
       " (0.05, 'ros'),\n",
       " (0.05, 'rus'),\n",
       " (0.01, 'None'),\n",
       " (0.01, 'ros'),\n",
       " (0.01, 'rus'),\n",
       " (0.005, 'None'),\n",
       " (0.005, 'ros'),\n",
       " (0.005, 'rus'),\n",
       " (0.001, 'None'),\n",
       " (0.001, 'ros'),\n",
       " (0.001, 'rus')]"
      ]
     },
     "execution_count": 23,
     "metadata": {},
     "output_type": "execute_result"
    }
   ],
   "source": [
    "hyperparameters = list(itertools.product(\n",
    "                        C, samplers\n",
    "))\n",
    "\n",
    "hyperparameters"
   ]
  },
  {
   "cell_type": "code",
   "execution_count": 24,
   "metadata": {},
   "outputs": [
    {
     "name": "stdout",
     "output_type": "stream",
     "text": [
      "0\n",
      "1\n",
      "2\n",
      "3\n",
      "4\n",
      "5\n",
      "6\n",
      "7\n",
      "8\n",
      "9\n",
      "10\n",
      "11\n",
      "12\n",
      "13\n",
      "14\n",
      "15\n",
      "16\n",
      "17\n",
      "18\n",
      "19\n",
      "20\n"
     ]
    }
   ],
   "source": [
    "# Initializing a dictionary with keys corresponding to the hyperparameters I am testing, \n",
    "# as well as my results on the train and test sets\n",
    "SVC_dict = {'SVC_C_value' : [],\n",
    "            'Sampler': [],\n",
    "            'F1_score_train': [],\n",
    "            'F1_score_test': []}\n",
    "\n",
    "run = 0\n",
    "best_score_F1 = 0\n",
    "best_SVC_model = None\n",
    "\n",
    "for C_value, sampler_type in hyperparameters:\n",
    "\n",
    "    # Counting what iteration I am on\n",
    "    print(run)\n",
    "    run += 1\n",
    "    \n",
    "    # Appending the parameters for this run to my dictionary\n",
    "    SVC_dict['SVC_C_value'].append(C_value)\n",
    "    SVC_dict['Sampler'].append(sampler_type)\n",
    "\n",
    "    # Making pipelines for each sampler type, with the C value used within\n",
    "    if sampler_type == 'rus':\n",
    "        pipe = Pipeline(steps=[\n",
    "            ('rus', RandomUnderSampler(random_state=21)),\n",
    "            ('SVC', LinearSVC(C=C_value))\n",
    "            ])\n",
    "\n",
    "    elif sampler_type == 'ros':\n",
    "        pipe = Pipeline(steps=[\n",
    "            ('ros', RandomOverSampler(random_state=21)),\n",
    "            ('SVC', LinearSVC(C=C_value))\n",
    "            ])\n",
    "\n",
    "    else:\n",
    "        pipe = Pipeline(steps=[\n",
    "            ('SVC', LinearSVC(class_weight={0:1, 1:99}, C=C_value))\n",
    "            ])\n",
    "\n",
    "    # Fitting the pipeline to the train set and predicting on both train and test sets\n",
    "    pipe.fit(X_train, y_train)\n",
    "    pipe_train_pred = pipe.predict(X_train)\n",
    "    pipe_test_pred = pipe.predict(X_test)\n",
    "\n",
    "    # Finding the roc_auc_score for both, I am including precision as in the past \n",
    "    # undersampling has led to awful precision scores\n",
    "    F1_score_train = f1_score(y_train, pipe_train_pred)\n",
    "    F1_score_test = f1_score(y_test, pipe_test_pred)\n",
    "\n",
    "    # Appending the scores to the dictionary\n",
    "    SVC_dict['F1_score_train'].append(F1_score_train)\n",
    "    SVC_dict['F1_score_test'].append(F1_score_test)\n",
    "\n",
    "\n",
    "    # Saving the best model\n",
    "    if F1_score_test > best_score_F1:\n",
    "        best_score_F1 = F1_score_test\n",
    "        best_SVC_model = pipe"
   ]
  },
  {
   "cell_type": "code",
   "execution_count": 25,
   "metadata": {},
   "outputs": [
    {
     "data": {
      "text/html": [
       "<div>\n",
       "<style scoped>\n",
       "    .dataframe tbody tr th:only-of-type {\n",
       "        vertical-align: middle;\n",
       "    }\n",
       "\n",
       "    .dataframe tbody tr th {\n",
       "        vertical-align: top;\n",
       "    }\n",
       "\n",
       "    .dataframe thead th {\n",
       "        text-align: right;\n",
       "    }\n",
       "</style>\n",
       "<table border=\"1\" class=\"dataframe\">\n",
       "  <thead>\n",
       "    <tr style=\"text-align: right;\">\n",
       "      <th></th>\n",
       "      <th>SVC_C_value</th>\n",
       "      <th>Sampler</th>\n",
       "      <th>F1_score_train</th>\n",
       "      <th>F1_score_test</th>\n",
       "    </tr>\n",
       "  </thead>\n",
       "  <tbody>\n",
       "    <tr>\n",
       "      <th>13</th>\n",
       "      <td>0.010</td>\n",
       "      <td>ros</td>\n",
       "      <td>0.546296</td>\n",
       "      <td>0.241379</td>\n",
       "    </tr>\n",
       "    <tr>\n",
       "      <th>10</th>\n",
       "      <td>0.050</td>\n",
       "      <td>ros</td>\n",
       "      <td>0.825175</td>\n",
       "      <td>0.230769</td>\n",
       "    </tr>\n",
       "    <tr>\n",
       "      <th>12</th>\n",
       "      <td>0.010</td>\n",
       "      <td>None</td>\n",
       "      <td>0.470120</td>\n",
       "      <td>0.222222</td>\n",
       "    </tr>\n",
       "    <tr>\n",
       "      <th>9</th>\n",
       "      <td>0.050</td>\n",
       "      <td>None</td>\n",
       "      <td>0.813793</td>\n",
       "      <td>0.222222</td>\n",
       "    </tr>\n",
       "    <tr>\n",
       "      <th>16</th>\n",
       "      <td>0.005</td>\n",
       "      <td>ros</td>\n",
       "      <td>0.422939</td>\n",
       "      <td>0.202899</td>\n",
       "    </tr>\n",
       "    <tr>\n",
       "      <th>1</th>\n",
       "      <td>1.000</td>\n",
       "      <td>ros</td>\n",
       "      <td>1.000000</td>\n",
       "      <td>0.181818</td>\n",
       "    </tr>\n",
       "    <tr>\n",
       "      <th>0</th>\n",
       "      <td>1.000</td>\n",
       "      <td>None</td>\n",
       "      <td>1.000000</td>\n",
       "      <td>0.181818</td>\n",
       "    </tr>\n",
       "    <tr>\n",
       "      <th>4</th>\n",
       "      <td>0.500</td>\n",
       "      <td>ros</td>\n",
       "      <td>0.991597</td>\n",
       "      <td>0.181818</td>\n",
       "    </tr>\n",
       "    <tr>\n",
       "      <th>3</th>\n",
       "      <td>0.500</td>\n",
       "      <td>None</td>\n",
       "      <td>0.991597</td>\n",
       "      <td>0.181818</td>\n",
       "    </tr>\n",
       "    <tr>\n",
       "      <th>7</th>\n",
       "      <td>0.100</td>\n",
       "      <td>ros</td>\n",
       "      <td>0.914729</td>\n",
       "      <td>0.173913</td>\n",
       "    </tr>\n",
       "    <tr>\n",
       "      <th>6</th>\n",
       "      <td>0.100</td>\n",
       "      <td>None</td>\n",
       "      <td>0.914729</td>\n",
       "      <td>0.173913</td>\n",
       "    </tr>\n",
       "    <tr>\n",
       "      <th>15</th>\n",
       "      <td>0.005</td>\n",
       "      <td>None</td>\n",
       "      <td>0.334278</td>\n",
       "      <td>0.172043</td>\n",
       "    </tr>\n",
       "    <tr>\n",
       "      <th>19</th>\n",
       "      <td>0.001</td>\n",
       "      <td>ros</td>\n",
       "      <td>0.250531</td>\n",
       "      <td>0.143885</td>\n",
       "    </tr>\n",
       "    <tr>\n",
       "      <th>2</th>\n",
       "      <td>1.000</td>\n",
       "      <td>rus</td>\n",
       "      <td>0.075933</td>\n",
       "      <td>0.074074</td>\n",
       "    </tr>\n",
       "    <tr>\n",
       "      <th>18</th>\n",
       "      <td>0.001</td>\n",
       "      <td>None</td>\n",
       "      <td>0.093502</td>\n",
       "      <td>0.073563</td>\n",
       "    </tr>\n",
       "    <tr>\n",
       "      <th>5</th>\n",
       "      <td>0.500</td>\n",
       "      <td>rus</td>\n",
       "      <td>0.073935</td>\n",
       "      <td>0.071563</td>\n",
       "    </tr>\n",
       "    <tr>\n",
       "      <th>8</th>\n",
       "      <td>0.100</td>\n",
       "      <td>rus</td>\n",
       "      <td>0.064375</td>\n",
       "      <td>0.060127</td>\n",
       "    </tr>\n",
       "    <tr>\n",
       "      <th>11</th>\n",
       "      <td>0.050</td>\n",
       "      <td>rus</td>\n",
       "      <td>0.055582</td>\n",
       "      <td>0.052559</td>\n",
       "    </tr>\n",
       "    <tr>\n",
       "      <th>14</th>\n",
       "      <td>0.010</td>\n",
       "      <td>rus</td>\n",
       "      <td>0.032030</td>\n",
       "      <td>0.030376</td>\n",
       "    </tr>\n",
       "    <tr>\n",
       "      <th>17</th>\n",
       "      <td>0.005</td>\n",
       "      <td>rus</td>\n",
       "      <td>0.025327</td>\n",
       "      <td>0.024158</td>\n",
       "    </tr>\n",
       "    <tr>\n",
       "      <th>20</th>\n",
       "      <td>0.001</td>\n",
       "      <td>rus</td>\n",
       "      <td>0.021703</td>\n",
       "      <td>0.022039</td>\n",
       "    </tr>\n",
       "  </tbody>\n",
       "</table>\n",
       "</div>"
      ],
      "text/plain": [
       "    SVC_C_value Sampler  F1_score_train  F1_score_test\n",
       "13        0.010     ros        0.546296       0.241379\n",
       "10        0.050     ros        0.825175       0.230769\n",
       "12        0.010    None        0.470120       0.222222\n",
       "9         0.050    None        0.813793       0.222222\n",
       "16        0.005     ros        0.422939       0.202899\n",
       "1         1.000     ros        1.000000       0.181818\n",
       "0         1.000    None        1.000000       0.181818\n",
       "4         0.500     ros        0.991597       0.181818\n",
       "3         0.500    None        0.991597       0.181818\n",
       "7         0.100     ros        0.914729       0.173913\n",
       "6         0.100    None        0.914729       0.173913\n",
       "15        0.005    None        0.334278       0.172043\n",
       "19        0.001     ros        0.250531       0.143885\n",
       "2         1.000     rus        0.075933       0.074074\n",
       "18        0.001    None        0.093502       0.073563\n",
       "5         0.500     rus        0.073935       0.071563\n",
       "8         0.100     rus        0.064375       0.060127\n",
       "11        0.050     rus        0.055582       0.052559\n",
       "14        0.010     rus        0.032030       0.030376\n",
       "17        0.005     rus        0.025327       0.024158\n",
       "20        0.001     rus        0.021703       0.022039"
      ]
     },
     "execution_count": 25,
     "metadata": {},
     "output_type": "execute_result"
    }
   ],
   "source": [
    "SVC_HPtable = pd.DataFrame.from_dict(SVC_dict) \n",
    "SVC_HPtable.sort_values(by='F1_score_test', ascending=False, inplace=True)\n",
    "SVC_HPtable"
   ]
  },
  {
   "cell_type": "code",
   "execution_count": 26,
   "metadata": {},
   "outputs": [
    {
     "data": {
      "image/png": "[encoded data removed]",
      "text/plain": [
       "<Figure size 432x288 with 1 Axes>"
      ]
     },
     "metadata": {
      "needs_background": "light"
     },
     "output_type": "display_data"
    }
   ],
   "source": [
    "best_SVC_model.fit(X_train, y_train)\n",
    "best_SVC_pred = best_SVC_model.predict(X_test)\n",
    "best_SVC_cm_test = confusion_matrix(y_test, best_SVC_pred)\n",
    "fig, ax = plot_confusion_matrix(conf_mat=best_SVC_cm_test)\n",
    "plt.title('Best SVC Model')\n",
    "plt.show()"
   ]
  },
  {
   "cell_type": "markdown",
   "metadata": {},
   "source": [
    "Now a Random Forest Classifier"
   ]
  },
  {
   "cell_type": "code",
   "execution_count": 27,
   "metadata": {},
   "outputs": [],
   "source": [
    "n_estimators = [int(n) for n in np.logspace(start=2, stop=3, num=5)]"
   ]
  },
  {
   "cell_type": "code",
   "execution_count": 28,
   "metadata": {},
   "outputs": [],
   "source": [
    "samplers = ['None', 'ros', 'rus']"
   ]
  },
  {
   "cell_type": "code",
   "execution_count": 29,
   "metadata": {},
   "outputs": [
    {
     "data": {
      "text/plain": [
       "[(100, 'None'),\n",
       " (100, 'ros'),\n",
       " (100, 'rus'),\n",
       " (177, 'None'),\n",
       " (177, 'ros'),\n",
       " (177, 'rus'),\n",
       " (316, 'None'),\n",
       " (316, 'ros'),\n",
       " (316, 'rus'),\n",
       " (562, 'None'),\n",
       " (562, 'ros'),\n",
       " (562, 'rus'),\n",
       " (1000, 'None'),\n",
       " (1000, 'ros'),\n",
       " (1000, 'rus')]"
      ]
     },
     "execution_count": 29,
     "metadata": {},
     "output_type": "execute_result"
    }
   ],
   "source": [
    "hyperparameters = list(itertools.product(\n",
    "                        n_estimators, samplers\n",
    "))\n",
    "\n",
    "hyperparameters"
   ]
  },
  {
   "cell_type": "code",
   "execution_count": 30,
   "metadata": {},
   "outputs": [
    {
     "name": "stdout",
     "output_type": "stream",
     "text": [
      "0\n",
      "1\n",
      "2\n",
      "3\n",
      "4\n",
      "5\n",
      "6\n",
      "7\n",
      "8\n",
      "9\n",
      "10\n",
      "11\n",
      "12\n",
      "13\n",
      "14\n"
     ]
    }
   ],
   "source": [
    "# Initializing a dictionary with keys corresponding to the hyperparameters I am testing, \n",
    "# as well as my results on the train and test sets\n",
    "RFC_dict = {'n_estimators': [],\n",
    "            'Sampler': [],\n",
    "            'F1_score_train': [],\n",
    "            'F1_score_test': []}\n",
    "\n",
    "run = 0\n",
    "best_score_F1 = 0\n",
    "best_RFC_model = None\n",
    "\n",
    "for n_estimator, sampler_type in hyperparameters:\n",
    "\n",
    "    # Counting what iteration I am on\n",
    "    print(run)\n",
    "    run += 1\n",
    "    \n",
    "    # Appending the parameters for this run to my dictionary\n",
    "    RFC_dict['Sampler'].append(sampler_type)\n",
    "    RFC_dict['n_estimators'].append(n_estimator)\n",
    "\n",
    "    # Making pipelines for each sampler type, with the n_estimator value used within\n",
    "    if sampler_type == 'rus':\n",
    "        pipe = Pipeline(steps=[\n",
    "            ('rus', RandomUnderSampler(random_state=21)),\n",
    "            ('RFC', RandomForestClassifier(n_estimators=n_estimator))\n",
    "            ])\n",
    "\n",
    "    elif sampler_type == 'ros':\n",
    "        pipe = Pipeline(steps=[\n",
    "            ('ros', RandomOverSampler(random_state=21)),\n",
    "            ('RFC', RandomForestClassifier(n_estimators=n_estimator))\n",
    "            ])\n",
    "\n",
    "    else:\n",
    "        pipe = Pipeline(steps=[\n",
    "            ('RFC', RandomForestClassifier(n_estimators=n_estimator, class_weight=\"balanced_subsample\"))\n",
    "            ])\n",
    "\n",
    "    # Fitting the pipeline to the train set and predicting on both train and test sets\n",
    "    pipe.fit(X_train, y_train)\n",
    "    pipe_train_pred = pipe.predict(X_train)\n",
    "    pipe_test_pred = pipe.predict(X_test)\n",
    "\n",
    "    # Finding the roc_auc_score for both, I am including precision as in the past \n",
    "    # undersampling has led to awful precision scores\n",
    "    F1_score_train = f1_score(y_train, pipe_train_pred)\n",
    "    F1_score_test = f1_score(y_test, pipe_test_pred)\n",
    "\n",
    "    # Appending the scores to the dictionary\n",
    "    RFC_dict['F1_score_train'].append(F1_score_train)\n",
    "    RFC_dict['F1_score_test'].append(F1_score_test)\n",
    "\n",
    "\n",
    "    # Saving the best model\n",
    "    if F1_score_test > best_score_F1:\n",
    "        best_score_F1 = F1_score_test\n",
    "        best_RFC_model = pipe"
   ]
  },
  {
   "cell_type": "code",
   "execution_count": 31,
   "metadata": {},
   "outputs": [
    {
     "data": {
      "text/html": [
       "<div>\n",
       "<style scoped>\n",
       "    .dataframe tbody tr th:only-of-type {\n",
       "        vertical-align: middle;\n",
       "    }\n",
       "\n",
       "    .dataframe tbody tr th {\n",
       "        vertical-align: top;\n",
       "    }\n",
       "\n",
       "    .dataframe thead th {\n",
       "        text-align: right;\n",
       "    }\n",
       "</style>\n",
       "<table border=\"1\" class=\"dataframe\">\n",
       "  <thead>\n",
       "    <tr style=\"text-align: right;\">\n",
       "      <th></th>\n",
       "      <th>n_estimators</th>\n",
       "      <th>Sampler</th>\n",
       "      <th>F1_score_train</th>\n",
       "      <th>F1_score_test</th>\n",
       "    </tr>\n",
       "  </thead>\n",
       "  <tbody>\n",
       "    <tr>\n",
       "      <th>8</th>\n",
       "      <td>316</td>\n",
       "      <td>rus</td>\n",
       "      <td>0.121524</td>\n",
       "      <td>0.115016</td>\n",
       "    </tr>\n",
       "    <tr>\n",
       "      <th>11</th>\n",
       "      <td>562</td>\n",
       "      <td>rus</td>\n",
       "      <td>0.109972</td>\n",
       "      <td>0.109195</td>\n",
       "    </tr>\n",
       "    <tr>\n",
       "      <th>14</th>\n",
       "      <td>1000</td>\n",
       "      <td>rus</td>\n",
       "      <td>0.115686</td>\n",
       "      <td>0.108571</td>\n",
       "    </tr>\n",
       "    <tr>\n",
       "      <th>2</th>\n",
       "      <td>100</td>\n",
       "      <td>rus</td>\n",
       "      <td>0.108656</td>\n",
       "      <td>0.092545</td>\n",
       "    </tr>\n",
       "    <tr>\n",
       "      <th>5</th>\n",
       "      <td>177</td>\n",
       "      <td>rus</td>\n",
       "      <td>0.076973</td>\n",
       "      <td>0.062992</td>\n",
       "    </tr>\n",
       "    <tr>\n",
       "      <th>0</th>\n",
       "      <td>100</td>\n",
       "      <td>None</td>\n",
       "      <td>0.991453</td>\n",
       "      <td>0.000000</td>\n",
       "    </tr>\n",
       "    <tr>\n",
       "      <th>1</th>\n",
       "      <td>100</td>\n",
       "      <td>ros</td>\n",
       "      <td>1.000000</td>\n",
       "      <td>0.000000</td>\n",
       "    </tr>\n",
       "    <tr>\n",
       "      <th>3</th>\n",
       "      <td>177</td>\n",
       "      <td>None</td>\n",
       "      <td>1.000000</td>\n",
       "      <td>0.000000</td>\n",
       "    </tr>\n",
       "    <tr>\n",
       "      <th>4</th>\n",
       "      <td>177</td>\n",
       "      <td>ros</td>\n",
       "      <td>1.000000</td>\n",
       "      <td>0.000000</td>\n",
       "    </tr>\n",
       "    <tr>\n",
       "      <th>6</th>\n",
       "      <td>316</td>\n",
       "      <td>None</td>\n",
       "      <td>1.000000</td>\n",
       "      <td>0.000000</td>\n",
       "    </tr>\n",
       "    <tr>\n",
       "      <th>7</th>\n",
       "      <td>316</td>\n",
       "      <td>ros</td>\n",
       "      <td>1.000000</td>\n",
       "      <td>0.000000</td>\n",
       "    </tr>\n",
       "    <tr>\n",
       "      <th>9</th>\n",
       "      <td>562</td>\n",
       "      <td>None</td>\n",
       "      <td>1.000000</td>\n",
       "      <td>0.000000</td>\n",
       "    </tr>\n",
       "    <tr>\n",
       "      <th>10</th>\n",
       "      <td>562</td>\n",
       "      <td>ros</td>\n",
       "      <td>1.000000</td>\n",
       "      <td>0.000000</td>\n",
       "    </tr>\n",
       "    <tr>\n",
       "      <th>12</th>\n",
       "      <td>1000</td>\n",
       "      <td>None</td>\n",
       "      <td>1.000000</td>\n",
       "      <td>0.000000</td>\n",
       "    </tr>\n",
       "    <tr>\n",
       "      <th>13</th>\n",
       "      <td>1000</td>\n",
       "      <td>ros</td>\n",
       "      <td>1.000000</td>\n",
       "      <td>0.000000</td>\n",
       "    </tr>\n",
       "  </tbody>\n",
       "</table>\n",
       "</div>"
      ],
      "text/plain": [
       "    n_estimators Sampler  F1_score_train  F1_score_test\n",
       "8            316     rus        0.121524       0.115016\n",
       "11           562     rus        0.109972       0.109195\n",
       "14          1000     rus        0.115686       0.108571\n",
       "2            100     rus        0.108656       0.092545\n",
       "5            177     rus        0.076973       0.062992\n",
       "0            100    None        0.991453       0.000000\n",
       "1            100     ros        1.000000       0.000000\n",
       "3            177    None        1.000000       0.000000\n",
       "4            177     ros        1.000000       0.000000\n",
       "6            316    None        1.000000       0.000000\n",
       "7            316     ros        1.000000       0.000000\n",
       "9            562    None        1.000000       0.000000\n",
       "10           562     ros        1.000000       0.000000\n",
       "12          1000    None        1.000000       0.000000\n",
       "13          1000     ros        1.000000       0.000000"
      ]
     },
     "execution_count": 31,
     "metadata": {},
     "output_type": "execute_result"
    }
   ],
   "source": [
    "RFC_HPtable = pd.DataFrame.from_dict(RFC_dict) \n",
    "RFC_HPtable.sort_values(by='F1_score_test', ascending=False, inplace=True)\n",
    "RFC_HPtable"
   ]
  },
  {
   "cell_type": "code",
   "execution_count": 32,
   "metadata": {},
   "outputs": [
    {
     "data": {
      "image/png": "[encoded data removed]",
      "text/plain": [
       "<Figure size 432x288 with 1 Axes>"
      ]
     },
     "metadata": {
      "needs_background": "light"
     },
     "output_type": "display_data"
    }
   ],
   "source": [
    "best_RFC_model.fit(X_train, y_train)\n",
    "best_RFC_pred = best_RFC_model.predict(X_test)\n",
    "best_RFC_cm_test = confusion_matrix(y_test, best_RFC_pred)\n",
    "fig, ax = plot_confusion_matrix(conf_mat=best_RFC_cm_test)\n",
    "plt.title('Best RFC Model')\n",
    "plt.show()"
   ]
  },
  {
   "cell_type": "markdown",
   "metadata": {},
   "source": [
    "**Trying truncatedSVD analysis on LR model**"
   ]
  },
  {
   "cell_type": "code",
   "execution_count": 141,
   "metadata": {},
   "outputs": [],
   "source": [
    "X_train, X_test, y_train, y_test = train_test_split(X, y, random_state=11, train_size=0.75, stratify=y)"
   ]
  },
  {
   "cell_type": "markdown",
   "metadata": {},
   "source": [
    "This paper messed with the SVD analysis, having PCA1 and PCA2 scores 100s of times higher than the others. All I can see is that it is the longest paper by ~10x and contains a lot of newlines"
   ]
  },
  {
   "cell_type": "code",
   "execution_count": 142,
   "metadata": {},
   "outputs": [
    {
     "data": {
      "text/plain": [
       "Oral                                                            0\n",
       "Poster                                                          1\n",
       "Spotlight                                                       0\n",
       "Unknown                                                         0\n",
       "avg_word_len                                             4.553913\n",
       "paper_len                                                  123727\n",
       "paper_text      Learning Multiagent Communication\\nwith Backpr...\n",
       "title_len                                                      54\n",
       "year                                                         2016\n",
       "Name: 2789, dtype: object"
      ]
     },
     "execution_count": 142,
     "metadata": {},
     "output_type": "execute_result"
    }
   ],
   "source": [
    "X_train.iloc[4149]"
   ]
  },
  {
   "cell_type": "code",
   "execution_count": 143,
   "metadata": {},
   "outputs": [
    {
     "data": {
      "text/html": [
       "<div>\n",
       "<style scoped>\n",
       "    .dataframe tbody tr th:only-of-type {\n",
       "        vertical-align: middle;\n",
       "    }\n",
       "\n",
       "    .dataframe tbody tr th {\n",
       "        vertical-align: top;\n",
       "    }\n",
       "\n",
       "    .dataframe thead th {\n",
       "        text-align: right;\n",
       "    }\n",
       "</style>\n",
       "<table border=\"1\" class=\"dataframe\">\n",
       "  <thead>\n",
       "    <tr style=\"text-align: right;\">\n",
       "      <th></th>\n",
       "      <th>year</th>\n",
       "      <th>paper_text</th>\n",
       "      <th>paper_id</th>\n",
       "      <th>title_len</th>\n",
       "      <th>paper_len</th>\n",
       "      <th>avg_word_len</th>\n",
       "      <th>Oral</th>\n",
       "      <th>Poster</th>\n",
       "      <th>Spotlight</th>\n",
       "      <th>Unknown</th>\n",
       "      <th>is_jordan</th>\n",
       "    </tr>\n",
       "  </thead>\n",
       "  <tbody>\n",
       "    <tr>\n",
       "      <th>2789</th>\n",
       "      <td>2016</td>\n",
       "      <td>Learning Multiagent Communication\\nwith Backpr...</td>\n",
       "      <td>6398</td>\n",
       "      <td>54</td>\n",
       "      <td>123727</td>\n",
       "      <td>4.553913</td>\n",
       "      <td>0</td>\n",
       "      <td>1</td>\n",
       "      <td>0</td>\n",
       "      <td>0</td>\n",
       "      <td>0</td>\n",
       "    </tr>\n",
       "    <tr>\n",
       "      <th>1564</th>\n",
       "      <td>2013</td>\n",
       "      <td>On the Representational Efficiency of Restrict...</td>\n",
       "      <td>5020</td>\n",
       "      <td>67</td>\n",
       "      <td>67731</td>\n",
       "      <td>4.215039</td>\n",
       "      <td>0</td>\n",
       "      <td>1</td>\n",
       "      <td>0</td>\n",
       "      <td>0</td>\n",
       "      <td>0</td>\n",
       "    </tr>\n",
       "    <tr>\n",
       "      <th>1566</th>\n",
       "      <td>2013</td>\n",
       "      <td>A Stability-based Validation Procedure for\\nDi...</td>\n",
       "      <td>5014</td>\n",
       "      <td>82</td>\n",
       "      <td>61615</td>\n",
       "      <td>4.019754</td>\n",
       "      <td>0</td>\n",
       "      <td>1</td>\n",
       "      <td>0</td>\n",
       "      <td>0</td>\n",
       "      <td>0</td>\n",
       "    </tr>\n",
       "    <tr>\n",
       "      <th>5981</th>\n",
       "      <td>1987</td>\n",
       "      <td>317\\n\\nPARTITIONING OF SENSORY DATA BY A CORTI...</td>\n",
       "      <td>44</td>\n",
       "      <td>50</td>\n",
       "      <td>58011</td>\n",
       "      <td>5.471569</td>\n",
       "      <td>0</td>\n",
       "      <td>0</td>\n",
       "      <td>0</td>\n",
       "      <td>1</td>\n",
       "      <td>0</td>\n",
       "    </tr>\n",
       "    <tr>\n",
       "      <th>1781</th>\n",
       "      <td>2017</td>\n",
       "      <td>A Unified Game-Theoretic Approach to\\nMultiage...</td>\n",
       "      <td>7007</td>\n",
       "      <td>70</td>\n",
       "      <td>56172</td>\n",
       "      <td>5.534487</td>\n",
       "      <td>0</td>\n",
       "      <td>1</td>\n",
       "      <td>0</td>\n",
       "      <td>0</td>\n",
       "      <td>0</td>\n",
       "    </tr>\n",
       "  </tbody>\n",
       "</table>\n",
       "</div>"
      ],
      "text/plain": [
       "      year                                         paper_text  paper_id  \\\n",
       "2789  2016  Learning Multiagent Communication\\nwith Backpr...      6398   \n",
       "1564  2013  On the Representational Efficiency of Restrict...      5020   \n",
       "1566  2013  A Stability-based Validation Procedure for\\nDi...      5014   \n",
       "5981  1987  317\\n\\nPARTITIONING OF SENSORY DATA BY A CORTI...        44   \n",
       "1781  2017  A Unified Game-Theoretic Approach to\\nMultiage...      7007   \n",
       "\n",
       "      title_len  paper_len  avg_word_len  Oral  Poster  Spotlight  Unknown  \\\n",
       "2789         54     123727      4.553913     0       1          0        0   \n",
       "1564         67      67731      4.215039     0       1          0        0   \n",
       "1566         82      61615      4.019754     0       1          0        0   \n",
       "5981         50      58011      5.471569     0       0          0        1   \n",
       "1781         70      56172      5.534487     0       1          0        0   \n",
       "\n",
       "      is_jordan  \n",
       "2789          0  \n",
       "1564          0  \n",
       "1566          0  \n",
       "5981          0  \n",
       "1781          0  "
      ]
     },
     "execution_count": 143,
     "metadata": {},
     "output_type": "execute_result"
    }
   ],
   "source": [
    "new_df= df.sort_values(by='paper_len', ascending=False).head()\n",
    "new_df"
   ]
  },
  {
   "cell_type": "code",
   "execution_count": 144,
   "metadata": {},
   "outputs": [],
   "source": [
    "tfidf = TfidfVectorizer()\n",
    "\n",
    "X_train = tfidf.fit_transform(X_train.paper_text)\n",
    "X_test = tfidf.transform(X_test.paper_text)"
   ]
  },
  {
   "cell_type": "code",
   "execution_count": 145,
   "metadata": {},
   "outputs": [],
   "source": [
    "standard_scaler = StandardScaler(with_mean=False)\n",
    "\n",
    "X_train = standard_scaler.fit_transform(X_train)\n",
    "X_test = standard_scaler.transform(X_test)"
   ]
  },
  {
   "cell_type": "code",
   "execution_count": 146,
   "metadata": {},
   "outputs": [],
   "source": [
    "tSVD = TruncatedSVD(n_components=2, random_state=21)\n",
    "\n",
    "X_train = tSVD.fit_transform(X_train)\n",
    "X_test = tSVD.transform(X_test)"
   ]
  },
  {
   "cell_type": "code",
   "execution_count": 147,
   "metadata": {},
   "outputs": [],
   "source": [
    "PCAdf = pd.DataFrame(data=X_train, columns = ['PC1', 'PC2'])\n",
    "y_df = pd.DataFrame(data=y_train, columns=['is_Jordan'])\n",
    "\n",
    "PCAdf = pd.concat([PCAdf, y_df], axis = 1)\n",
    "PCAdf.sort_values(by='is_Jordan', ascending=True, inplace=True)\n",
    "PCAdf.drop(4149, inplace=True)"
   ]
  },
  {
   "cell_type": "code",
   "execution_count": 148,
   "metadata": {},
   "outputs": [
    {
     "data": {
      "image/png": "[encoded data removed]",
      "text/plain": [
       "<Figure size 432x288 with 1 Axes>"
      ]
     },
     "metadata": {
      "needs_background": "light"
     },
     "output_type": "display_data"
    }
   ],
   "source": [
    "x_axis = PCAdf.PC1\n",
    "y_axis = PCAdf.PC2\n",
    "\n",
    "plt.subplots()\n",
    "sns.scatterplot(x=x_axis, y=y_axis, hue=PCAdf.is_Jordan, data=PCAdf)\n",
    "plt.show()"
   ]
  },
  {
   "cell_type": "markdown",
   "metadata": {},
   "source": [
    "Seeing what TruncatedSVD does to the LR model"
   ]
  },
  {
   "cell_type": "code",
   "execution_count": 247,
   "metadata": {},
   "outputs": [],
   "source": [
    "X_train, X_test, y_train, y_test = train_test_split(X, y, random_state=11, train_size=0.75, stratify=y)"
   ]
  },
  {
   "cell_type": "code",
   "execution_count": 248,
   "metadata": {},
   "outputs": [],
   "source": [
    "tfidf = TfidfVectorizer()\n",
    "\n",
    "X_train = tfidf.fit_transform(X_train.paper_text)\n",
    "X_test = tfidf.transform(X_test.paper_text)"
   ]
  },
  {
   "cell_type": "code",
   "execution_count": 249,
   "metadata": {},
   "outputs": [],
   "source": [
    "standard_scaler = StandardScaler(with_mean=False)\n",
    "\n",
    "X_train = standard_scaler.fit_transform(X_train)\n",
    "X_test = standard_scaler.transform(X_test)"
   ]
  },
  {
   "cell_type": "code",
   "execution_count": 250,
   "metadata": {},
   "outputs": [],
   "source": [
    "tSVD = TruncatedSVD(n_components=10, random_state=21)\n",
    "\n",
    "X_train = tSVD.fit_transform(X_train)\n",
    "X_test = tSVD.transform(X_test)"
   ]
  },
  {
   "cell_type": "code",
   "execution_count": 251,
   "metadata": {},
   "outputs": [],
   "source": [
    "pipe = Pipeline(steps=[\n",
    "            ('LR', LogisticRegression(class_weight={0:1, 1:99}, C=0.5))\n",
    "            ])"
   ]
  },
  {
   "cell_type": "code",
   "execution_count": 252,
   "metadata": {},
   "outputs": [],
   "source": [
    "pipe.fit(X_train, y_train)\n",
    "\n",
    "pipe_train_pred = pipe.predict(X_train)\n",
    "pipe_test_pred = pipe.predict(X_test)"
   ]
  },
  {
   "cell_type": "code",
   "execution_count": 253,
   "metadata": {},
   "outputs": [
    {
     "name": "stdout",
     "output_type": "stream",
     "text": [
      "0.025550421310138627\n",
      "0.018166804293971925\n"
     ]
    }
   ],
   "source": [
    "F1_score_train = f1_score(y_train, pipe_train_pred)\n",
    "F1_score_test = f1_score(y_test, pipe_test_pred)\n",
    "print(F1_score_train)\n",
    "print(F1_score_test)"
   ]
  },
  {
   "cell_type": "code",
   "execution_count": 254,
   "metadata": {},
   "outputs": [
    {
     "data": {
      "image/png": "[encoded data removed]",
      "text/plain": [
       "<Figure size 432x288 with 1 Axes>"
      ]
     },
     "metadata": {
      "needs_background": "light"
     },
     "output_type": "display_data"
    }
   ],
   "source": [
    "SVD_test = confusion_matrix(y_test, pipe_test_pred)\n",
    "fig, ax = plot_confusion_matrix(conf_mat=SVD_test)\n",
    "plt.title('Linear Regression + SVD')\n",
    "plt.show()"
   ]
  }
 ],
 "metadata": {
  "kernelspec": {
   "display_name": "Python 3.9.13 ('Springboard_Capstone_1')",
   "language": "python",
   "name": "python3"
  },
  "language_info": {
   "codemirror_mode": {
    "name": "ipython",
    "version": 3
   },
   "file_extension": ".py",
   "mimetype": "text/x-python",
   "name": "python",
   "nbconvert_exporter": "python",
   "pygments_lexer": "ipython3",
   "version": "3.9.13"
  },
  "orig_nbformat": 4,
  "vscode": {
   "interpreter": {
    "hash": "918dc82fcda072602f7dedc1715dd52bd51c73a6bbc48592bc491021bad55eb4"
   }
  }
 },
 "nbformat": 4,
 "nbformat_minor": 2
}
