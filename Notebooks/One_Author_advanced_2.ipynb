{
 "cells": [
  {
   "cell_type": "markdown",
   "metadata": {},
   "source": [
    "**This is a continuation of the One Author Advanced Project, made to help keep things straight**"
   ]
  },
  {
   "cell_type": "code",
   "execution_count": 1,
   "metadata": {},
   "outputs": [],
   "source": [
    "import pandas as pd\n",
    "import os\n",
    "import numpy as np\n",
    "from imblearn.pipeline import Pipeline\n",
    "from sklearn.model_selection import train_test_split\n",
    "from sklearn.feature_extraction.text import TfidfVectorizer\n",
    "from sklearn.linear_model import LogisticRegression\n",
    "from sklearn.metrics import accuracy_score, confusion_matrix, roc_auc_score, recall_score, precision_score\n",
    "import matplotlib.pyplot as plt\n",
    "from mlxtend.plotting import plot_confusion_matrix\n",
    "from imblearn.over_sampling import RandomOverSampler\n",
    "from imblearn.under_sampling import RandomUnderSampler\n",
    "import itertools"
   ]
  },
  {
   "cell_type": "code",
   "execution_count": 2,
   "metadata": {},
   "outputs": [
    {
     "data": {
      "text/html": [
       "<div>\n",
       "<style scoped>\n",
       "    .dataframe tbody tr th:only-of-type {\n",
       "        vertical-align: middle;\n",
       "    }\n",
       "\n",
       "    .dataframe tbody tr th {\n",
       "        vertical-align: top;\n",
       "    }\n",
       "\n",
       "    .dataframe thead th {\n",
       "        text-align: right;\n",
       "    }\n",
       "</style>\n",
       "<table border=\"1\" class=\"dataframe\">\n",
       "  <thead>\n",
       "    <tr style=\"text-align: right;\">\n",
       "      <th></th>\n",
       "      <th>year</th>\n",
       "      <th>paper_text</th>\n",
       "      <th>paper_id</th>\n",
       "      <th>title_len</th>\n",
       "      <th>paper_len</th>\n",
       "      <th>avg_word_len</th>\n",
       "      <th>Oral</th>\n",
       "      <th>Poster</th>\n",
       "      <th>Spotlight</th>\n",
       "      <th>Unknown</th>\n",
       "      <th>is_jordan</th>\n",
       "    </tr>\n",
       "  </thead>\n",
       "  <tbody>\n",
       "    <tr>\n",
       "      <th>0</th>\n",
       "      <td>2001</td>\n",
       "      <td>Minimax Probability Machine\\n\\nGert R.G. Lanck...</td>\n",
       "      <td>2036</td>\n",
       "      <td>27</td>\n",
       "      <td>17323</td>\n",
       "      <td>4.635348</td>\n",
       "      <td>0</td>\n",
       "      <td>0</td>\n",
       "      <td>0</td>\n",
       "      <td>1</td>\n",
       "      <td>1</td>\n",
       "    </tr>\n",
       "    <tr>\n",
       "      <th>1</th>\n",
       "      <td>2003</td>\n",
       "      <td>On the concentration of expectation and\\nappro...</td>\n",
       "      <td>2411</td>\n",
       "      <td>81</td>\n",
       "      <td>25777</td>\n",
       "      <td>4.540640</td>\n",
       "      <td>0</td>\n",
       "      <td>0</td>\n",
       "      <td>0</td>\n",
       "      <td>1</td>\n",
       "      <td>1</td>\n",
       "    </tr>\n",
       "    <tr>\n",
       "      <th>2</th>\n",
       "      <td>1994</td>\n",
       "      <td>An Alternative Model for Mixtures of\\nExperts\\...</td>\n",
       "      <td>906</td>\n",
       "      <td>44</td>\n",
       "      <td>17802</td>\n",
       "      <td>4.856669</td>\n",
       "      <td>0</td>\n",
       "      <td>0</td>\n",
       "      <td>0</td>\n",
       "      <td>1</td>\n",
       "      <td>1</td>\n",
       "    </tr>\n",
       "    <tr>\n",
       "      <th>3</th>\n",
       "      <td>2011</td>\n",
       "      <td>Divide-and-Conquer Matrix Factorization\\nLeste...</td>\n",
       "      <td>4486</td>\n",
       "      <td>39</td>\n",
       "      <td>30128</td>\n",
       "      <td>4.695537</td>\n",
       "      <td>0</td>\n",
       "      <td>0</td>\n",
       "      <td>0</td>\n",
       "      <td>1</td>\n",
       "      <td>1</td>\n",
       "    </tr>\n",
       "    <tr>\n",
       "      <th>4</th>\n",
       "      <td>2004</td>\n",
       "      <td>Blind one-microphone speech separation:\\nA spe...</td>\n",
       "      <td>2572</td>\n",
       "      <td>68</td>\n",
       "      <td>26817</td>\n",
       "      <td>4.908790</td>\n",
       "      <td>0</td>\n",
       "      <td>0</td>\n",
       "      <td>0</td>\n",
       "      <td>1</td>\n",
       "      <td>1</td>\n",
       "    </tr>\n",
       "  </tbody>\n",
       "</table>\n",
       "</div>"
      ],
      "text/plain": [
       "   year                                         paper_text  paper_id  \\\n",
       "0  2001  Minimax Probability Machine\\n\\nGert R.G. Lanck...      2036   \n",
       "1  2003  On the concentration of expectation and\\nappro...      2411   \n",
       "2  1994  An Alternative Model for Mixtures of\\nExperts\\...       906   \n",
       "3  2011  Divide-and-Conquer Matrix Factorization\\nLeste...      4486   \n",
       "4  2004  Blind one-microphone speech separation:\\nA spe...      2572   \n",
       "\n",
       "   title_len  paper_len  avg_word_len  Oral  Poster  Spotlight  Unknown  \\\n",
       "0         27      17323      4.635348     0       0          0        1   \n",
       "1         81      25777      4.540640     0       0          0        1   \n",
       "2         44      17802      4.856669     0       0          0        1   \n",
       "3         39      30128      4.695537     0       0          0        1   \n",
       "4         68      26817      4.908790     0       0          0        1   \n",
       "\n",
       "   is_jordan  \n",
       "0          1  \n",
       "1          1  \n",
       "2          1  \n",
       "3          1  \n",
       "4          1  "
      ]
     },
     "execution_count": 2,
     "metadata": {},
     "output_type": "execute_result"
    }
   ],
   "source": [
    "df = pd.read_csv('E:/OtherCodeProjects/Springboard Capstone Projects/Springboard-Capstone-1-Data/one_author_advanced_data.csv')\n",
    "\n",
    "df.head()"
   ]
  },
  {
   "cell_type": "code",
   "execution_count": 3,
   "metadata": {},
   "outputs": [],
   "source": [
    "exclude = ['paper_id', 'is_jordan']\n",
    "X = df[df.columns.difference(exclude)]\n",
    "\n",
    "y = df['is_jordan'].values.flatten()"
   ]
  },
  {
   "cell_type": "code",
   "execution_count": 4,
   "metadata": {},
   "outputs": [],
   "source": [
    "X_train, X_test, y_train, y_test = train_test_split(X, y, random_state=21, train_size=0.75, stratify=y)"
   ]
  },
  {
   "cell_type": "code",
   "execution_count": 5,
   "metadata": {},
   "outputs": [],
   "source": [
    "Tfidf_stop_words = [None, 'english']"
   ]
  },
  {
   "cell_type": "code",
   "execution_count": 6,
   "metadata": {},
   "outputs": [],
   "source": [
    "C = [1, 0.5, 0.1]"
   ]
  },
  {
   "cell_type": "code",
   "execution_count": 7,
   "metadata": {},
   "outputs": [
    {
     "data": {
      "text/plain": [
       "[(None, 1),\n",
       " (None, 0.5),\n",
       " (None, 0.1),\n",
       " ('english', 1),\n",
       " ('english', 0.5),\n",
       " ('english', 0.1)]"
      ]
     },
     "execution_count": 7,
     "metadata": {},
     "output_type": "execute_result"
    }
   ],
   "source": [
    "hyperparameters = list(itertools.product(\n",
    "                        Tfidf_stop_words, C\n",
    "))\n",
    "\n",
    "hyperparameters\n"
   ]
  },
  {
   "cell_type": "code",
   "execution_count": 8,
   "metadata": {},
   "outputs": [
    {
     "name": "stdout",
     "output_type": "stream",
     "text": [
      "0\n",
      "1\n",
      "2\n",
      "3\n",
      "4\n",
      "5\n"
     ]
    }
   ],
   "source": [
    "# Initializing a dictionary with keys corresponding to the hyperparameters I am testing, \n",
    "# as well as my results on the train and test sets\n",
    "LR_dict = {'Tfidf_Stop_Words': [],\n",
    "            'LogReg_C_value' : [],\n",
    "            'Train_auc': [],\n",
    "            'Test_auc': []}\n",
    "\n",
    "run = 0\n",
    "for Tfidf_params, C_params in hyperparameters:\n",
    "\n",
    "    # Counting what iteration I am on\n",
    "    print(run)\n",
    "    run += 1\n",
    "\n",
    "    # Appending the parameters for this run to my dictionary\n",
    "    LR_dict['Tfidf_Stop_Words'].append(str(Tfidf_params))\n",
    "    LR_dict['LogReg_C_value'].append(C_params)\n",
    "\n",
    "    # Initializing the TfidfVectorizer with different stop words, then .fit_transforming it on the train set\n",
    "    # and .transforming on the test set\n",
    "    tfidf = TfidfVectorizer(stop_words=Tfidf_params)\n",
    "    X_train_tfidf = tfidf.fit_transform(X_train.paper_text)\n",
    "    X_test_tfidf = tfidf.transform(X_test.paper_text)\n",
    "\n",
    "    # Making a pipeline with the logistic regressor inside, the C hyperparameter is chosen here\n",
    "    pipe = Pipeline(steps=[\n",
    "        ('LR', LogisticRegression(class_weight={0:1, 1:99}, C=C_params)),\n",
    "        \n",
    "    ])\n",
    "\n",
    "    # Fitting the pipeline to the train set and predicting on both train and test sets\n",
    "    pipe.fit(X_train_tfidf, y_train)\n",
    "    pipe_train_pred = pipe.predict(X_train_tfidf)\n",
    "    pipe_test_pred = pipe.predict(X_test_tfidf)\n",
    "\n",
    "    # Finding the roc_auc_score for both\n",
    "    auc_train = roc_auc_score(y_train, pipe_train_pred)\n",
    "    auc_test = roc_auc_score(y_test, pipe_test_pred)\n",
    "\n",
    "    # Appending the scores to the dictionary\n",
    "    LR_dict['Train_auc'].append(auc_train)\n",
    "    LR_dict['Test_auc'].append(auc_test)"
   ]
  },
  {
   "cell_type": "markdown",
   "metadata": {},
   "source": [
    "Using Tfidf inside the loop is time consuming, and using no stop words gives better results across the models, so I will recreate the above code without the TfidfVectorizer in the loop"
   ]
  },
  {
   "cell_type": "code",
   "execution_count": 9,
   "metadata": {},
   "outputs": [
    {
     "data": {
      "text/html": [
       "<div>\n",
       "<style scoped>\n",
       "    .dataframe tbody tr th:only-of-type {\n",
       "        vertical-align: middle;\n",
       "    }\n",
       "\n",
       "    .dataframe tbody tr th {\n",
       "        vertical-align: top;\n",
       "    }\n",
       "\n",
       "    .dataframe thead th {\n",
       "        text-align: right;\n",
       "    }\n",
       "</style>\n",
       "<table border=\"1\" class=\"dataframe\">\n",
       "  <thead>\n",
       "    <tr style=\"text-align: right;\">\n",
       "      <th></th>\n",
       "      <th>Tfidf_Stop_Words</th>\n",
       "      <th>LogReg_C_value</th>\n",
       "      <th>Train_auc</th>\n",
       "      <th>Test_auc</th>\n",
       "    </tr>\n",
       "  </thead>\n",
       "  <tbody>\n",
       "    <tr>\n",
       "      <th>0</th>\n",
       "      <td>None</td>\n",
       "      <td>1.0</td>\n",
       "      <td>0.998603</td>\n",
       "      <td>0.572207</td>\n",
       "    </tr>\n",
       "    <tr>\n",
       "      <th>1</th>\n",
       "      <td>None</td>\n",
       "      <td>0.5</td>\n",
       "      <td>0.997486</td>\n",
       "      <td>0.596927</td>\n",
       "    </tr>\n",
       "    <tr>\n",
       "      <th>2</th>\n",
       "      <td>None</td>\n",
       "      <td>0.1</td>\n",
       "      <td>0.990689</td>\n",
       "      <td>0.667737</td>\n",
       "    </tr>\n",
       "    <tr>\n",
       "      <th>3</th>\n",
       "      <td>english</td>\n",
       "      <td>1.0</td>\n",
       "      <td>0.998976</td>\n",
       "      <td>0.572765</td>\n",
       "    </tr>\n",
       "    <tr>\n",
       "      <th>4</th>\n",
       "      <td>english</td>\n",
       "      <td>0.5</td>\n",
       "      <td>0.998324</td>\n",
       "      <td>0.597207</td>\n",
       "    </tr>\n",
       "    <tr>\n",
       "      <th>5</th>\n",
       "      <td>english</td>\n",
       "      <td>0.1</td>\n",
       "      <td>0.993762</td>\n",
       "      <td>0.619693</td>\n",
       "    </tr>\n",
       "  </tbody>\n",
       "</table>\n",
       "</div>"
      ],
      "text/plain": [
       "  Tfidf_Stop_Words  LogReg_C_value  Train_auc  Test_auc\n",
       "0             None             1.0   0.998603  0.572207\n",
       "1             None             0.5   0.997486  0.596927\n",
       "2             None             0.1   0.990689  0.667737\n",
       "3          english             1.0   0.998976  0.572765\n",
       "4          english             0.5   0.998324  0.597207\n",
       "5          english             0.1   0.993762  0.619693"
      ]
     },
     "execution_count": 9,
     "metadata": {},
     "output_type": "execute_result"
    }
   ],
   "source": [
    "LR_HPtable = pd.DataFrame.from_dict(LR_dict) \n",
    "LR_HPtable"
   ]
  },
  {
   "cell_type": "code",
   "execution_count": 10,
   "metadata": {},
   "outputs": [
    {
     "data": {
      "text/plain": [
       "Tfidf_Stop_Words\n",
       "None       0.612291\n",
       "english    0.596555\n",
       "Name: Test_auc, dtype: float64"
      ]
     },
     "execution_count": 10,
     "metadata": {},
     "output_type": "execute_result"
    }
   ],
   "source": [
    "stop_words_avg = LR_HPtable.groupby('Tfidf_Stop_Words')['Test_auc'].mean()\n",
    "stop_words_avg"
   ]
  },
  {
   "cell_type": "code",
   "execution_count": 11,
   "metadata": {},
   "outputs": [],
   "source": [
    "X_train, X_test, y_train, y_test = train_test_split(X, y, random_state=21, train_size=0.75, stratify=y)"
   ]
  },
  {
   "cell_type": "code",
   "execution_count": 12,
   "metadata": {},
   "outputs": [],
   "source": [
    "tfidf = TfidfVectorizer()\n",
    "\n",
    "X_train = tfidf.fit_transform(X_train.paper_text)\n",
    "X_test = tfidf.transform(X_test.paper_text)"
   ]
  },
  {
   "cell_type": "code",
   "execution_count": 13,
   "metadata": {},
   "outputs": [],
   "source": [
    "C = [1, 0.5, 0.1, 0.05, 0.01, 0.005, 0.001]"
   ]
  },
  {
   "cell_type": "code",
   "execution_count": 14,
   "metadata": {},
   "outputs": [],
   "source": [
    "samplers = ['None', 'ros', 'rus']"
   ]
  },
  {
   "cell_type": "code",
   "execution_count": 15,
   "metadata": {},
   "outputs": [
    {
     "data": {
      "text/plain": [
       "[(1, 'None'),\n",
       " (1, 'ros'),\n",
       " (1, 'rus'),\n",
       " (0.5, 'None'),\n",
       " (0.5, 'ros'),\n",
       " (0.5, 'rus'),\n",
       " (0.1, 'None'),\n",
       " (0.1, 'ros'),\n",
       " (0.1, 'rus'),\n",
       " (0.05, 'None'),\n",
       " (0.05, 'ros'),\n",
       " (0.05, 'rus'),\n",
       " (0.01, 'None'),\n",
       " (0.01, 'ros'),\n",
       " (0.01, 'rus'),\n",
       " (0.005, 'None'),\n",
       " (0.005, 'ros'),\n",
       " (0.005, 'rus'),\n",
       " (0.001, 'None'),\n",
       " (0.001, 'ros'),\n",
       " (0.001, 'rus')]"
      ]
     },
     "execution_count": 15,
     "metadata": {},
     "output_type": "execute_result"
    }
   ],
   "source": [
    "hyperparameters = list(itertools.product(\n",
    "                        C, samplers\n",
    "))\n",
    "\n",
    "hyperparameters"
   ]
  },
  {
   "cell_type": "code",
   "execution_count": 34,
   "metadata": {},
   "outputs": [
    {
     "name": "stdout",
     "output_type": "stream",
     "text": [
      "0\n",
      "1\n",
      "2\n",
      "3\n",
      "4\n",
      "5\n",
      "6\n",
      "7\n",
      "8\n",
      "9\n",
      "10\n",
      "11\n",
      "12\n",
      "13\n",
      "14\n",
      "15\n",
      "16\n",
      "17\n",
      "18\n",
      "19\n",
      "20\n"
     ]
    }
   ],
   "source": [
    "# Initializing a dictionary with keys corresponding to the hyperparameters I am testing, \n",
    "# as well as my results on the train and test sets\n",
    "LR_dict = {'LogReg_C_value' : [],\n",
    "            'Sampler': [],\n",
    "            'Precision': [],\n",
    "            'Recall': [],\n",
    "            'Train_auc': [],\n",
    "            'Test_auc': []}\n",
    "\n",
    "run = 0\n",
    "best_score_precision = 0\n",
    "best_LR_model_precision = None\n",
    "best_score_recall = 0\n",
    "best_LR_model_recall = None\n",
    "best_score_auc = 0\n",
    "best_LR_model_auc = None\n",
    "\n",
    "for C_value, sampler_type in hyperparameters:\n",
    "\n",
    "    # Counting what iteration I am on\n",
    "    print(run)\n",
    "    run += 1\n",
    "    \n",
    "    # Appending the parameters for this run to my dictionary\n",
    "    LR_dict['LogReg_C_value'].append(C_value)\n",
    "    LR_dict['Sampler'].append(sampler_type)\n",
    "\n",
    "    # Making pipelines for each sampler type, with the C value used within\n",
    "    if sampler_type == 'rus':\n",
    "        pipe = Pipeline(steps=[\n",
    "            ('rus', RandomUnderSampler(random_state=21)),\n",
    "            ('LR', LogisticRegression(C=C_value))\n",
    "            ])\n",
    "\n",
    "    elif sampler_type == 'ros':\n",
    "        pipe = Pipeline(steps=[\n",
    "            ('ros', RandomOverSampler(random_state=21)),\n",
    "            ('LR', LogisticRegression(C=C_value))\n",
    "            ])\n",
    "\n",
    "    else:\n",
    "        pipe = Pipeline(steps=[\n",
    "            ('LR', LogisticRegression(class_weight={0:1, 1:99}, C=C_value))\n",
    "            ])\n",
    "\n",
    "    # Fitting the pipeline to the train set and predicting on both train and test sets\n",
    "    pipe.fit(X_train, y_train)\n",
    "    pipe_train_pred = pipe.predict(X_train)\n",
    "    pipe_test_pred = pipe.predict(X_test)\n",
    "\n",
    "    # Finding the roc_auc_score for both, I am including precision as in the past \n",
    "    # undersampling has led to awful precision scores\n",
    "    precision = precision_score(y_test, pipe_test_pred)\n",
    "    recall = recall_score(y_test, pipe_test_pred)\n",
    "    auc_train = roc_auc_score(y_train, pipe_train_pred)\n",
    "    auc_test = roc_auc_score(y_test, pipe_test_pred)\n",
    "\n",
    "    # Appending the scores to the dictionary\n",
    "    LR_dict['Precision'].append(precision)\n",
    "    LR_dict['Recall'].append(recall)\n",
    "    LR_dict['Train_auc'].append(auc_train)\n",
    "    LR_dict['Test_auc'].append(auc_test)\n",
    "\n",
    "    # Saving the best model\n",
    "    if precision > best_score_precision:\n",
    "        best_score_precision = precision\n",
    "        best_LR_model_precision = pipe\n",
    "\n",
    "    if recall > best_score_recall:\n",
    "        best_score_recall = recall\n",
    "        best_LR_model_recall = pipe\n",
    "\n",
    "    if auc_test > best_score_auc:\n",
    "        best_score_auc = auc_test\n",
    "        best_LR_model_auc = pipe"
   ]
  },
  {
   "cell_type": "code",
   "execution_count": 43,
   "metadata": {},
   "outputs": [
    {
     "data": {
      "text/html": [
       "<div>\n",
       "<style scoped>\n",
       "    .dataframe tbody tr th:only-of-type {\n",
       "        vertical-align: middle;\n",
       "    }\n",
       "\n",
       "    .dataframe tbody tr th {\n",
       "        vertical-align: top;\n",
       "    }\n",
       "\n",
       "    .dataframe thead th {\n",
       "        text-align: right;\n",
       "    }\n",
       "</style>\n",
       "<table border=\"1\" class=\"dataframe\">\n",
       "  <thead>\n",
       "    <tr style=\"text-align: right;\">\n",
       "      <th></th>\n",
       "      <th>LogReg_C_value</th>\n",
       "      <th>Sampler</th>\n",
       "      <th>Precision</th>\n",
       "      <th>Recall</th>\n",
       "      <th>Train_auc</th>\n",
       "      <th>Test_auc</th>\n",
       "    </tr>\n",
       "  </thead>\n",
       "  <tbody>\n",
       "    <tr>\n",
       "      <th>12</th>\n",
       "      <td>0.010</td>\n",
       "      <td>None</td>\n",
       "      <td>0.069307</td>\n",
       "      <td>0.70</td>\n",
       "      <td>0.945158</td>\n",
       "      <td>0.797486</td>\n",
       "    </tr>\n",
       "    <tr>\n",
       "      <th>15</th>\n",
       "      <td>0.005</td>\n",
       "      <td>None</td>\n",
       "      <td>0.031955</td>\n",
       "      <td>0.85</td>\n",
       "      <td>0.861825</td>\n",
       "      <td>0.781145</td>\n",
       "    </tr>\n",
       "    <tr>\n",
       "      <th>2</th>\n",
       "      <td>1.000</td>\n",
       "      <td>rus</td>\n",
       "      <td>0.045902</td>\n",
       "      <td>0.70</td>\n",
       "      <td>0.912011</td>\n",
       "      <td>0.768715</td>\n",
       "    </tr>\n",
       "    <tr>\n",
       "      <th>5</th>\n",
       "      <td>0.500</td>\n",
       "      <td>rus</td>\n",
       "      <td>0.045752</td>\n",
       "      <td>0.70</td>\n",
       "      <td>0.911359</td>\n",
       "      <td>0.768436</td>\n",
       "    </tr>\n",
       "    <tr>\n",
       "      <th>14</th>\n",
       "      <td>0.010</td>\n",
       "      <td>rus</td>\n",
       "      <td>0.044872</td>\n",
       "      <td>0.70</td>\n",
       "      <td>0.910615</td>\n",
       "      <td>0.766760</td>\n",
       "    </tr>\n",
       "    <tr>\n",
       "      <th>17</th>\n",
       "      <td>0.005</td>\n",
       "      <td>rus</td>\n",
       "      <td>0.044872</td>\n",
       "      <td>0.70</td>\n",
       "      <td>0.910615</td>\n",
       "      <td>0.766760</td>\n",
       "    </tr>\n",
       "    <tr>\n",
       "      <th>8</th>\n",
       "      <td>0.100</td>\n",
       "      <td>rus</td>\n",
       "      <td>0.044872</td>\n",
       "      <td>0.70</td>\n",
       "      <td>0.910708</td>\n",
       "      <td>0.766760</td>\n",
       "    </tr>\n",
       "    <tr>\n",
       "      <th>11</th>\n",
       "      <td>0.050</td>\n",
       "      <td>rus</td>\n",
       "      <td>0.044872</td>\n",
       "      <td>0.70</td>\n",
       "      <td>0.910708</td>\n",
       "      <td>0.766760</td>\n",
       "    </tr>\n",
       "    <tr>\n",
       "      <th>16</th>\n",
       "      <td>0.005</td>\n",
       "      <td>ros</td>\n",
       "      <td>0.161765</td>\n",
       "      <td>0.55</td>\n",
       "      <td>0.981471</td>\n",
       "      <td>0.759078</td>\n",
       "    </tr>\n",
       "    <tr>\n",
       "      <th>19</th>\n",
       "      <td>0.001</td>\n",
       "      <td>ros</td>\n",
       "      <td>0.144737</td>\n",
       "      <td>0.55</td>\n",
       "      <td>0.970762</td>\n",
       "      <td>0.756844</td>\n",
       "    </tr>\n",
       "    <tr>\n",
       "      <th>13</th>\n",
       "      <td>0.010</td>\n",
       "      <td>ros</td>\n",
       "      <td>0.161290</td>\n",
       "      <td>0.50</td>\n",
       "      <td>0.982682</td>\n",
       "      <td>0.735475</td>\n",
       "    </tr>\n",
       "    <tr>\n",
       "      <th>9</th>\n",
       "      <td>0.050</td>\n",
       "      <td>None</td>\n",
       "      <td>0.176471</td>\n",
       "      <td>0.45</td>\n",
       "      <td>0.985382</td>\n",
       "      <td>0.713268</td>\n",
       "    </tr>\n",
       "    <tr>\n",
       "      <th>10</th>\n",
       "      <td>0.050</td>\n",
       "      <td>ros</td>\n",
       "      <td>0.212121</td>\n",
       "      <td>0.35</td>\n",
       "      <td>0.990037</td>\n",
       "      <td>0.667737</td>\n",
       "    </tr>\n",
       "    <tr>\n",
       "      <th>6</th>\n",
       "      <td>0.100</td>\n",
       "      <td>None</td>\n",
       "      <td>0.212121</td>\n",
       "      <td>0.35</td>\n",
       "      <td>0.990689</td>\n",
       "      <td>0.667737</td>\n",
       "    </tr>\n",
       "    <tr>\n",
       "      <th>20</th>\n",
       "      <td>0.001</td>\n",
       "      <td>rus</td>\n",
       "      <td>0.015485</td>\n",
       "      <td>0.95</td>\n",
       "      <td>0.660335</td>\n",
       "      <td>0.637570</td>\n",
       "    </tr>\n",
       "    <tr>\n",
       "      <th>7</th>\n",
       "      <td>0.100</td>\n",
       "      <td>ros</td>\n",
       "      <td>0.192308</td>\n",
       "      <td>0.25</td>\n",
       "      <td>0.992458</td>\n",
       "      <td>0.619134</td>\n",
       "    </tr>\n",
       "    <tr>\n",
       "      <th>3</th>\n",
       "      <td>0.500</td>\n",
       "      <td>None</td>\n",
       "      <td>0.266667</td>\n",
       "      <td>0.20</td>\n",
       "      <td>0.997486</td>\n",
       "      <td>0.596927</td>\n",
       "    </tr>\n",
       "    <tr>\n",
       "      <th>1</th>\n",
       "      <td>1.000</td>\n",
       "      <td>ros</td>\n",
       "      <td>0.250000</td>\n",
       "      <td>0.15</td>\n",
       "      <td>0.998696</td>\n",
       "      <td>0.572486</td>\n",
       "    </tr>\n",
       "    <tr>\n",
       "      <th>4</th>\n",
       "      <td>0.500</td>\n",
       "      <td>ros</td>\n",
       "      <td>0.230769</td>\n",
       "      <td>0.15</td>\n",
       "      <td>0.997672</td>\n",
       "      <td>0.572207</td>\n",
       "    </tr>\n",
       "    <tr>\n",
       "      <th>0</th>\n",
       "      <td>1.000</td>\n",
       "      <td>None</td>\n",
       "      <td>0.230769</td>\n",
       "      <td>0.15</td>\n",
       "      <td>0.998603</td>\n",
       "      <td>0.572207</td>\n",
       "    </tr>\n",
       "    <tr>\n",
       "      <th>18</th>\n",
       "      <td>0.001</td>\n",
       "      <td>None</td>\n",
       "      <td>0.011050</td>\n",
       "      <td>1.00</td>\n",
       "      <td>0.500000</td>\n",
       "      <td>0.500000</td>\n",
       "    </tr>\n",
       "  </tbody>\n",
       "</table>\n",
       "</div>"
      ],
      "text/plain": [
       "    LogReg_C_value Sampler  Precision  Recall  Train_auc  Test_auc\n",
       "12           0.010    None   0.069307    0.70   0.945158  0.797486\n",
       "15           0.005    None   0.031955    0.85   0.861825  0.781145\n",
       "2            1.000     rus   0.045902    0.70   0.912011  0.768715\n",
       "5            0.500     rus   0.045752    0.70   0.911359  0.768436\n",
       "14           0.010     rus   0.044872    0.70   0.910615  0.766760\n",
       "17           0.005     rus   0.044872    0.70   0.910615  0.766760\n",
       "8            0.100     rus   0.044872    0.70   0.910708  0.766760\n",
       "11           0.050     rus   0.044872    0.70   0.910708  0.766760\n",
       "16           0.005     ros   0.161765    0.55   0.981471  0.759078\n",
       "19           0.001     ros   0.144737    0.55   0.970762  0.756844\n",
       "13           0.010     ros   0.161290    0.50   0.982682  0.735475\n",
       "9            0.050    None   0.176471    0.45   0.985382  0.713268\n",
       "10           0.050     ros   0.212121    0.35   0.990037  0.667737\n",
       "6            0.100    None   0.212121    0.35   0.990689  0.667737\n",
       "20           0.001     rus   0.015485    0.95   0.660335  0.637570\n",
       "7            0.100     ros   0.192308    0.25   0.992458  0.619134\n",
       "3            0.500    None   0.266667    0.20   0.997486  0.596927\n",
       "1            1.000     ros   0.250000    0.15   0.998696  0.572486\n",
       "4            0.500     ros   0.230769    0.15   0.997672  0.572207\n",
       "0            1.000    None   0.230769    0.15   0.998603  0.572207\n",
       "18           0.001    None   0.011050    1.00   0.500000  0.500000"
      ]
     },
     "execution_count": 43,
     "metadata": {},
     "output_type": "execute_result"
    }
   ],
   "source": [
    "LR_HPtable = pd.DataFrame.from_dict(LR_dict) \n",
    "LR_HPtable.sort_values(by='Test_auc', ascending=False, inplace=True)\n",
    "LR_HPtable"
   ]
  },
  {
   "cell_type": "markdown",
   "metadata": {},
   "source": [
    "**WHAT IS THE BEST SCORE TO USE? PRECISION, RECALL, SOMETHING IN THE MIDDLE?**"
   ]
  },
  {
   "cell_type": "code",
   "execution_count": 39,
   "metadata": {},
   "outputs": [
    {
     "data": {
      "image/png": "[encoded data removed]",
      "text/plain": [
       "<Figure size 432x288 with 1 Axes>"
      ]
     },
     "metadata": {
      "needs_background": "light"
     },
     "output_type": "display_data"
    }
   ],
   "source": [
    "best_LR_model_precision.fit(X_train, y_train)\n",
    "best_LR_pred = best_LR_model_precision.predict(X_test)\n",
    "best_LR_cm_test = confusion_matrix(y_test, best_LR_pred)\n",
    "fig, ax = plot_confusion_matrix(conf_mat=best_LR_cm_test)\n",
    "plt.title('Optimizing for Precision')\n",
    "plt.show()"
   ]
  },
  {
   "cell_type": "code",
   "execution_count": 40,
   "metadata": {},
   "outputs": [
    {
     "data": {
      "image/png": "[encoded data removed]",
      "text/plain": [
       "<Figure size 432x288 with 1 Axes>"
      ]
     },
     "metadata": {
      "needs_background": "light"
     },
     "output_type": "display_data"
    }
   ],
   "source": [
    "best_LR_model_recall.fit(X_train, y_train)\n",
    "best_LR_pred = best_LR_model_recall.predict(X_test)\n",
    "best_LR_cm_test = confusion_matrix(y_test, best_LR_pred)\n",
    "fig, ax = plot_confusion_matrix(conf_mat=best_LR_cm_test)\n",
    "plt.title('Optimizing for Recall')\n",
    "plt.show()"
   ]
  },
  {
   "cell_type": "code",
   "execution_count": 41,
   "metadata": {},
   "outputs": [
    {
     "data": {
      "image/png": "[encoded data removed]",
      "text/plain": [
       "<Figure size 432x288 with 1 Axes>"
      ]
     },
     "metadata": {
      "needs_background": "light"
     },
     "output_type": "display_data"
    }
   ],
   "source": [
    "best_LR_model_auc.fit(X_train, y_train)\n",
    "best_LR_pred = best_LR_model_auc.predict(X_test)\n",
    "best_LR_cm_test = confusion_matrix(y_test, best_LR_pred)\n",
    "fig, ax = plot_confusion_matrix(conf_mat=best_LR_cm_test)\n",
    "plt.title('Optimizing for roc_auc')\n",
    "plt.show()"
   ]
  }
 ],
 "metadata": {
  "kernelspec": {
   "display_name": "Python 3.9.13 ('Springboard_Capstone_1')",
   "language": "python",
   "name": "python3"
  },
  "language_info": {
   "codemirror_mode": {
    "name": "ipython",
    "version": 3
   },
   "file_extension": ".py",
   "mimetype": "text/x-python",
   "name": "python",
   "nbconvert_exporter": "python",
   "pygments_lexer": "ipython3",
   "version": "3.9.13"
  },
  "orig_nbformat": 4,
  "vscode": {
   "interpreter": {
    "hash": "918dc82fcda072602f7dedc1715dd52bd51c73a6bbc48592bc491021bad55eb4"
   }
  }
 },
 "nbformat": 4,
 "nbformat_minor": 2
}
