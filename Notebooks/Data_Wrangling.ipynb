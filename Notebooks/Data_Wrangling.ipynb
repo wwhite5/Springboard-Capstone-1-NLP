{
 "cells": [
  {
   "cell_type": "code",
   "execution_count": 1,
   "metadata": {},
   "outputs": [],
   "source": [
    "import pandas as pd\n",
    "import os\n",
    "import matplotlib.pyplot as plt\n",
    "import numpy as np"
   ]
  },
  {
   "cell_type": "markdown",
   "metadata": {},
   "source": [
    "My data consists of three csv files: \"authors.csv\", \"papers.csv\", and \"paper_authors.csv\" to connect the two. This first part of the notebook will be looking at \"papers.csv\". "
   ]
  },
  {
   "cell_type": "code",
   "execution_count": 2,
   "metadata": {},
   "outputs": [],
   "source": [
    "papers = pd.read_csv('E:/OtherCodeProjects/Springboard Capstone Projects/Springboard-Capstone-1-Data/papers.csv')"
   ]
  },
  {
   "cell_type": "markdown",
   "metadata": {},
   "source": [
    "Looking at the head of the data, I can see that pdf_name is just a combination of title and id. There are also several NaNs in event_type and abstract. The paper_text field does contain the full text of each paper. "
   ]
  },
  {
   "cell_type": "code",
   "execution_count": 3,
   "metadata": {},
   "outputs": [
    {
     "data": {
      "text/html": [
       "<div>\n",
       "<style scoped>\n",
       "    .dataframe tbody tr th:only-of-type {\n",
       "        vertical-align: middle;\n",
       "    }\n",
       "\n",
       "    .dataframe tbody tr th {\n",
       "        vertical-align: top;\n",
       "    }\n",
       "\n",
       "    .dataframe thead th {\n",
       "        text-align: right;\n",
       "    }\n",
       "</style>\n",
       "<table border=\"1\" class=\"dataframe\">\n",
       "  <thead>\n",
       "    <tr style=\"text-align: right;\">\n",
       "      <th></th>\n",
       "      <th>id</th>\n",
       "      <th>year</th>\n",
       "      <th>title</th>\n",
       "      <th>event_type</th>\n",
       "      <th>pdf_name</th>\n",
       "      <th>abstract</th>\n",
       "      <th>paper_text</th>\n",
       "    </tr>\n",
       "  </thead>\n",
       "  <tbody>\n",
       "    <tr>\n",
       "      <th>0</th>\n",
       "      <td>1</td>\n",
       "      <td>1987</td>\n",
       "      <td>Self-Organization of Associative Database and ...</td>\n",
       "      <td>NaN</td>\n",
       "      <td>1-self-organization-of-associative-database-an...</td>\n",
       "      <td>Abstract Missing</td>\n",
       "      <td>767\\n\\nSELF-ORGANIZATION OF ASSOCIATIVE DATABA...</td>\n",
       "    </tr>\n",
       "    <tr>\n",
       "      <th>1</th>\n",
       "      <td>10</td>\n",
       "      <td>1987</td>\n",
       "      <td>A Mean Field Theory of Layer IV of Visual Cort...</td>\n",
       "      <td>NaN</td>\n",
       "      <td>10-a-mean-field-theory-of-layer-iv-of-visual-c...</td>\n",
       "      <td>Abstract Missing</td>\n",
       "      <td>683\\n\\nA MEAN FIELD THEORY OF LAYER IV OF VISU...</td>\n",
       "    </tr>\n",
       "    <tr>\n",
       "      <th>2</th>\n",
       "      <td>100</td>\n",
       "      <td>1988</td>\n",
       "      <td>Storing Covariance by the Associative Long-Ter...</td>\n",
       "      <td>NaN</td>\n",
       "      <td>100-storing-covariance-by-the-associative-long...</td>\n",
       "      <td>Abstract Missing</td>\n",
       "      <td>394\\n\\nSTORING COVARIANCE BY THE ASSOCIATIVE\\n...</td>\n",
       "    </tr>\n",
       "    <tr>\n",
       "      <th>3</th>\n",
       "      <td>1000</td>\n",
       "      <td>1994</td>\n",
       "      <td>Bayesian Query Construction for Neural Network...</td>\n",
       "      <td>NaN</td>\n",
       "      <td>1000-bayesian-query-construction-for-neural-ne...</td>\n",
       "      <td>Abstract Missing</td>\n",
       "      <td>Bayesian Query Construction for Neural\\nNetwor...</td>\n",
       "    </tr>\n",
       "    <tr>\n",
       "      <th>4</th>\n",
       "      <td>1001</td>\n",
       "      <td>1994</td>\n",
       "      <td>Neural Network Ensembles, Cross Validation, an...</td>\n",
       "      <td>NaN</td>\n",
       "      <td>1001-neural-network-ensembles-cross-validation...</td>\n",
       "      <td>Abstract Missing</td>\n",
       "      <td>Neural Network Ensembles, Cross\\nValidation, a...</td>\n",
       "    </tr>\n",
       "  </tbody>\n",
       "</table>\n",
       "</div>"
      ],
      "text/plain": [
       "     id  year                                              title event_type  \\\n",
       "0     1  1987  Self-Organization of Associative Database and ...        NaN   \n",
       "1    10  1987  A Mean Field Theory of Layer IV of Visual Cort...        NaN   \n",
       "2   100  1988  Storing Covariance by the Associative Long-Ter...        NaN   \n",
       "3  1000  1994  Bayesian Query Construction for Neural Network...        NaN   \n",
       "4  1001  1994  Neural Network Ensembles, Cross Validation, an...        NaN   \n",
       "\n",
       "                                            pdf_name          abstract  \\\n",
       "0  1-self-organization-of-associative-database-an...  Abstract Missing   \n",
       "1  10-a-mean-field-theory-of-layer-iv-of-visual-c...  Abstract Missing   \n",
       "2  100-storing-covariance-by-the-associative-long...  Abstract Missing   \n",
       "3  1000-bayesian-query-construction-for-neural-ne...  Abstract Missing   \n",
       "4  1001-neural-network-ensembles-cross-validation...  Abstract Missing   \n",
       "\n",
       "                                          paper_text  \n",
       "0  767\\n\\nSELF-ORGANIZATION OF ASSOCIATIVE DATABA...  \n",
       "1  683\\n\\nA MEAN FIELD THEORY OF LAYER IV OF VISU...  \n",
       "2  394\\n\\nSTORING COVARIANCE BY THE ASSOCIATIVE\\n...  \n",
       "3  Bayesian Query Construction for Neural\\nNetwor...  \n",
       "4  Neural Network Ensembles, Cross\\nValidation, a...  "
      ]
     },
     "execution_count": 3,
     "metadata": {},
     "output_type": "execute_result"
    }
   ],
   "source": [
    "papers.head()"
   ]
  },
  {
   "cell_type": "markdown",
   "metadata": {},
   "source": [
    "The dataset has 7241 papers in total, and 7 columns of information. Only event_type has listed NaNs, but I know that at least abstract has missing information as well"
   ]
  },
  {
   "cell_type": "code",
   "execution_count": 4,
   "metadata": {},
   "outputs": [
    {
     "name": "stdout",
     "output_type": "stream",
     "text": [
      "<class 'pandas.core.frame.DataFrame'>\n",
      "RangeIndex: 7241 entries, 0 to 7240\n",
      "Data columns (total 7 columns):\n",
      " #   Column      Non-Null Count  Dtype \n",
      "---  ------      --------------  ----- \n",
      " 0   id          7241 non-null   int64 \n",
      " 1   year        7241 non-null   int64 \n",
      " 2   title       7241 non-null   object\n",
      " 3   event_type  2422 non-null   object\n",
      " 4   pdf_name    7241 non-null   object\n",
      " 5   abstract    7241 non-null   object\n",
      " 6   paper_text  7241 non-null   object\n",
      "dtypes: int64(2), object(5)\n",
      "memory usage: 396.1+ KB\n"
     ]
    }
   ],
   "source": [
    "papers.info()"
   ]
  },
  {
   "cell_type": "markdown",
   "metadata": {},
   "source": [
    "Here we see that poster is the most common event after NaN. Also, 3317 of the papers have their abstracts missing, and one that seems duplicated after that. Interestingly, 4 paper texts seem to be duplicated."
   ]
  },
  {
   "cell_type": "code",
   "execution_count": 5,
   "metadata": {},
   "outputs": [
    {
     "data": {
      "text/html": [
       "<div>\n",
       "<style scoped>\n",
       "    .dataframe tbody tr th:only-of-type {\n",
       "        vertical-align: middle;\n",
       "    }\n",
       "\n",
       "    .dataframe tbody tr th {\n",
       "        vertical-align: top;\n",
       "    }\n",
       "\n",
       "    .dataframe thead th {\n",
       "        text-align: right;\n",
       "    }\n",
       "</style>\n",
       "<table border=\"1\" class=\"dataframe\">\n",
       "  <thead>\n",
       "    <tr style=\"text-align: right;\">\n",
       "      <th></th>\n",
       "      <th>id</th>\n",
       "      <th>year</th>\n",
       "      <th>title</th>\n",
       "      <th>event_type</th>\n",
       "      <th>pdf_name</th>\n",
       "      <th>abstract</th>\n",
       "      <th>paper_text</th>\n",
       "    </tr>\n",
       "  </thead>\n",
       "  <tbody>\n",
       "    <tr>\n",
       "      <th>count</th>\n",
       "      <td>7241.000000</td>\n",
       "      <td>7241.000000</td>\n",
       "      <td>7241</td>\n",
       "      <td>2422</td>\n",
       "      <td>7241</td>\n",
       "      <td>7241</td>\n",
       "      <td>7241</td>\n",
       "    </tr>\n",
       "    <tr>\n",
       "      <th>unique</th>\n",
       "      <td>NaN</td>\n",
       "      <td>NaN</td>\n",
       "      <td>7241</td>\n",
       "      <td>3</td>\n",
       "      <td>7241</td>\n",
       "      <td>3923</td>\n",
       "      <td>7237</td>\n",
       "    </tr>\n",
       "    <tr>\n",
       "      <th>top</th>\n",
       "      <td>NaN</td>\n",
       "      <td>NaN</td>\n",
       "      <td>Self-Organization of Associative Database and ...</td>\n",
       "      <td>Poster</td>\n",
       "      <td>1-self-organization-of-associative-database-an...</td>\n",
       "      <td>Abstract Missing</td>\n",
       "      <td>Emergence of Object-Selective Features in\\nUns...</td>\n",
       "    </tr>\n",
       "    <tr>\n",
       "      <th>freq</th>\n",
       "      <td>NaN</td>\n",
       "      <td>NaN</td>\n",
       "      <td>1</td>\n",
       "      <td>2146</td>\n",
       "      <td>1</td>\n",
       "      <td>3317</td>\n",
       "      <td>2</td>\n",
       "    </tr>\n",
       "    <tr>\n",
       "      <th>mean</th>\n",
       "      <td>3655.912167</td>\n",
       "      <td>2006.439718</td>\n",
       "      <td>NaN</td>\n",
       "      <td>NaN</td>\n",
       "      <td>NaN</td>\n",
       "      <td>NaN</td>\n",
       "      <td>NaN</td>\n",
       "    </tr>\n",
       "    <tr>\n",
       "      <th>std</th>\n",
       "      <td>2098.435219</td>\n",
       "      <td>8.759919</td>\n",
       "      <td>NaN</td>\n",
       "      <td>NaN</td>\n",
       "      <td>NaN</td>\n",
       "      <td>NaN</td>\n",
       "      <td>NaN</td>\n",
       "    </tr>\n",
       "    <tr>\n",
       "      <th>min</th>\n",
       "      <td>1.000000</td>\n",
       "      <td>1987.000000</td>\n",
       "      <td>NaN</td>\n",
       "      <td>NaN</td>\n",
       "      <td>NaN</td>\n",
       "      <td>NaN</td>\n",
       "      <td>NaN</td>\n",
       "    </tr>\n",
       "    <tr>\n",
       "      <th>25%</th>\n",
       "      <td>1849.000000</td>\n",
       "      <td>2000.000000</td>\n",
       "      <td>NaN</td>\n",
       "      <td>NaN</td>\n",
       "      <td>NaN</td>\n",
       "      <td>NaN</td>\n",
       "      <td>NaN</td>\n",
       "    </tr>\n",
       "    <tr>\n",
       "      <th>50%</th>\n",
       "      <td>3659.000000</td>\n",
       "      <td>2009.000000</td>\n",
       "      <td>NaN</td>\n",
       "      <td>NaN</td>\n",
       "      <td>NaN</td>\n",
       "      <td>NaN</td>\n",
       "      <td>NaN</td>\n",
       "    </tr>\n",
       "    <tr>\n",
       "      <th>75%</th>\n",
       "      <td>5473.000000</td>\n",
       "      <td>2014.000000</td>\n",
       "      <td>NaN</td>\n",
       "      <td>NaN</td>\n",
       "      <td>NaN</td>\n",
       "      <td>NaN</td>\n",
       "      <td>NaN</td>\n",
       "    </tr>\n",
       "    <tr>\n",
       "      <th>max</th>\n",
       "      <td>7284.000000</td>\n",
       "      <td>2017.000000</td>\n",
       "      <td>NaN</td>\n",
       "      <td>NaN</td>\n",
       "      <td>NaN</td>\n",
       "      <td>NaN</td>\n",
       "      <td>NaN</td>\n",
       "    </tr>\n",
       "  </tbody>\n",
       "</table>\n",
       "</div>"
      ],
      "text/plain": [
       "                 id         year  \\\n",
       "count   7241.000000  7241.000000   \n",
       "unique          NaN          NaN   \n",
       "top             NaN          NaN   \n",
       "freq            NaN          NaN   \n",
       "mean    3655.912167  2006.439718   \n",
       "std     2098.435219     8.759919   \n",
       "min        1.000000  1987.000000   \n",
       "25%     1849.000000  2000.000000   \n",
       "50%     3659.000000  2009.000000   \n",
       "75%     5473.000000  2014.000000   \n",
       "max     7284.000000  2017.000000   \n",
       "\n",
       "                                                    title event_type  \\\n",
       "count                                                7241       2422   \n",
       "unique                                               7241          3   \n",
       "top     Self-Organization of Associative Database and ...     Poster   \n",
       "freq                                                    1       2146   \n",
       "mean                                                  NaN        NaN   \n",
       "std                                                   NaN        NaN   \n",
       "min                                                   NaN        NaN   \n",
       "25%                                                   NaN        NaN   \n",
       "50%                                                   NaN        NaN   \n",
       "75%                                                   NaN        NaN   \n",
       "max                                                   NaN        NaN   \n",
       "\n",
       "                                                 pdf_name          abstract  \\\n",
       "count                                                7241              7241   \n",
       "unique                                               7241              3923   \n",
       "top     1-self-organization-of-associative-database-an...  Abstract Missing   \n",
       "freq                                                    1              3317   \n",
       "mean                                                  NaN               NaN   \n",
       "std                                                   NaN               NaN   \n",
       "min                                                   NaN               NaN   \n",
       "25%                                                   NaN               NaN   \n",
       "50%                                                   NaN               NaN   \n",
       "75%                                                   NaN               NaN   \n",
       "max                                                   NaN               NaN   \n",
       "\n",
       "                                               paper_text  \n",
       "count                                                7241  \n",
       "unique                                               7237  \n",
       "top     Emergence of Object-Selective Features in\\nUns...  \n",
       "freq                                                    2  \n",
       "mean                                                  NaN  \n",
       "std                                                   NaN  \n",
       "min                                                   NaN  \n",
       "25%                                                   NaN  \n",
       "50%                                                   NaN  \n",
       "75%                                                   NaN  \n",
       "max                                                   NaN  "
      ]
     },
     "execution_count": 5,
     "metadata": {},
     "output_type": "execute_result"
    }
   ],
   "source": [
    "papers.describe(include='all')"
   ]
  },
  {
   "cell_type": "markdown",
   "metadata": {},
   "source": [
    "After filling NaNs with the string \"N/A\", we see that \"N/A\" is the most common event, followed by a healthy amount of posters. Spotlights and oral presentations are less common."
   ]
  },
  {
   "cell_type": "code",
   "execution_count": 6,
   "metadata": {},
   "outputs": [
    {
     "data": {
      "text/html": [
       "<div>\n",
       "<style scoped>\n",
       "    .dataframe tbody tr th:only-of-type {\n",
       "        vertical-align: middle;\n",
       "    }\n",
       "\n",
       "    .dataframe tbody tr th {\n",
       "        vertical-align: top;\n",
       "    }\n",
       "\n",
       "    .dataframe thead th {\n",
       "        text-align: right;\n",
       "    }\n",
       "</style>\n",
       "<table border=\"1\" class=\"dataframe\">\n",
       "  <thead>\n",
       "    <tr style=\"text-align: right;\">\n",
       "      <th></th>\n",
       "      <th>id</th>\n",
       "    </tr>\n",
       "    <tr>\n",
       "      <th>event_type</th>\n",
       "      <th></th>\n",
       "    </tr>\n",
       "  </thead>\n",
       "  <tbody>\n",
       "    <tr>\n",
       "      <th>N/A</th>\n",
       "      <td>4819</td>\n",
       "    </tr>\n",
       "    <tr>\n",
       "      <th>Poster</th>\n",
       "      <td>2146</td>\n",
       "    </tr>\n",
       "    <tr>\n",
       "      <th>Spotlight</th>\n",
       "      <td>181</td>\n",
       "    </tr>\n",
       "    <tr>\n",
       "      <th>Oral</th>\n",
       "      <td>95</td>\n",
       "    </tr>\n",
       "  </tbody>\n",
       "</table>\n",
       "</div>"
      ],
      "text/plain": [
       "              id\n",
       "event_type      \n",
       "N/A         4819\n",
       "Poster      2146\n",
       "Spotlight    181\n",
       "Oral          95"
      ]
     },
     "execution_count": 6,
     "metadata": {},
     "output_type": "execute_result"
    }
   ],
   "source": [
    "event_types = papers.fillna('N/A').groupby(by='event_type')['id'].count().sort_values(ascending=False).to_frame()\n",
    "event_types"
   ]
  },
  {
   "cell_type": "markdown",
   "metadata": {},
   "source": [
    "Here are the duplicated paper texts. They seem to be the same paper with different titles attached. For some reason two have no paper text at all, even though the .info showed no null values in that field."
   ]
  },
  {
   "cell_type": "code",
   "execution_count": 7,
   "metadata": {},
   "outputs": [
    {
     "data": {
      "text/html": [
       "<div>\n",
       "<style scoped>\n",
       "    .dataframe tbody tr th:only-of-type {\n",
       "        vertical-align: middle;\n",
       "    }\n",
       "\n",
       "    .dataframe tbody tr th {\n",
       "        vertical-align: top;\n",
       "    }\n",
       "\n",
       "    .dataframe thead th {\n",
       "        text-align: right;\n",
       "    }\n",
       "</style>\n",
       "<table border=\"1\" class=\"dataframe\">\n",
       "  <thead>\n",
       "    <tr style=\"text-align: right;\">\n",
       "      <th></th>\n",
       "      <th>id</th>\n",
       "      <th>year</th>\n",
       "      <th>title</th>\n",
       "      <th>event_type</th>\n",
       "      <th>pdf_name</th>\n",
       "      <th>abstract</th>\n",
       "      <th>paper_text</th>\n",
       "    </tr>\n",
       "  </thead>\n",
       "  <tbody>\n",
       "    <tr>\n",
       "      <th>631</th>\n",
       "      <td>1578</td>\n",
       "      <td>1998</td>\n",
       "      <td>Dynamics of Supervised Learning with Restricte...</td>\n",
       "      <td>NaN</td>\n",
       "      <td>1578-dynamics-of-supervised-learning-with-rest...</td>\n",
       "      <td>Abstract Missing</td>\n",
       "      <td>Dynamics of Supervised Learning with\\nRestrict...</td>\n",
       "    </tr>\n",
       "    <tr>\n",
       "      <th>632</th>\n",
       "      <td>1579</td>\n",
       "      <td>1998</td>\n",
       "      <td>Discovering Hidden Features with Gaussian Proc...</td>\n",
       "      <td>NaN</td>\n",
       "      <td>1579-discovering-hidden-features-with-gaussian...</td>\n",
       "      <td>Abstract Missing</td>\n",
       "      <td>Dynamics of Supervised Learning with\\nRestrict...</td>\n",
       "    </tr>\n",
       "    <tr>\n",
       "      <th>3862</th>\n",
       "      <td>4497</td>\n",
       "      <td>2012</td>\n",
       "      <td>Emergence of Object-Selective Features in Unsu...</td>\n",
       "      <td>NaN</td>\n",
       "      <td>4497-emergence-of-object-selective-features-in...</td>\n",
       "      <td>Recent work in unsupervised feature learning h...</td>\n",
       "      <td>Emergence of Object-Selective Features in\\nUns...</td>\n",
       "    </tr>\n",
       "    <tr>\n",
       "      <th>4109</th>\n",
       "      <td>4719</td>\n",
       "      <td>2012</td>\n",
       "      <td>Burn-in, bias, and the rationality of anchoring</td>\n",
       "      <td>NaN</td>\n",
       "      <td>4719-burn-in-bias-and-the-rationality-of-ancho...</td>\n",
       "      <td>Bayesian inference provides a unifying framewo...</td>\n",
       "      <td>Emergence of Object-Selective Features in\\nUns...</td>\n",
       "    </tr>\n",
       "    <tr>\n",
       "      <th>5583</th>\n",
       "      <td>6052</td>\n",
       "      <td>2016</td>\n",
       "      <td>Only H is left: Near-tight Episodic PAC RL</td>\n",
       "      <td>Poster</td>\n",
       "      <td>6052-only-h-is-left-near-tight-episodic-pac-rl...</td>\n",
       "      <td>In many applications such as advertisement pla...</td>\n",
       "      <td>Launch and Iterate: Reducing Prediction Churn\\...</td>\n",
       "    </tr>\n",
       "    <tr>\n",
       "      <th>5584</th>\n",
       "      <td>6053</td>\n",
       "      <td>2016</td>\n",
       "      <td>Launch and Iterate: Reducing Prediction Churn</td>\n",
       "      <td>Poster</td>\n",
       "      <td>6053-launch-and-iterate-reducing-prediction-ch...</td>\n",
       "      <td>Practical applications of machine learning oft...</td>\n",
       "      <td>Launch and Iterate: Reducing Prediction Churn\\...</td>\n",
       "    </tr>\n",
       "    <tr>\n",
       "      <th>5722</th>\n",
       "      <td>6178</td>\n",
       "      <td>2016</td>\n",
       "      <td>Regret Bounds for Non-decomposable Metrics wit...</td>\n",
       "      <td>Poster</td>\n",
       "      <td>6178-regret-bounds-for-non-decomposable-metric...</td>\n",
       "      <td>We consider the problem of recommending releva...</td>\n",
       "      <td></td>\n",
       "    </tr>\n",
       "    <tr>\n",
       "      <th>6499</th>\n",
       "      <td>6879</td>\n",
       "      <td>2017</td>\n",
       "      <td>Mean Field Residual Networks: On the Edge of C...</td>\n",
       "      <td>Poster</td>\n",
       "      <td>6879-mean-field-residual-networks-on-the-edge-...</td>\n",
       "      <td>We study randomly initialized residual network...</td>\n",
       "      <td></td>\n",
       "    </tr>\n",
       "  </tbody>\n",
       "</table>\n",
       "</div>"
      ],
      "text/plain": [
       "        id  year                                              title  \\\n",
       "631   1578  1998  Dynamics of Supervised Learning with Restricte...   \n",
       "632   1579  1998  Discovering Hidden Features with Gaussian Proc...   \n",
       "3862  4497  2012  Emergence of Object-Selective Features in Unsu...   \n",
       "4109  4719  2012    Burn-in, bias, and the rationality of anchoring   \n",
       "5583  6052  2016         Only H is left: Near-tight Episodic PAC RL   \n",
       "5584  6053  2016      Launch and Iterate: Reducing Prediction Churn   \n",
       "5722  6178  2016  Regret Bounds for Non-decomposable Metrics wit...   \n",
       "6499  6879  2017  Mean Field Residual Networks: On the Edge of C...   \n",
       "\n",
       "     event_type                                           pdf_name  \\\n",
       "631         NaN  1578-dynamics-of-supervised-learning-with-rest...   \n",
       "632         NaN  1579-discovering-hidden-features-with-gaussian...   \n",
       "3862        NaN  4497-emergence-of-object-selective-features-in...   \n",
       "4109        NaN  4719-burn-in-bias-and-the-rationality-of-ancho...   \n",
       "5583     Poster  6052-only-h-is-left-near-tight-episodic-pac-rl...   \n",
       "5584     Poster  6053-launch-and-iterate-reducing-prediction-ch...   \n",
       "5722     Poster  6178-regret-bounds-for-non-decomposable-metric...   \n",
       "6499     Poster  6879-mean-field-residual-networks-on-the-edge-...   \n",
       "\n",
       "                                               abstract  \\\n",
       "631                                    Abstract Missing   \n",
       "632                                    Abstract Missing   \n",
       "3862  Recent work in unsupervised feature learning h...   \n",
       "4109  Bayesian inference provides a unifying framewo...   \n",
       "5583  In many applications such as advertisement pla...   \n",
       "5584  Practical applications of machine learning oft...   \n",
       "5722  We consider the problem of recommending releva...   \n",
       "6499  We study randomly initialized residual network...   \n",
       "\n",
       "                                             paper_text  \n",
       "631   Dynamics of Supervised Learning with\\nRestrict...  \n",
       "632   Dynamics of Supervised Learning with\\nRestrict...  \n",
       "3862  Emergence of Object-Selective Features in\\nUns...  \n",
       "4109  Emergence of Object-Selective Features in\\nUns...  \n",
       "5583  Launch and Iterate: Reducing Prediction Churn\\...  \n",
       "5584  Launch and Iterate: Reducing Prediction Churn\\...  \n",
       "5722                                          \n",
       "\n",
       "\n",
       "\n",
       "\n",
       "\n",
       "\n",
       "\n",
       "\n",
       "  \n",
       "6499                                          \n",
       "\n",
       "\n",
       "\n",
       "\n",
       "\n",
       "\n",
       "\n",
       "\n",
       "  "
      ]
     },
     "execution_count": 7,
     "metadata": {},
     "output_type": "execute_result"
    }
   ],
   "source": [
    "papers[papers['paper_text'].duplicated(keep=False)]"
   ]
  },
  {
   "cell_type": "markdown",
   "metadata": {},
   "source": [
    "Here I am plotting number of papers by year. There is an increase after ~2008 and a sharp increase after 2015, either because the conference became more popular or because more papers were published/recorded online."
   ]
  },
  {
   "cell_type": "code",
   "execution_count": 8,
   "metadata": {},
   "outputs": [
    {
     "data": {
      "text/plain": [
       "<matplotlib.legend.Legend at 0x221c53e23d0>"
      ]
     },
     "execution_count": 8,
     "metadata": {},
     "output_type": "execute_result"
    },
    {
     "data": {
      "image/png": "[encoded data removed]",
      "text/plain": [
       "<Figure size 432x288 with 1 Axes>"
      ]
     },
     "metadata": {
      "needs_background": "light"
     },
     "output_type": "display_data"
    }
   ],
   "source": [
    "papers_per_year = papers.groupby(by='year')['id'].count().to_frame()\n",
    "papers_per_year.reset_index(inplace=True)\n",
    "papers_per_year.plot(x='year', y='id')\n",
    "plt.legend(['papers'])"
   ]
  },
  {
   "cell_type": "markdown",
   "metadata": {},
   "source": [
    "The dataset is fairly modern, ~43% of it was written after 2010."
   ]
  },
  {
   "cell_type": "code",
   "execution_count": 9,
   "metadata": {},
   "outputs": [
    {
     "data": {
      "text/plain": [
       "0.4275652534180362"
      ]
     },
     "execution_count": 9,
     "metadata": {},
     "output_type": "execute_result"
    }
   ],
   "source": [
    "papers_per_year['id'][papers_per_year['year']>2010].sum() / 7241"
   ]
  },
  {
   "cell_type": "markdown",
   "metadata": {},
   "source": [
    "Most of the papers with missing abstracts were written before 2005, and none of the most recent papers have missing abstracts. The abstracts themselves are likely still in the paper text itself, they just likely weren't recorded seperately before 2005"
   ]
  },
  {
   "cell_type": "code",
   "execution_count": 10,
   "metadata": {},
   "outputs": [
    {
     "data": {
      "text/plain": [
       "<matplotlib.legend.Legend at 0x221c7cc1550>"
      ]
     },
     "execution_count": 10,
     "metadata": {},
     "output_type": "execute_result"
    },
    {
     "data": {
      "image/png": "[encoded data removed]",
      "text/plain": [
       "<Figure size 432x288 with 1 Axes>"
      ]
     },
     "metadata": {
      "needs_background": "light"
     },
     "output_type": "display_data"
    }
   ],
   "source": [
    "abstract_missing_year = papers.query('abstract == \"Abstract Missing\"').groupby(by='year')['abstract'].count().to_frame()\n",
    "abstract_missing_year.reset_index(inplace=True)\n",
    "abstract_missing_year.plot(x='year', y='abstract')\n",
    "plt.legend(['Abstract Missing'])"
   ]
  },
  {
   "cell_type": "markdown",
   "metadata": {},
   "source": [
    "This plot of # of abstracts missing divided by the total number of papers that year confirms my suspicion that abstracts werent recorded seperately before 2005, minus a few outliers."
   ]
  },
  {
   "cell_type": "code",
   "execution_count": 11,
   "metadata": {},
   "outputs": [
    {
     "data": {
      "text/plain": [
       "<AxesSubplot:xlabel='year'>"
      ]
     },
     "execution_count": 11,
     "metadata": {},
     "output_type": "execute_result"
    },
    {
     "data": {
      "image/png": "[encoded data removed]",
      "text/plain": [
       "<Figure size 432x288 with 1 Axes>"
      ]
     },
     "metadata": {
      "needs_background": "light"
     },
     "output_type": "display_data"
    }
   ],
   "source": [
    "abstract_missing_year['missing_div_total_paper'] = abstract_missing_year['abstract'] / papers_per_year['id']\n",
    "\n",
    "abstract_missing_year.plot(x='year', y='missing_div_total_paper')"
   ]
  },
  {
   "cell_type": "markdown",
   "metadata": {},
   "source": [
    "This next segment will deal with the \"authors.csv\" file."
   ]
  },
  {
   "cell_type": "code",
   "execution_count": 12,
   "metadata": {},
   "outputs": [],
   "source": [
    "authors = pd.read_csv('E:/OtherCodeProjects/Springboard Capstone Projects/Springboard-Capstone-1-Data/authors.csv')"
   ]
  },
  {
   "cell_type": "markdown",
   "metadata": {},
   "source": [
    "The dataset itself just consists of author names in plaintext, and an associated id."
   ]
  },
  {
   "cell_type": "code",
   "execution_count": 13,
   "metadata": {},
   "outputs": [
    {
     "data": {
      "text/html": [
       "<div>\n",
       "<style scoped>\n",
       "    .dataframe tbody tr th:only-of-type {\n",
       "        vertical-align: middle;\n",
       "    }\n",
       "\n",
       "    .dataframe tbody tr th {\n",
       "        vertical-align: top;\n",
       "    }\n",
       "\n",
       "    .dataframe thead th {\n",
       "        text-align: right;\n",
       "    }\n",
       "</style>\n",
       "<table border=\"1\" class=\"dataframe\">\n",
       "  <thead>\n",
       "    <tr style=\"text-align: right;\">\n",
       "      <th></th>\n",
       "      <th>id</th>\n",
       "      <th>name</th>\n",
       "    </tr>\n",
       "  </thead>\n",
       "  <tbody>\n",
       "    <tr>\n",
       "      <th>0</th>\n",
       "      <td>1</td>\n",
       "      <td>Hisashi Suzuki</td>\n",
       "    </tr>\n",
       "    <tr>\n",
       "      <th>1</th>\n",
       "      <td>10</td>\n",
       "      <td>David Brady</td>\n",
       "    </tr>\n",
       "    <tr>\n",
       "      <th>2</th>\n",
       "      <td>100</td>\n",
       "      <td>Santosh S. Venkatesh</td>\n",
       "    </tr>\n",
       "    <tr>\n",
       "      <th>3</th>\n",
       "      <td>1000</td>\n",
       "      <td>Charles Fefferman</td>\n",
       "    </tr>\n",
       "    <tr>\n",
       "      <th>4</th>\n",
       "      <td>10000</td>\n",
       "      <td>Artur Speiser</td>\n",
       "    </tr>\n",
       "  </tbody>\n",
       "</table>\n",
       "</div>"
      ],
      "text/plain": [
       "      id                  name\n",
       "0      1        Hisashi Suzuki\n",
       "1     10           David Brady\n",
       "2    100  Santosh S. Venkatesh\n",
       "3   1000     Charles Fefferman\n",
       "4  10000         Artur Speiser"
      ]
     },
     "execution_count": 13,
     "metadata": {},
     "output_type": "execute_result"
    }
   ],
   "source": [
    "authors.head()"
   ]
  },
  {
   "cell_type": "markdown",
   "metadata": {},
   "source": [
    "I don't see any obviously missing values, and there are a total of 9784 authors listed. More than the number of papers, which is to be expected. "
   ]
  },
  {
   "cell_type": "code",
   "execution_count": 14,
   "metadata": {},
   "outputs": [
    {
     "name": "stdout",
     "output_type": "stream",
     "text": [
      "<class 'pandas.core.frame.DataFrame'>\n",
      "RangeIndex: 9784 entries, 0 to 9783\n",
      "Data columns (total 2 columns):\n",
      " #   Column  Non-Null Count  Dtype \n",
      "---  ------  --------------  ----- \n",
      " 0   id      9784 non-null   int64 \n",
      " 1   name    9784 non-null   object\n",
      "dtypes: int64(1), object(1)\n",
      "memory usage: 153.0+ KB\n"
     ]
    }
   ],
   "source": [
    "authors.info()"
   ]
  },
  {
   "cell_type": "markdown",
   "metadata": {},
   "source": [
    "I can see that there are a number of authors with the same name, and it will be very difficult to know if they are one person or multiple people that share a name"
   ]
  },
  {
   "cell_type": "code",
   "execution_count": 15,
   "metadata": {},
   "outputs": [
    {
     "data": {
      "text/html": [
       "<div>\n",
       "<style scoped>\n",
       "    .dataframe tbody tr th:only-of-type {\n",
       "        vertical-align: middle;\n",
       "    }\n",
       "\n",
       "    .dataframe tbody tr th {\n",
       "        vertical-align: top;\n",
       "    }\n",
       "\n",
       "    .dataframe thead th {\n",
       "        text-align: right;\n",
       "    }\n",
       "</style>\n",
       "<table border=\"1\" class=\"dataframe\">\n",
       "  <thead>\n",
       "    <tr style=\"text-align: right;\">\n",
       "      <th></th>\n",
       "      <th>id</th>\n",
       "      <th>name</th>\n",
       "    </tr>\n",
       "  </thead>\n",
       "  <tbody>\n",
       "    <tr>\n",
       "      <th>count</th>\n",
       "      <td>9784.000000</td>\n",
       "      <td>9784</td>\n",
       "    </tr>\n",
       "    <tr>\n",
       "      <th>unique</th>\n",
       "      <td>NaN</td>\n",
       "      <td>9719</td>\n",
       "    </tr>\n",
       "    <tr>\n",
       "      <th>top</th>\n",
       "      <td>NaN</td>\n",
       "      <td>Stella X. Yu</td>\n",
       "    </tr>\n",
       "    <tr>\n",
       "      <th>freq</th>\n",
       "      <td>NaN</td>\n",
       "      <td>3</td>\n",
       "    </tr>\n",
       "    <tr>\n",
       "      <th>mean</th>\n",
       "      <td>5213.869276</td>\n",
       "      <td>NaN</td>\n",
       "    </tr>\n",
       "    <tr>\n",
       "      <th>std</th>\n",
       "      <td>3101.338416</td>\n",
       "      <td>NaN</td>\n",
       "    </tr>\n",
       "    <tr>\n",
       "      <th>min</th>\n",
       "      <td>1.000000</td>\n",
       "      <td>NaN</td>\n",
       "    </tr>\n",
       "    <tr>\n",
       "      <th>25%</th>\n",
       "      <td>2506.750000</td>\n",
       "      <td>NaN</td>\n",
       "    </tr>\n",
       "    <tr>\n",
       "      <th>50%</th>\n",
       "      <td>4958.500000</td>\n",
       "      <td>NaN</td>\n",
       "    </tr>\n",
       "    <tr>\n",
       "      <th>75%</th>\n",
       "      <td>8021.250000</td>\n",
       "      <td>NaN</td>\n",
       "    </tr>\n",
       "    <tr>\n",
       "      <th>max</th>\n",
       "      <td>10482.000000</td>\n",
       "      <td>NaN</td>\n",
       "    </tr>\n",
       "  </tbody>\n",
       "</table>\n",
       "</div>"
      ],
      "text/plain": [
       "                  id          name\n",
       "count    9784.000000          9784\n",
       "unique           NaN          9719\n",
       "top              NaN  Stella X. Yu\n",
       "freq             NaN             3\n",
       "mean     5213.869276           NaN\n",
       "std      3101.338416           NaN\n",
       "min         1.000000           NaN\n",
       "25%      2506.750000           NaN\n",
       "50%      4958.500000           NaN\n",
       "75%      8021.250000           NaN\n",
       "max     10482.000000           NaN"
      ]
     },
     "execution_count": 15,
     "metadata": {},
     "output_type": "execute_result"
    }
   ],
   "source": [
    "authors.describe(include='all')"
   ]
  },
  {
   "cell_type": "markdown",
   "metadata": {},
   "source": [
    "Luckily, all of the duplicated names are duplicated only two or three times."
   ]
  },
  {
   "cell_type": "code",
   "execution_count": 16,
   "metadata": {},
   "outputs": [
    {
     "data": {
      "text/html": [
       "<div>\n",
       "<style scoped>\n",
       "    .dataframe tbody tr th:only-of-type {\n",
       "        vertical-align: middle;\n",
       "    }\n",
       "\n",
       "    .dataframe tbody tr th {\n",
       "        vertical-align: top;\n",
       "    }\n",
       "\n",
       "    .dataframe thead th {\n",
       "        text-align: right;\n",
       "    }\n",
       "</style>\n",
       "<table border=\"1\" class=\"dataframe\">\n",
       "  <thead>\n",
       "    <tr style=\"text-align: right;\">\n",
       "      <th></th>\n",
       "      <th>name</th>\n",
       "      <th>count</th>\n",
       "    </tr>\n",
       "  </thead>\n",
       "  <tbody>\n",
       "    <tr>\n",
       "      <th>0</th>\n",
       "      <td>Daniel D. Lee</td>\n",
       "      <td>3</td>\n",
       "    </tr>\n",
       "    <tr>\n",
       "      <th>1</th>\n",
       "      <td>Stella X. Yu</td>\n",
       "      <td>3</td>\n",
       "    </tr>\n",
       "    <tr>\n",
       "      <th>2</th>\n",
       "      <td>Abhradeep Guha Thakurta</td>\n",
       "      <td>2</td>\n",
       "    </tr>\n",
       "    <tr>\n",
       "      <th>3</th>\n",
       "      <td>Murat A. Erdogdu</td>\n",
       "      <td>2</td>\n",
       "    </tr>\n",
       "    <tr>\n",
       "      <th>4</th>\n",
       "      <td>Quoc V. Le</td>\n",
       "      <td>2</td>\n",
       "    </tr>\n",
       "    <tr>\n",
       "      <th>...</th>\n",
       "      <td>...</td>\n",
       "      <td>...</td>\n",
       "    </tr>\n",
       "    <tr>\n",
       "      <th>58</th>\n",
       "      <td>Jianbo Shi</td>\n",
       "      <td>2</td>\n",
       "    </tr>\n",
       "    <tr>\n",
       "      <th>59</th>\n",
       "      <td>Jo?o F. Henriques</td>\n",
       "      <td>2</td>\n",
       "    </tr>\n",
       "    <tr>\n",
       "      <th>60</th>\n",
       "      <td>Joachim M. Buhmann</td>\n",
       "      <td>2</td>\n",
       "    </tr>\n",
       "    <tr>\n",
       "      <th>61</th>\n",
       "      <td>Joaquin Qui?onero Candela</td>\n",
       "      <td>2</td>\n",
       "    </tr>\n",
       "    <tr>\n",
       "      <th>62</th>\n",
       "      <td>Zhaoran Wang</td>\n",
       "      <td>2</td>\n",
       "    </tr>\n",
       "  </tbody>\n",
       "</table>\n",
       "<p>63 rows × 2 columns</p>\n",
       "</div>"
      ],
      "text/plain": [
       "                         name  count\n",
       "0               Daniel D. Lee      3\n",
       "1                Stella X. Yu      3\n",
       "2     Abhradeep Guha Thakurta      2\n",
       "3            Murat A. Erdogdu      2\n",
       "4                  Quoc V. Le      2\n",
       "..                        ...    ...\n",
       "58                 Jianbo Shi      2\n",
       "59          Jo?o F. Henriques      2\n",
       "60         Joachim M. Buhmann      2\n",
       "61  Joaquin Qui?onero Candela      2\n",
       "62               Zhaoran Wang      2\n",
       "\n",
       "[63 rows x 2 columns]"
      ]
     },
     "execution_count": 16,
     "metadata": {},
     "output_type": "execute_result"
    }
   ],
   "source": [
    "duplicate_authors = authors[authors['name'].duplicated(keep=False)].groupby(by='name')['id'].count().sort_values(ascending=False).to_frame()\n",
    "duplicate_authors.reset_index(inplace=True)\n",
    "duplicate_authors.rename(columns={\"id\":\"count\"}, inplace=True)\n",
    "duplicate_authors"
   ]
  },
  {
   "cell_type": "markdown",
   "metadata": {},
   "source": [
    "Saving the duplicate names for later checking"
   ]
  },
  {
   "cell_type": "code",
   "execution_count": 17,
   "metadata": {},
   "outputs": [],
   "source": [
    "duplicate_names = []\n",
    "for name in duplicate_authors['name']:\n",
    "    duplicate_names.append(name)"
   ]
  },
  {
   "cell_type": "markdown",
   "metadata": {},
   "source": [
    "This part of the notebook takes a look at the \"paper_authors.csv\" dataset."
   ]
  },
  {
   "cell_type": "code",
   "execution_count": 18,
   "metadata": {},
   "outputs": [],
   "source": [
    "paper_authors = pd.read_csv('E:/OtherCodeProjects/Springboard Capstone Projects/Springboard-Capstone-1-Data/paper_authors.csv')"
   ]
  },
  {
   "cell_type": "markdown",
   "metadata": {},
   "source": [
    "As expected, the dataframe consists of a paper_id and a matching author_id. Authors have written multiple papers and papers have multiple authors."
   ]
  },
  {
   "cell_type": "code",
   "execution_count": 19,
   "metadata": {},
   "outputs": [
    {
     "data": {
      "text/html": [
       "<div>\n",
       "<style scoped>\n",
       "    .dataframe tbody tr th:only-of-type {\n",
       "        vertical-align: middle;\n",
       "    }\n",
       "\n",
       "    .dataframe tbody tr th {\n",
       "        vertical-align: top;\n",
       "    }\n",
       "\n",
       "    .dataframe thead th {\n",
       "        text-align: right;\n",
       "    }\n",
       "</style>\n",
       "<table border=\"1\" class=\"dataframe\">\n",
       "  <thead>\n",
       "    <tr style=\"text-align: right;\">\n",
       "      <th></th>\n",
       "      <th>id</th>\n",
       "      <th>paper_id</th>\n",
       "      <th>author_id</th>\n",
       "    </tr>\n",
       "  </thead>\n",
       "  <tbody>\n",
       "    <tr>\n",
       "      <th>0</th>\n",
       "      <td>1</td>\n",
       "      <td>63</td>\n",
       "      <td>94</td>\n",
       "    </tr>\n",
       "    <tr>\n",
       "      <th>1</th>\n",
       "      <td>2</td>\n",
       "      <td>80</td>\n",
       "      <td>124</td>\n",
       "    </tr>\n",
       "    <tr>\n",
       "      <th>2</th>\n",
       "      <td>3</td>\n",
       "      <td>80</td>\n",
       "      <td>125</td>\n",
       "    </tr>\n",
       "    <tr>\n",
       "      <th>3</th>\n",
       "      <td>4</td>\n",
       "      <td>80</td>\n",
       "      <td>126</td>\n",
       "    </tr>\n",
       "    <tr>\n",
       "      <th>4</th>\n",
       "      <td>5</td>\n",
       "      <td>80</td>\n",
       "      <td>127</td>\n",
       "    </tr>\n",
       "  </tbody>\n",
       "</table>\n",
       "</div>"
      ],
      "text/plain": [
       "   id  paper_id  author_id\n",
       "0   1        63         94\n",
       "1   2        80        124\n",
       "2   3        80        125\n",
       "3   4        80        126\n",
       "4   5        80        127"
      ]
     },
     "execution_count": 19,
     "metadata": {},
     "output_type": "execute_result"
    }
   ],
   "source": [
    "paper_authors.head()"
   ]
  },
  {
   "cell_type": "markdown",
   "metadata": {},
   "source": [
    "There are 20838 paper-author combinations, and no apparent null values."
   ]
  },
  {
   "cell_type": "code",
   "execution_count": 20,
   "metadata": {},
   "outputs": [
    {
     "name": "stdout",
     "output_type": "stream",
     "text": [
      "<class 'pandas.core.frame.DataFrame'>\n",
      "RangeIndex: 20838 entries, 0 to 20837\n",
      "Data columns (total 3 columns):\n",
      " #   Column     Non-Null Count  Dtype\n",
      "---  ------     --------------  -----\n",
      " 0   id         20838 non-null  int64\n",
      " 1   paper_id   20838 non-null  int64\n",
      " 2   author_id  20838 non-null  int64\n",
      "dtypes: int64(3)\n",
      "memory usage: 488.5 KB\n"
     ]
    }
   ],
   "source": [
    "paper_authors.info()"
   ]
  },
  {
   "cell_type": "markdown",
   "metadata": {},
   "source": [
    "Grouping by authors, I can see a few that have written more than 50 papers, but most have probably written only 1 or 2. I have the expected 9784 authors in this dataset."
   ]
  },
  {
   "cell_type": "code",
   "execution_count": 21,
   "metadata": {},
   "outputs": [
    {
     "data": {
      "text/html": [
       "<div>\n",
       "<style scoped>\n",
       "    .dataframe tbody tr th:only-of-type {\n",
       "        vertical-align: middle;\n",
       "    }\n",
       "\n",
       "    .dataframe tbody tr th {\n",
       "        vertical-align: top;\n",
       "    }\n",
       "\n",
       "    .dataframe thead th {\n",
       "        text-align: right;\n",
       "    }\n",
       "</style>\n",
       "<table border=\"1\" class=\"dataframe\">\n",
       "  <thead>\n",
       "    <tr style=\"text-align: right;\">\n",
       "      <th></th>\n",
       "      <th>author_id</th>\n",
       "      <th>count</th>\n",
       "    </tr>\n",
       "  </thead>\n",
       "  <tbody>\n",
       "    <tr>\n",
       "      <th>0</th>\n",
       "      <td>330</td>\n",
       "      <td>79</td>\n",
       "    </tr>\n",
       "    <tr>\n",
       "      <th>1</th>\n",
       "      <td>1472</td>\n",
       "      <td>62</td>\n",
       "    </tr>\n",
       "    <tr>\n",
       "      <th>2</th>\n",
       "      <td>178</td>\n",
       "      <td>60</td>\n",
       "    </tr>\n",
       "    <tr>\n",
       "      <th>3</th>\n",
       "      <td>121</td>\n",
       "      <td>58</td>\n",
       "    </tr>\n",
       "    <tr>\n",
       "      <th>4</th>\n",
       "      <td>1020</td>\n",
       "      <td>51</td>\n",
       "    </tr>\n",
       "    <tr>\n",
       "      <th>...</th>\n",
       "      <td>...</td>\n",
       "      <td>...</td>\n",
       "    </tr>\n",
       "    <tr>\n",
       "      <th>9779</th>\n",
       "      <td>4228</td>\n",
       "      <td>1</td>\n",
       "    </tr>\n",
       "    <tr>\n",
       "      <th>9780</th>\n",
       "      <td>4226</td>\n",
       "      <td>1</td>\n",
       "    </tr>\n",
       "    <tr>\n",
       "      <th>9781</th>\n",
       "      <td>4222</td>\n",
       "      <td>1</td>\n",
       "    </tr>\n",
       "    <tr>\n",
       "      <th>9782</th>\n",
       "      <td>4221</td>\n",
       "      <td>1</td>\n",
       "    </tr>\n",
       "    <tr>\n",
       "      <th>9783</th>\n",
       "      <td>10482</td>\n",
       "      <td>1</td>\n",
       "    </tr>\n",
       "  </tbody>\n",
       "</table>\n",
       "<p>9784 rows × 2 columns</p>\n",
       "</div>"
      ],
      "text/plain": [
       "      author_id  count\n",
       "0           330     79\n",
       "1          1472     62\n",
       "2           178     60\n",
       "3           121     58\n",
       "4          1020     51\n",
       "...         ...    ...\n",
       "9779       4228      1\n",
       "9780       4226      1\n",
       "9781       4222      1\n",
       "9782       4221      1\n",
       "9783      10482      1\n",
       "\n",
       "[9784 rows x 2 columns]"
      ]
     },
     "execution_count": 21,
     "metadata": {},
     "output_type": "execute_result"
    }
   ],
   "source": [
    "papers_per_auth = paper_authors.groupby(by='author_id')['paper_id'].count().sort_values(ascending=False).to_frame()\n",
    "papers_per_auth.reset_index(inplace=True)\n",
    "papers_per_auth.rename(columns={\"paper_id\":\"count\"}, inplace=True)\n",
    "papers_per_auth"
   ]
  },
  {
   "cell_type": "markdown",
   "metadata": {},
   "source": [
    "The most prolific author in the dataset is Michael I. Jordan, I can start the project just trying to predict his papers. "
   ]
  },
  {
   "cell_type": "code",
   "execution_count": 22,
   "metadata": {},
   "outputs": [
    {
     "data": {
      "text/html": [
       "<div>\n",
       "<style scoped>\n",
       "    .dataframe tbody tr th:only-of-type {\n",
       "        vertical-align: middle;\n",
       "    }\n",
       "\n",
       "    .dataframe tbody tr th {\n",
       "        vertical-align: top;\n",
       "    }\n",
       "\n",
       "    .dataframe thead th {\n",
       "        text-align: right;\n",
       "    }\n",
       "</style>\n",
       "<table border=\"1\" class=\"dataframe\">\n",
       "  <thead>\n",
       "    <tr style=\"text-align: right;\">\n",
       "      <th></th>\n",
       "      <th>id</th>\n",
       "      <th>name</th>\n",
       "    </tr>\n",
       "  </thead>\n",
       "  <tbody>\n",
       "    <tr>\n",
       "      <th>3007</th>\n",
       "      <td>330</td>\n",
       "      <td>Michael I. Jordan</td>\n",
       "    </tr>\n",
       "  </tbody>\n",
       "</table>\n",
       "</div>"
      ],
      "text/plain": [
       "       id               name\n",
       "3007  330  Michael I. Jordan"
      ]
     },
     "execution_count": 22,
     "metadata": {},
     "output_type": "execute_result"
    }
   ],
   "source": [
    "authors.query('id == 330')"
   ]
  },
  {
   "cell_type": "markdown",
   "metadata": {},
   "source": [
    "Here are the top 5 prolific authors, I will focus on these in the final analysis"
   ]
  },
  {
   "cell_type": "code",
   "execution_count": 23,
   "metadata": {},
   "outputs": [
    {
     "data": {
      "text/html": [
       "<div>\n",
       "<style scoped>\n",
       "    .dataframe tbody tr th:only-of-type {\n",
       "        vertical-align: middle;\n",
       "    }\n",
       "\n",
       "    .dataframe tbody tr th {\n",
       "        vertical-align: top;\n",
       "    }\n",
       "\n",
       "    .dataframe thead th {\n",
       "        text-align: right;\n",
       "    }\n",
       "</style>\n",
       "<table border=\"1\" class=\"dataframe\">\n",
       "  <thead>\n",
       "    <tr style=\"text-align: right;\">\n",
       "      <th></th>\n",
       "      <th>id</th>\n",
       "      <th>name</th>\n",
       "    </tr>\n",
       "  </thead>\n",
       "  <tbody>\n",
       "    <tr>\n",
       "      <th>223</th>\n",
       "      <td>1020</td>\n",
       "      <td>Zoubin Ghahramani</td>\n",
       "    </tr>\n",
       "    <tr>\n",
       "      <th>701</th>\n",
       "      <td>121</td>\n",
       "      <td>Geoffrey E. Hinton</td>\n",
       "    </tr>\n",
       "    <tr>\n",
       "      <th>992</th>\n",
       "      <td>1472</td>\n",
       "      <td>Bernhard Sch?lkopf</td>\n",
       "    </tr>\n",
       "    <tr>\n",
       "      <th>1332</th>\n",
       "      <td>178</td>\n",
       "      <td>Yoshua Bengio</td>\n",
       "    </tr>\n",
       "    <tr>\n",
       "      <th>3007</th>\n",
       "      <td>330</td>\n",
       "      <td>Michael I. Jordan</td>\n",
       "    </tr>\n",
       "  </tbody>\n",
       "</table>\n",
       "</div>"
      ],
      "text/plain": [
       "        id                name\n",
       "223   1020   Zoubin Ghahramani\n",
       "701    121  Geoffrey E. Hinton\n",
       "992   1472  Bernhard Sch?lkopf\n",
       "1332   178       Yoshua Bengio\n",
       "3007   330   Michael I. Jordan"
      ]
     },
     "execution_count": 23,
     "metadata": {},
     "output_type": "execute_result"
    }
   ],
   "source": [
    "top_five = authors[authors['id'].isin([330, 1472, 178, 121, 1020])]\n",
    "top_five"
   ]
  },
  {
   "cell_type": "markdown",
   "metadata": {},
   "source": [
    "Our top author is duplicated! "
   ]
  },
  {
   "cell_type": "code",
   "execution_count": 24,
   "metadata": {},
   "outputs": [
    {
     "data": {
      "text/html": [
       "<div>\n",
       "<style scoped>\n",
       "    .dataframe tbody tr th:only-of-type {\n",
       "        vertical-align: middle;\n",
       "    }\n",
       "\n",
       "    .dataframe tbody tr th {\n",
       "        vertical-align: top;\n",
       "    }\n",
       "\n",
       "    .dataframe thead th {\n",
       "        text-align: right;\n",
       "    }\n",
       "</style>\n",
       "<table border=\"1\" class=\"dataframe\">\n",
       "  <thead>\n",
       "    <tr style=\"text-align: right;\">\n",
       "      <th></th>\n",
       "      <th>id</th>\n",
       "      <th>name</th>\n",
       "    </tr>\n",
       "  </thead>\n",
       "  <tbody>\n",
       "    <tr>\n",
       "      <th>3007</th>\n",
       "      <td>330</td>\n",
       "      <td>Michael I. Jordan</td>\n",
       "    </tr>\n",
       "  </tbody>\n",
       "</table>\n",
       "</div>"
      ],
      "text/plain": [
       "       id               name\n",
       "3007  330  Michael I. Jordan"
      ]
     },
     "execution_count": 24,
     "metadata": {},
     "output_type": "execute_result"
    }
   ],
   "source": [
    "top_five[top_five['name'].isin(duplicate_names)]"
   ]
  },
  {
   "cell_type": "code",
   "execution_count": 25,
   "metadata": {},
   "outputs": [
    {
     "data": {
      "text/html": [
       "<div>\n",
       "<style scoped>\n",
       "    .dataframe tbody tr th:only-of-type {\n",
       "        vertical-align: middle;\n",
       "    }\n",
       "\n",
       "    .dataframe tbody tr th {\n",
       "        vertical-align: top;\n",
       "    }\n",
       "\n",
       "    .dataframe thead th {\n",
       "        text-align: right;\n",
       "    }\n",
       "</style>\n",
       "<table border=\"1\" class=\"dataframe\">\n",
       "  <thead>\n",
       "    <tr style=\"text-align: right;\">\n",
       "      <th></th>\n",
       "      <th>id</th>\n",
       "      <th>name</th>\n",
       "    </tr>\n",
       "  </thead>\n",
       "  <tbody>\n",
       "    <tr>\n",
       "      <th>3007</th>\n",
       "      <td>330</td>\n",
       "      <td>Michael I. Jordan</td>\n",
       "    </tr>\n",
       "    <tr>\n",
       "      <th>5790</th>\n",
       "      <td>6338</td>\n",
       "      <td>Michael I. Jordan</td>\n",
       "    </tr>\n",
       "  </tbody>\n",
       "</table>\n",
       "</div>"
      ],
      "text/plain": [
       "        id               name\n",
       "3007   330  Michael I. Jordan\n",
       "5790  6338  Michael I. Jordan"
      ]
     },
     "execution_count": 25,
     "metadata": {},
     "output_type": "execute_result"
    }
   ],
   "source": [
    "authors.query('name == \"Michael I. Jordan\"')"
   ]
  },
  {
   "cell_type": "markdown",
   "metadata": {},
   "source": [
    "This \"other\" Michael Jordan wrote 22 papers, but after some googling I am going to assume they are the same person."
   ]
  },
  {
   "cell_type": "code",
   "execution_count": 26,
   "metadata": {},
   "outputs": [
    {
     "data": {
      "text/html": [
       "<div>\n",
       "<style scoped>\n",
       "    .dataframe tbody tr th:only-of-type {\n",
       "        vertical-align: middle;\n",
       "    }\n",
       "\n",
       "    .dataframe tbody tr th {\n",
       "        vertical-align: top;\n",
       "    }\n",
       "\n",
       "    .dataframe thead th {\n",
       "        text-align: right;\n",
       "    }\n",
       "</style>\n",
       "<table border=\"1\" class=\"dataframe\">\n",
       "  <thead>\n",
       "    <tr style=\"text-align: right;\">\n",
       "      <th></th>\n",
       "      <th>author_id</th>\n",
       "      <th>count</th>\n",
       "    </tr>\n",
       "  </thead>\n",
       "  <tbody>\n",
       "    <tr>\n",
       "      <th>47</th>\n",
       "      <td>6338</td>\n",
       "      <td>22</td>\n",
       "    </tr>\n",
       "  </tbody>\n",
       "</table>\n",
       "</div>"
      ],
      "text/plain": [
       "    author_id  count\n",
       "47       6338     22"
      ]
     },
     "execution_count": 26,
     "metadata": {},
     "output_type": "execute_result"
    }
   ],
   "source": [
    "papers_per_auth.query('author_id == 6338')"
   ]
  },
  {
   "cell_type": "markdown",
   "metadata": {},
   "source": [
    "The \"old\" Michael Jordan's papers stop in 2012, and the \"new\" Jordan's papers start in 2013, so this seems like an error was made in the data scraping."
   ]
  },
  {
   "cell_type": "code",
   "execution_count": 27,
   "metadata": {},
   "outputs": [
    {
     "data": {
      "text/html": [
       "<div>\n",
       "<style scoped>\n",
       "    .dataframe tbody tr th:only-of-type {\n",
       "        vertical-align: middle;\n",
       "    }\n",
       "\n",
       "    .dataframe tbody tr th {\n",
       "        vertical-align: top;\n",
       "    }\n",
       "\n",
       "    .dataframe thead th {\n",
       "        text-align: right;\n",
       "    }\n",
       "</style>\n",
       "<table border=\"1\" class=\"dataframe\">\n",
       "  <thead>\n",
       "    <tr style=\"text-align: right;\">\n",
       "      <th></th>\n",
       "      <th>id</th>\n",
       "      <th>year</th>\n",
       "      <th>title</th>\n",
       "      <th>event_type</th>\n",
       "      <th>pdf_name</th>\n",
       "      <th>abstract</th>\n",
       "      <th>paper_text</th>\n",
       "    </tr>\n",
       "  </thead>\n",
       "  <tbody>\n",
       "    <tr>\n",
       "      <th>4312</th>\n",
       "      <td>4902</td>\n",
       "      <td>2013</td>\n",
       "      <td>Information-theoretic lower bounds for distrib...</td>\n",
       "      <td>Oral</td>\n",
       "      <td>4902-information-theoretic-lower-bounds-for-di...</td>\n",
       "      <td>We establish minimax risk lower bounds for dis...</td>\n",
       "      <td>Information-theoretic lower bounds for distrib...</td>\n",
       "    </tr>\n",
       "    <tr>\n",
       "      <th>4352</th>\n",
       "      <td>4939</td>\n",
       "      <td>2013</td>\n",
       "      <td>Estimation, Optimization, and Parallelism when...</td>\n",
       "      <td>Poster</td>\n",
       "      <td>4939-estimation-optimization-and-parallelism-w...</td>\n",
       "      <td>We study stochastic optimization problems when...</td>\n",
       "      <td>Estimation, Optimization, and Parallelism when...</td>\n",
       "    </tr>\n",
       "    <tr>\n",
       "      <th>4397</th>\n",
       "      <td>4980</td>\n",
       "      <td>2013</td>\n",
       "      <td>Streaming Variational Bayes</td>\n",
       "      <td>Poster</td>\n",
       "      <td>4980-streaming-variational-bayes.pdf</td>\n",
       "      <td>We present SDA-Bayes, a framework for (S)tream...</td>\n",
       "      <td>Streaming Variational Bayes\\nTamara Broderick,...</td>\n",
       "    </tr>\n",
       "    <tr>\n",
       "      <th>4435</th>\n",
       "      <td>5013</td>\n",
       "      <td>2013</td>\n",
       "      <td>Local Privacy and Minimax Bounds: Sharp Rates ...</td>\n",
       "      <td>Poster</td>\n",
       "      <td>5013-local-privacy-and-minimax-bounds-sharp-ra...</td>\n",
       "      <td>We provide a detailed study of the estimation ...</td>\n",
       "      <td>Local Privacy and Minimax Bounds:\\nSharp Rates...</td>\n",
       "    </tr>\n",
       "    <tr>\n",
       "      <th>4462</th>\n",
       "      <td>5038</td>\n",
       "      <td>2013</td>\n",
       "      <td>Optimistic Concurrency Control for Distributed...</td>\n",
       "      <td>Poster</td>\n",
       "      <td>5038-optimistic-concurrency-control-for-distri...</td>\n",
       "      <td>Research on distributed machine learning algor...</td>\n",
       "      <td>Optimistic Concurrency Control for\\nDistribute...</td>\n",
       "    </tr>\n",
       "  </tbody>\n",
       "</table>\n",
       "</div>"
      ],
      "text/plain": [
       "        id  year                                              title  \\\n",
       "4312  4902  2013  Information-theoretic lower bounds for distrib...   \n",
       "4352  4939  2013  Estimation, Optimization, and Parallelism when...   \n",
       "4397  4980  2013                        Streaming Variational Bayes   \n",
       "4435  5013  2013  Local Privacy and Minimax Bounds: Sharp Rates ...   \n",
       "4462  5038  2013  Optimistic Concurrency Control for Distributed...   \n",
       "\n",
       "     event_type                                           pdf_name  \\\n",
       "4312       Oral  4902-information-theoretic-lower-bounds-for-di...   \n",
       "4352     Poster  4939-estimation-optimization-and-parallelism-w...   \n",
       "4397     Poster               4980-streaming-variational-bayes.pdf   \n",
       "4435     Poster  5013-local-privacy-and-minimax-bounds-sharp-ra...   \n",
       "4462     Poster  5038-optimistic-concurrency-control-for-distri...   \n",
       "\n",
       "                                               abstract  \\\n",
       "4312  We establish minimax risk lower bounds for dis...   \n",
       "4352  We study stochastic optimization problems when...   \n",
       "4397  We present SDA-Bayes, a framework for (S)tream...   \n",
       "4435  We provide a detailed study of the estimation ...   \n",
       "4462  Research on distributed machine learning algor...   \n",
       "\n",
       "                                             paper_text  \n",
       "4312  Information-theoretic lower bounds for distrib...  \n",
       "4352  Estimation, Optimization, and Parallelism when...  \n",
       "4397  Streaming Variational Bayes\\nTamara Broderick,...  \n",
       "4435  Local Privacy and Minimax Bounds:\\nSharp Rates...  \n",
       "4462  Optimistic Concurrency Control for\\nDistribute...  "
      ]
     },
     "execution_count": 27,
     "metadata": {},
     "output_type": "execute_result"
    }
   ],
   "source": [
    "auth_6338 = paper_authors.query('author_id==6338')\n",
    "papers_6338 = []\n",
    "for paper_id in auth_6338.paper_id:\n",
    "    papers_6338.append(paper_id)\n",
    "\n",
    "papers_6338_df = papers[papers['id'].isin(papers_6338)]\n",
    "papers_6338_df.head()"
   ]
  },
  {
   "cell_type": "code",
   "execution_count": 28,
   "metadata": {},
   "outputs": [
    {
     "data": {
      "text/html": [
       "<div>\n",
       "<style scoped>\n",
       "    .dataframe tbody tr th:only-of-type {\n",
       "        vertical-align: middle;\n",
       "    }\n",
       "\n",
       "    .dataframe tbody tr th {\n",
       "        vertical-align: top;\n",
       "    }\n",
       "\n",
       "    .dataframe thead th {\n",
       "        text-align: right;\n",
       "    }\n",
       "</style>\n",
       "<table border=\"1\" class=\"dataframe\">\n",
       "  <thead>\n",
       "    <tr style=\"text-align: right;\">\n",
       "      <th></th>\n",
       "      <th>id</th>\n",
       "      <th>year</th>\n",
       "      <th>title</th>\n",
       "      <th>event_type</th>\n",
       "      <th>pdf_name</th>\n",
       "      <th>abstract</th>\n",
       "      <th>paper_text</th>\n",
       "    </tr>\n",
       "  </thead>\n",
       "  <tbody>\n",
       "    <tr>\n",
       "      <th>4257</th>\n",
       "      <td>4853</td>\n",
       "      <td>2012</td>\n",
       "      <td>Small-Variance Asymptotics for Exponential Fam...</td>\n",
       "      <td>NaN</td>\n",
       "      <td>4853-small-variance-asymptotics-for-exponentia...</td>\n",
       "      <td>Links between probabilistic and non-probabilis...</td>\n",
       "      <td>Small-Variance Asymptotics for Exponential Fam...</td>\n",
       "    </tr>\n",
       "    <tr>\n",
       "      <th>4058</th>\n",
       "      <td>4673</td>\n",
       "      <td>2012</td>\n",
       "      <td>Ancestor Sampling for Particle Gibbs</td>\n",
       "      <td>NaN</td>\n",
       "      <td>4673-ancestor-sampling-for-particle-gibbs.pdf</td>\n",
       "      <td>We present a novel method in the family of par...</td>\n",
       "      <td>Ancestor Sampling for Particle Gibbs\\n\\nFredri...</td>\n",
       "    </tr>\n",
       "    <tr>\n",
       "      <th>3922</th>\n",
       "      <td>4550</td>\n",
       "      <td>2012</td>\n",
       "      <td>Finite Sample Convergence Rates of Zero-Order ...</td>\n",
       "      <td>NaN</td>\n",
       "      <td>4550-finite-sample-convergence-rates-of-zero-o...</td>\n",
       "      <td>We consider derivative-free algorithms for sto...</td>\n",
       "      <td>Finite Sample Convergence Rates of Zero-Order\\...</td>\n",
       "    </tr>\n",
       "    <tr>\n",
       "      <th>3872</th>\n",
       "      <td>4505</td>\n",
       "      <td>2012</td>\n",
       "      <td>Privacy Aware Learning</td>\n",
       "      <td>NaN</td>\n",
       "      <td>4505-privacy-aware-learning.pdf</td>\n",
       "      <td>We study statistical risk minimization problem...</td>\n",
       "      <td>Privacy Aware Learning\\n\\n1\\n\\nJohn C. Duchi1\\...</td>\n",
       "    </tr>\n",
       "    <tr>\n",
       "      <th>3850</th>\n",
       "      <td>4486</td>\n",
       "      <td>2011</td>\n",
       "      <td>Divide-and-Conquer Matrix Factorization</td>\n",
       "      <td>NaN</td>\n",
       "      <td>4486-divide-and-conquer-matrix-factorization.pdf</td>\n",
       "      <td>This work introduces Divide-Factor-Combine (DF...</td>\n",
       "      <td>Divide-and-Conquer Matrix Factorization\\nLeste...</td>\n",
       "    </tr>\n",
       "  </tbody>\n",
       "</table>\n",
       "</div>"
      ],
      "text/plain": [
       "        id  year                                              title  \\\n",
       "4257  4853  2012  Small-Variance Asymptotics for Exponential Fam...   \n",
       "4058  4673  2012               Ancestor Sampling for Particle Gibbs   \n",
       "3922  4550  2012  Finite Sample Convergence Rates of Zero-Order ...   \n",
       "3872  4505  2012                             Privacy Aware Learning   \n",
       "3850  4486  2011            Divide-and-Conquer Matrix Factorization   \n",
       "\n",
       "     event_type                                           pdf_name  \\\n",
       "4257        NaN  4853-small-variance-asymptotics-for-exponentia...   \n",
       "4058        NaN      4673-ancestor-sampling-for-particle-gibbs.pdf   \n",
       "3922        NaN  4550-finite-sample-convergence-rates-of-zero-o...   \n",
       "3872        NaN                    4505-privacy-aware-learning.pdf   \n",
       "3850        NaN   4486-divide-and-conquer-matrix-factorization.pdf   \n",
       "\n",
       "                                               abstract  \\\n",
       "4257  Links between probabilistic and non-probabilis...   \n",
       "4058  We present a novel method in the family of par...   \n",
       "3922  We consider derivative-free algorithms for sto...   \n",
       "3872  We study statistical risk minimization problem...   \n",
       "3850  This work introduces Divide-Factor-Combine (DF...   \n",
       "\n",
       "                                             paper_text  \n",
       "4257  Small-Variance Asymptotics for Exponential Fam...  \n",
       "4058  Ancestor Sampling for Particle Gibbs\\n\\nFredri...  \n",
       "3922  Finite Sample Convergence Rates of Zero-Order\\...  \n",
       "3872  Privacy Aware Learning\\n\\n1\\n\\nJohn C. Duchi1\\...  \n",
       "3850  Divide-and-Conquer Matrix Factorization\\nLeste...  "
      ]
     },
     "execution_count": 28,
     "metadata": {},
     "output_type": "execute_result"
    }
   ],
   "source": [
    "auth_330 = paper_authors.query('author_id==330')\n",
    "papers_330 = []\n",
    "for paper_id in auth_330.paper_id:\n",
    "    papers_330.append(paper_id)\n",
    "\n",
    "papers_330_df = papers[papers['id'].isin(papers_330)]\n",
    "papers_330_df.sort_values(by='year', ascending=False).head()"
   ]
  },
  {
   "cell_type": "markdown",
   "metadata": {},
   "source": [
    "Ading the new papers to the old author id"
   ]
  },
  {
   "cell_type": "code",
   "execution_count": 29,
   "metadata": {},
   "outputs": [
    {
     "data": {
      "text/html": [
       "<div>\n",
       "<style scoped>\n",
       "    .dataframe tbody tr th:only-of-type {\n",
       "        vertical-align: middle;\n",
       "    }\n",
       "\n",
       "    .dataframe tbody tr th {\n",
       "        vertical-align: top;\n",
       "    }\n",
       "\n",
       "    .dataframe thead th {\n",
       "        text-align: right;\n",
       "    }\n",
       "</style>\n",
       "<table border=\"1\" class=\"dataframe\">\n",
       "  <thead>\n",
       "    <tr style=\"text-align: right;\">\n",
       "      <th></th>\n",
       "      <th>author_id</th>\n",
       "      <th>count</th>\n",
       "    </tr>\n",
       "  </thead>\n",
       "  <tbody>\n",
       "    <tr>\n",
       "      <th>0</th>\n",
       "      <td>330</td>\n",
       "      <td>101</td>\n",
       "    </tr>\n",
       "    <tr>\n",
       "      <th>1</th>\n",
       "      <td>1472</td>\n",
       "      <td>62</td>\n",
       "    </tr>\n",
       "    <tr>\n",
       "      <th>2</th>\n",
       "      <td>178</td>\n",
       "      <td>60</td>\n",
       "    </tr>\n",
       "    <tr>\n",
       "      <th>3</th>\n",
       "      <td>121</td>\n",
       "      <td>58</td>\n",
       "    </tr>\n",
       "    <tr>\n",
       "      <th>4</th>\n",
       "      <td>1020</td>\n",
       "      <td>51</td>\n",
       "    </tr>\n",
       "  </tbody>\n",
       "</table>\n",
       "</div>"
      ],
      "text/plain": [
       "   author_id  count\n",
       "0        330    101\n",
       "1       1472     62\n",
       "2        178     60\n",
       "3        121     58\n",
       "4       1020     51"
      ]
     },
     "execution_count": 29,
     "metadata": {},
     "output_type": "execute_result"
    }
   ],
   "source": [
    "paper_authors.author_id.replace(6338, 330, inplace=True)\n",
    "papers_per_auth = paper_authors.groupby(by='author_id')['paper_id'].count().sort_values(ascending=False).to_frame()\n",
    "papers_per_auth.reset_index(inplace=True)\n",
    "papers_per_auth.rename(columns={\"paper_id\":\"count\"}, inplace=True)\n",
    "papers_per_auth.head()"
   ]
  },
  {
   "cell_type": "markdown",
   "metadata": {},
   "source": [
    "The average author wrote just over two papers, but the vast majority have only one or two. "
   ]
  },
  {
   "cell_type": "code",
   "execution_count": 30,
   "metadata": {},
   "outputs": [
    {
     "data": {
      "text/html": [
       "<div>\n",
       "<style scoped>\n",
       "    .dataframe tbody tr th:only-of-type {\n",
       "        vertical-align: middle;\n",
       "    }\n",
       "\n",
       "    .dataframe tbody tr th {\n",
       "        vertical-align: top;\n",
       "    }\n",
       "\n",
       "    .dataframe thead th {\n",
       "        text-align: right;\n",
       "    }\n",
       "</style>\n",
       "<table border=\"1\" class=\"dataframe\">\n",
       "  <thead>\n",
       "    <tr style=\"text-align: right;\">\n",
       "      <th></th>\n",
       "      <th>author_id</th>\n",
       "      <th>count</th>\n",
       "    </tr>\n",
       "  </thead>\n",
       "  <tbody>\n",
       "    <tr>\n",
       "      <th>count</th>\n",
       "      <td>9783.000000</td>\n",
       "      <td>9783.000000</td>\n",
       "    </tr>\n",
       "    <tr>\n",
       "      <th>mean</th>\n",
       "      <td>5213.754370</td>\n",
       "      <td>2.130021</td>\n",
       "    </tr>\n",
       "    <tr>\n",
       "      <th>std</th>\n",
       "      <td>3101.476106</td>\n",
       "      <td>3.300103</td>\n",
       "    </tr>\n",
       "    <tr>\n",
       "      <th>min</th>\n",
       "      <td>1.000000</td>\n",
       "      <td>1.000000</td>\n",
       "    </tr>\n",
       "    <tr>\n",
       "      <th>25%</th>\n",
       "      <td>2506.500000</td>\n",
       "      <td>1.000000</td>\n",
       "    </tr>\n",
       "    <tr>\n",
       "      <th>50%</th>\n",
       "      <td>4958.000000</td>\n",
       "      <td>1.000000</td>\n",
       "    </tr>\n",
       "    <tr>\n",
       "      <th>75%</th>\n",
       "      <td>8021.500000</td>\n",
       "      <td>2.000000</td>\n",
       "    </tr>\n",
       "    <tr>\n",
       "      <th>max</th>\n",
       "      <td>10482.000000</td>\n",
       "      <td>101.000000</td>\n",
       "    </tr>\n",
       "  </tbody>\n",
       "</table>\n",
       "</div>"
      ],
      "text/plain": [
       "          author_id        count\n",
       "count   9783.000000  9783.000000\n",
       "mean    5213.754370     2.130021\n",
       "std     3101.476106     3.300103\n",
       "min        1.000000     1.000000\n",
       "25%     2506.500000     1.000000\n",
       "50%     4958.000000     1.000000\n",
       "75%     8021.500000     2.000000\n",
       "max    10482.000000   101.000000"
      ]
     },
     "execution_count": 30,
     "metadata": {},
     "output_type": "execute_result"
    }
   ],
   "source": [
    "papers_per_auth.describe(include='all')"
   ]
  },
  {
   "cell_type": "markdown",
   "metadata": {},
   "source": [
    "The distribution of papers per author tails off very quickly, the number of authors writing more than 10 papers is almost invisible on this graph."
   ]
  },
  {
   "cell_type": "code",
   "execution_count": 70,
   "metadata": {},
   "outputs": [
    {
     "data": {
      "image/png": "[encoded data removed]",
      "text/plain": [
       "<Figure size 432x288 with 1 Axes>"
      ]
     },
     "metadata": {
      "needs_background": "light"
     },
     "output_type": "display_data"
    }
   ],
   "source": [
    "plt.hist(papers_per_auth['count'], bins=101, rwidth=0.8)\n",
    "plt.title('Number of Papers per Author')\n",
    "plt.ylabel('Number of Authors')\n",
    "plt.xlabel('Number of Papers Written')\n",
    "plt.show()"
   ]
  },
  {
   "cell_type": "markdown",
   "metadata": {},
   "source": [
    "\"Zooming in\" on authors who wrote at least 5 papers, this trend continues. Although there are at least some authors who wrote between 10 and 20 papers. "
   ]
  },
  {
   "cell_type": "code",
   "execution_count": 69,
   "metadata": {},
   "outputs": [
    {
     "data": {
      "image/png": "[encoded data removed]",
      "text/plain": [
       "<Figure size 432x288 with 1 Axes>"
      ]
     },
     "metadata": {
      "needs_background": "light"
     },
     "output_type": "display_data"
    }
   ],
   "source": [
    "plt.hist(papers_per_auth.query('count > 5')['count'], bins=101, rwidth=0.8)\n",
    "plt.title('Authors Who Wrote at Least 5 Papers')\n",
    "plt.ylabel('Number of Authors')\n",
    "plt.xlabel('Number of Papers Written')\n",
    "plt.show()"
   ]
  },
  {
   "cell_type": "markdown",
   "metadata": {},
   "source": [
    "There are 828 authors who wrote at least 5 papers, and 260 who wrote at least 10. The final model will only focus on the top 3-5 authors, as trying to predict on such an imbalanced dataset is difficult already"
   ]
  },
  {
   "cell_type": "code",
   "execution_count": 33,
   "metadata": {},
   "outputs": [
    {
     "name": "stdout",
     "output_type": "stream",
     "text": [
      "<class 'pandas.core.frame.DataFrame'>\n",
      "Int64Index: 827 entries, 0 to 826\n",
      "Data columns (total 2 columns):\n",
      " #   Column     Non-Null Count  Dtype\n",
      "---  ------     --------------  -----\n",
      " 0   author_id  827 non-null    int64\n",
      " 1   count      827 non-null    int64\n",
      "dtypes: int64(2)\n",
      "memory usage: 19.4 KB\n"
     ]
    }
   ],
   "source": [
    "papers_per_auth.query('count >= 5').info()"
   ]
  },
  {
   "cell_type": "code",
   "execution_count": 34,
   "metadata": {},
   "outputs": [
    {
     "name": "stdout",
     "output_type": "stream",
     "text": [
      "<class 'pandas.core.frame.DataFrame'>\n",
      "Int64Index: 259 entries, 0 to 258\n",
      "Data columns (total 2 columns):\n",
      " #   Column     Non-Null Count  Dtype\n",
      "---  ------     --------------  -----\n",
      " 0   author_id  259 non-null    int64\n",
      " 1   count      259 non-null    int64\n",
      "dtypes: int64(2)\n",
      "memory usage: 6.1 KB\n"
     ]
    }
   ],
   "source": [
    "papers_per_auth.query('count >= 10').info()"
   ]
  },
  {
   "cell_type": "markdown",
   "metadata": {},
   "source": [
    "This is taking a look at the number of authors per paper. Papers with more authors will likely be less predictive, as it decreases the chance they wrote any given part of it. "
   ]
  },
  {
   "cell_type": "code",
   "execution_count": 35,
   "metadata": {},
   "outputs": [
    {
     "data": {
      "text/html": [
       "<div>\n",
       "<style scoped>\n",
       "    .dataframe tbody tr th:only-of-type {\n",
       "        vertical-align: middle;\n",
       "    }\n",
       "\n",
       "    .dataframe tbody tr th {\n",
       "        vertical-align: top;\n",
       "    }\n",
       "\n",
       "    .dataframe thead th {\n",
       "        text-align: right;\n",
       "    }\n",
       "</style>\n",
       "<table border=\"1\" class=\"dataframe\">\n",
       "  <thead>\n",
       "    <tr style=\"text-align: right;\">\n",
       "      <th></th>\n",
       "      <th>paper_id</th>\n",
       "      <th>count</th>\n",
       "    </tr>\n",
       "  </thead>\n",
       "  <tbody>\n",
       "    <tr>\n",
       "      <th>0</th>\n",
       "      <td>2889</td>\n",
       "      <td>18</td>\n",
       "    </tr>\n",
       "    <tr>\n",
       "      <th>1</th>\n",
       "      <td>7152</td>\n",
       "      <td>15</td>\n",
       "    </tr>\n",
       "    <tr>\n",
       "      <th>2</th>\n",
       "      <td>6771</td>\n",
       "      <td>13</td>\n",
       "    </tr>\n",
       "    <tr>\n",
       "      <th>3</th>\n",
       "      <td>4687</td>\n",
       "      <td>12</td>\n",
       "    </tr>\n",
       "    <tr>\n",
       "      <th>4</th>\n",
       "      <td>4016</td>\n",
       "      <td>12</td>\n",
       "    </tr>\n",
       "    <tr>\n",
       "      <th>...</th>\n",
       "      <td>...</td>\n",
       "      <td>...</td>\n",
       "    </tr>\n",
       "    <tr>\n",
       "      <th>7233</th>\n",
       "      <td>2451</td>\n",
       "      <td>1</td>\n",
       "    </tr>\n",
       "    <tr>\n",
       "      <th>7234</th>\n",
       "      <td>4374</td>\n",
       "      <td>1</td>\n",
       "    </tr>\n",
       "    <tr>\n",
       "      <th>7235</th>\n",
       "      <td>4376</td>\n",
       "      <td>1</td>\n",
       "    </tr>\n",
       "    <tr>\n",
       "      <th>7236</th>\n",
       "      <td>1645</td>\n",
       "      <td>1</td>\n",
       "    </tr>\n",
       "    <tr>\n",
       "      <th>7237</th>\n",
       "      <td>4968</td>\n",
       "      <td>1</td>\n",
       "    </tr>\n",
       "  </tbody>\n",
       "</table>\n",
       "<p>7238 rows × 2 columns</p>\n",
       "</div>"
      ],
      "text/plain": [
       "      paper_id  count\n",
       "0         2889     18\n",
       "1         7152     15\n",
       "2         6771     13\n",
       "3         4687     12\n",
       "4         4016     12\n",
       "...        ...    ...\n",
       "7233      2451      1\n",
       "7234      4374      1\n",
       "7235      4376      1\n",
       "7236      1645      1\n",
       "7237      4968      1\n",
       "\n",
       "[7238 rows x 2 columns]"
      ]
     },
     "execution_count": 35,
     "metadata": {},
     "output_type": "execute_result"
    }
   ],
   "source": [
    "auth_per_paper = paper_authors.groupby(by='paper_id')['author_id'].count().sort_values(ascending=False).to_frame()\n",
    "auth_per_paper.reset_index(inplace=True)\n",
    "auth_per_paper.rename(columns={\"author_id\":\"count\"}, inplace=True)\n",
    "auth_per_paper"
   ]
  },
  {
   "cell_type": "markdown",
   "metadata": {},
   "source": [
    "The average paper has just under 3 authors, but with a small standard deviation around that number."
   ]
  },
  {
   "cell_type": "code",
   "execution_count": 36,
   "metadata": {},
   "outputs": [
    {
     "data": {
      "text/html": [
       "<div>\n",
       "<style scoped>\n",
       "    .dataframe tbody tr th:only-of-type {\n",
       "        vertical-align: middle;\n",
       "    }\n",
       "\n",
       "    .dataframe tbody tr th {\n",
       "        vertical-align: top;\n",
       "    }\n",
       "\n",
       "    .dataframe thead th {\n",
       "        text-align: right;\n",
       "    }\n",
       "</style>\n",
       "<table border=\"1\" class=\"dataframe\">\n",
       "  <thead>\n",
       "    <tr style=\"text-align: right;\">\n",
       "      <th></th>\n",
       "      <th>paper_id</th>\n",
       "      <th>count</th>\n",
       "    </tr>\n",
       "  </thead>\n",
       "  <tbody>\n",
       "    <tr>\n",
       "      <th>count</th>\n",
       "      <td>7238.000000</td>\n",
       "      <td>7238.000000</td>\n",
       "    </tr>\n",
       "    <tr>\n",
       "      <th>mean</th>\n",
       "      <td>3654.690108</td>\n",
       "      <td>2.878972</td>\n",
       "    </tr>\n",
       "    <tr>\n",
       "      <th>std</th>\n",
       "      <td>2097.995851</td>\n",
       "      <td>1.358598</td>\n",
       "    </tr>\n",
       "    <tr>\n",
       "      <th>min</th>\n",
       "      <td>1.000000</td>\n",
       "      <td>1.000000</td>\n",
       "    </tr>\n",
       "    <tr>\n",
       "      <th>25%</th>\n",
       "      <td>1848.250000</td>\n",
       "      <td>2.000000</td>\n",
       "    </tr>\n",
       "    <tr>\n",
       "      <th>50%</th>\n",
       "      <td>3657.500000</td>\n",
       "      <td>3.000000</td>\n",
       "    </tr>\n",
       "    <tr>\n",
       "      <th>75%</th>\n",
       "      <td>5470.750000</td>\n",
       "      <td>4.000000</td>\n",
       "    </tr>\n",
       "    <tr>\n",
       "      <th>max</th>\n",
       "      <td>7284.000000</td>\n",
       "      <td>18.000000</td>\n",
       "    </tr>\n",
       "  </tbody>\n",
       "</table>\n",
       "</div>"
      ],
      "text/plain": [
       "          paper_id        count\n",
       "count  7238.000000  7238.000000\n",
       "mean   3654.690108     2.878972\n",
       "std    2097.995851     1.358598\n",
       "min       1.000000     1.000000\n",
       "25%    1848.250000     2.000000\n",
       "50%    3657.500000     3.000000\n",
       "75%    5470.750000     4.000000\n",
       "max    7284.000000    18.000000"
      ]
     },
     "execution_count": 36,
     "metadata": {},
     "output_type": "execute_result"
    }
   ],
   "source": [
    "auth_per_paper.describe(include='all')"
   ]
  },
  {
   "cell_type": "markdown",
   "metadata": {},
   "source": [
    "This grouping has a more \"normal\" distribution centered between two and three authors, though there is still a tail all the way out to 18 authors."
   ]
  },
  {
   "cell_type": "code",
   "execution_count": 67,
   "metadata": {},
   "outputs": [
    {
     "data": {
      "image/png": "[encoded data removed]",
      "text/plain": [
       "<Figure size 432x288 with 1 Axes>"
      ]
     },
     "metadata": {
      "needs_background": "light"
     },
     "output_type": "display_data"
    }
   ],
   "source": [
    "xticks = range(1, 19)\n",
    "plt.hist(auth_per_paper['count'], bins=18, rwidth=0.7)\n",
    "plt.xticks(xticks)\n",
    "plt.title('Number of Authors per Paper')\n",
    "plt.ylabel('Number of Papers')\n",
    "plt.xlabel('Number of Authors')\n",
    "plt.show()"
   ]
  },
  {
   "cell_type": "markdown",
   "metadata": {},
   "source": [
    "This section is about joining the two main datasets together so I can have both paper and author id in one entry. The way this merge was performed duplicated the papers for each additional author, this will have to be corrected before the final modeling. "
   ]
  },
  {
   "cell_type": "code",
   "execution_count": 38,
   "metadata": {},
   "outputs": [
    {
     "data": {
      "text/html": [
       "<div>\n",
       "<style scoped>\n",
       "    .dataframe tbody tr th:only-of-type {\n",
       "        vertical-align: middle;\n",
       "    }\n",
       "\n",
       "    .dataframe tbody tr th {\n",
       "        vertical-align: top;\n",
       "    }\n",
       "\n",
       "    .dataframe thead th {\n",
       "        text-align: right;\n",
       "    }\n",
       "</style>\n",
       "<table border=\"1\" class=\"dataframe\">\n",
       "  <thead>\n",
       "    <tr style=\"text-align: right;\">\n",
       "      <th></th>\n",
       "      <th>year</th>\n",
       "      <th>title</th>\n",
       "      <th>event_type</th>\n",
       "      <th>pdf_name</th>\n",
       "      <th>abstract</th>\n",
       "      <th>paper_text</th>\n",
       "      <th>paper_id</th>\n",
       "      <th>author_id</th>\n",
       "    </tr>\n",
       "  </thead>\n",
       "  <tbody>\n",
       "    <tr>\n",
       "      <th>0</th>\n",
       "      <td>1987</td>\n",
       "      <td>Self-Organization of Associative Database and ...</td>\n",
       "      <td>NaN</td>\n",
       "      <td>1-self-organization-of-associative-database-an...</td>\n",
       "      <td>Abstract Missing</td>\n",
       "      <td>767\\n\\nSELF-ORGANIZATION OF ASSOCIATIVE DATABA...</td>\n",
       "      <td>1</td>\n",
       "      <td>1</td>\n",
       "    </tr>\n",
       "    <tr>\n",
       "      <th>1</th>\n",
       "      <td>1987</td>\n",
       "      <td>Self-Organization of Associative Database and ...</td>\n",
       "      <td>NaN</td>\n",
       "      <td>1-self-organization-of-associative-database-an...</td>\n",
       "      <td>Abstract Missing</td>\n",
       "      <td>767\\n\\nSELF-ORGANIZATION OF ASSOCIATIVE DATABA...</td>\n",
       "      <td>1</td>\n",
       "      <td>2</td>\n",
       "    </tr>\n",
       "    <tr>\n",
       "      <th>2</th>\n",
       "      <td>1987</td>\n",
       "      <td>A Mean Field Theory of Layer IV of Visual Cort...</td>\n",
       "      <td>NaN</td>\n",
       "      <td>10-a-mean-field-theory-of-layer-iv-of-visual-c...</td>\n",
       "      <td>Abstract Missing</td>\n",
       "      <td>683\\n\\nA MEAN FIELD THEORY OF LAYER IV OF VISU...</td>\n",
       "      <td>10</td>\n",
       "      <td>14</td>\n",
       "    </tr>\n",
       "    <tr>\n",
       "      <th>3</th>\n",
       "      <td>1988</td>\n",
       "      <td>Storing Covariance by the Associative Long-Ter...</td>\n",
       "      <td>NaN</td>\n",
       "      <td>100-storing-covariance-by-the-associative-long...</td>\n",
       "      <td>Abstract Missing</td>\n",
       "      <td>394\\n\\nSTORING COVARIANCE BY THE ASSOCIATIVE\\n...</td>\n",
       "      <td>100</td>\n",
       "      <td>155</td>\n",
       "    </tr>\n",
       "    <tr>\n",
       "      <th>4</th>\n",
       "      <td>1988</td>\n",
       "      <td>Storing Covariance by the Associative Long-Ter...</td>\n",
       "      <td>NaN</td>\n",
       "      <td>100-storing-covariance-by-the-associative-long...</td>\n",
       "      <td>Abstract Missing</td>\n",
       "      <td>394\\n\\nSTORING COVARIANCE BY THE ASSOCIATIVE\\n...</td>\n",
       "      <td>100</td>\n",
       "      <td>54</td>\n",
       "    </tr>\n",
       "  </tbody>\n",
       "</table>\n",
       "</div>"
      ],
      "text/plain": [
       "   year                                              title event_type  \\\n",
       "0  1987  Self-Organization of Associative Database and ...        NaN   \n",
       "1  1987  Self-Organization of Associative Database and ...        NaN   \n",
       "2  1987  A Mean Field Theory of Layer IV of Visual Cort...        NaN   \n",
       "3  1988  Storing Covariance by the Associative Long-Ter...        NaN   \n",
       "4  1988  Storing Covariance by the Associative Long-Ter...        NaN   \n",
       "\n",
       "                                            pdf_name          abstract  \\\n",
       "0  1-self-organization-of-associative-database-an...  Abstract Missing   \n",
       "1  1-self-organization-of-associative-database-an...  Abstract Missing   \n",
       "2  10-a-mean-field-theory-of-layer-iv-of-visual-c...  Abstract Missing   \n",
       "3  100-storing-covariance-by-the-associative-long...  Abstract Missing   \n",
       "4  100-storing-covariance-by-the-associative-long...  Abstract Missing   \n",
       "\n",
       "                                          paper_text  paper_id  author_id  \n",
       "0  767\\n\\nSELF-ORGANIZATION OF ASSOCIATIVE DATABA...         1          1  \n",
       "1  767\\n\\nSELF-ORGANIZATION OF ASSOCIATIVE DATABA...         1          2  \n",
       "2  683\\n\\nA MEAN FIELD THEORY OF LAYER IV OF VISU...        10         14  \n",
       "3  394\\n\\nSTORING COVARIANCE BY THE ASSOCIATIVE\\n...       100        155  \n",
       "4  394\\n\\nSTORING COVARIANCE BY THE ASSOCIATIVE\\n...       100         54  "
      ]
     },
     "execution_count": 38,
     "metadata": {},
     "output_type": "execute_result"
    }
   ],
   "source": [
    "papers_and_authors = papers.merge(paper_authors, left_on='id', right_on='paper_id', suffixes=('_paper', '_author'))\\\n",
    "    .drop(['id_paper', 'id_author'], axis=1)\n",
    "papers_and_authors.head()"
   ]
  },
  {
   "cell_type": "markdown",
   "metadata": {},
   "source": [
    "There are 20838 total entries as expected from the paper_authors dataset, and no additonal nulls outside of the event_type column. "
   ]
  },
  {
   "cell_type": "code",
   "execution_count": 39,
   "metadata": {},
   "outputs": [
    {
     "name": "stdout",
     "output_type": "stream",
     "text": [
      "<class 'pandas.core.frame.DataFrame'>\n",
      "Int64Index: 20838 entries, 0 to 20837\n",
      "Data columns (total 8 columns):\n",
      " #   Column      Non-Null Count  Dtype \n",
      "---  ------      --------------  ----- \n",
      " 0   year        20838 non-null  int64 \n",
      " 1   title       20838 non-null  object\n",
      " 2   event_type  8151 non-null   object\n",
      " 3   pdf_name    20838 non-null  object\n",
      " 4   abstract    20838 non-null  object\n",
      " 5   paper_text  20838 non-null  object\n",
      " 6   paper_id    20838 non-null  int64 \n",
      " 7   author_id   20838 non-null  int64 \n",
      "dtypes: int64(3), object(5)\n",
      "memory usage: 1.4+ MB\n"
     ]
    }
   ],
   "source": [
    "papers_and_authors.info()"
   ]
  },
  {
   "cell_type": "markdown",
   "metadata": {},
   "source": [
    "Double checking with the \"papers\" dataset, however, reveals that three papers did not make the merge. Possibly because they had no listed authors. "
   ]
  },
  {
   "cell_type": "code",
   "execution_count": 40,
   "metadata": {},
   "outputs": [
    {
     "data": {
      "text/html": [
       "<div>\n",
       "<style scoped>\n",
       "    .dataframe tbody tr th:only-of-type {\n",
       "        vertical-align: middle;\n",
       "    }\n",
       "\n",
       "    .dataframe tbody tr th {\n",
       "        vertical-align: top;\n",
       "    }\n",
       "\n",
       "    .dataframe thead th {\n",
       "        text-align: right;\n",
       "    }\n",
       "</style>\n",
       "<table border=\"1\" class=\"dataframe\">\n",
       "  <thead>\n",
       "    <tr style=\"text-align: right;\">\n",
       "      <th></th>\n",
       "      <th>id</th>\n",
       "      <th>year</th>\n",
       "      <th>title</th>\n",
       "      <th>event_type</th>\n",
       "      <th>pdf_name</th>\n",
       "      <th>abstract</th>\n",
       "      <th>paper_text</th>\n",
       "    </tr>\n",
       "  </thead>\n",
       "  <tbody>\n",
       "    <tr>\n",
       "      <th>5583</th>\n",
       "      <td>6052</td>\n",
       "      <td>2016</td>\n",
       "      <td>Only H is left: Near-tight Episodic PAC RL</td>\n",
       "      <td>Poster</td>\n",
       "      <td>6052-only-h-is-left-near-tight-episodic-pac-rl...</td>\n",
       "      <td>In many applications such as advertisement pla...</td>\n",
       "      <td>Launch and Iterate: Reducing Prediction Churn\\...</td>\n",
       "    </tr>\n",
       "    <tr>\n",
       "      <th>6442</th>\n",
       "      <td>6827</td>\n",
       "      <td>2017</td>\n",
       "      <td>Deep Multi-task Gaussian Processes for Surviva...</td>\n",
       "      <td>Poster</td>\n",
       "      <td>6827-deep-multi-task-gaussian-processes-for-su...</td>\n",
       "      <td>Designing optimal treatment plans for patients...</td>\n",
       "      <td>Deep Multi-task Gaussian Processes for\\nSurviv...</td>\n",
       "    </tr>\n",
       "    <tr>\n",
       "      <th>6560</th>\n",
       "      <td>6934</td>\n",
       "      <td>2017</td>\n",
       "      <td>Bayesian Inference of Individualized Treatment...</td>\n",
       "      <td>Poster</td>\n",
       "      <td>6934-bayesian-inference-of-individualized-trea...</td>\n",
       "      <td>Predicated on the increasing abundance of elec...</td>\n",
       "      <td>Bayesian Inference of Individualized Treatment...</td>\n",
       "    </tr>\n",
       "  </tbody>\n",
       "</table>\n",
       "</div>"
      ],
      "text/plain": [
       "        id  year                                              title  \\\n",
       "5583  6052  2016         Only H is left: Near-tight Episodic PAC RL   \n",
       "6442  6827  2017  Deep Multi-task Gaussian Processes for Surviva...   \n",
       "6560  6934  2017  Bayesian Inference of Individualized Treatment...   \n",
       "\n",
       "     event_type                                           pdf_name  \\\n",
       "5583     Poster  6052-only-h-is-left-near-tight-episodic-pac-rl...   \n",
       "6442     Poster  6827-deep-multi-task-gaussian-processes-for-su...   \n",
       "6560     Poster  6934-bayesian-inference-of-individualized-trea...   \n",
       "\n",
       "                                               abstract  \\\n",
       "5583  In many applications such as advertisement pla...   \n",
       "6442  Designing optimal treatment plans for patients...   \n",
       "6560  Predicated on the increasing abundance of elec...   \n",
       "\n",
       "                                             paper_text  \n",
       "5583  Launch and Iterate: Reducing Prediction Churn\\...  \n",
       "6442  Deep Multi-task Gaussian Processes for\\nSurviv...  \n",
       "6560  Bayesian Inference of Individualized Treatment...  "
      ]
     },
     "execution_count": 40,
     "metadata": {},
     "output_type": "execute_result"
    }
   ],
   "source": [
    "outer_join = papers.merge(papers_and_authors, on='pdf_name', how='left', indicator=True)\n",
    "df_loc = outer_join.loc[outer_join['_merge']=='left_only', 'pdf_name']\n",
    "missing_papers = papers[papers['pdf_name'].isin(df_loc)]\n",
    "missing_papers"
   ]
  },
  {
   "cell_type": "markdown",
   "metadata": {},
   "source": [
    "Indeed, the paper_authors dataset has no papers by those paper ids. The papers and authors will have to be imput manually into the final dataset. "
   ]
  },
  {
   "cell_type": "code",
   "execution_count": 41,
   "metadata": {},
   "outputs": [
    {
     "data": {
      "text/html": [
       "<div>\n",
       "<style scoped>\n",
       "    .dataframe tbody tr th:only-of-type {\n",
       "        vertical-align: middle;\n",
       "    }\n",
       "\n",
       "    .dataframe tbody tr th {\n",
       "        vertical-align: top;\n",
       "    }\n",
       "\n",
       "    .dataframe thead th {\n",
       "        text-align: right;\n",
       "    }\n",
       "</style>\n",
       "<table border=\"1\" class=\"dataframe\">\n",
       "  <thead>\n",
       "    <tr style=\"text-align: right;\">\n",
       "      <th></th>\n",
       "      <th>id</th>\n",
       "      <th>paper_id</th>\n",
       "      <th>author_id</th>\n",
       "    </tr>\n",
       "  </thead>\n",
       "  <tbody>\n",
       "  </tbody>\n",
       "</table>\n",
       "</div>"
      ],
      "text/plain": [
       "Empty DataFrame\n",
       "Columns: [id, paper_id, author_id]\n",
       "Index: []"
      ]
     },
     "execution_count": 41,
     "metadata": {},
     "output_type": "execute_result"
    }
   ],
   "source": [
    "paper_authors[paper_authors['paper_id'].isin([6052, 6827, 6934])]"
   ]
  },
  {
   "cell_type": "markdown",
   "metadata": {},
   "source": [
    "The following authors were found to be the authors of the \"missing papers\". These were the authors that had existing author ids from other papers. Authors of these papers that had no listed author id were ignored, as they would only have one paper to their name."
   ]
  },
  {
   "cell_type": "code",
   "execution_count": 42,
   "metadata": {},
   "outputs": [
    {
     "data": {
      "text/html": [
       "<div>\n",
       "<style scoped>\n",
       "    .dataframe tbody tr th:only-of-type {\n",
       "        vertical-align: middle;\n",
       "    }\n",
       "\n",
       "    .dataframe tbody tr th {\n",
       "        vertical-align: top;\n",
       "    }\n",
       "\n",
       "    .dataframe thead th {\n",
       "        text-align: right;\n",
       "    }\n",
       "</style>\n",
       "<table border=\"1\" class=\"dataframe\">\n",
       "  <thead>\n",
       "    <tr style=\"text-align: right;\">\n",
       "      <th></th>\n",
       "      <th>id</th>\n",
       "      <th>name</th>\n",
       "    </tr>\n",
       "  </thead>\n",
       "  <tbody>\n",
       "    <tr>\n",
       "      <th>8105</th>\n",
       "      <td>8474</td>\n",
       "      <td>Kevin Canini</td>\n",
       "    </tr>\n",
       "  </tbody>\n",
       "</table>\n",
       "</div>"
      ],
      "text/plain": [
       "        id          name\n",
       "8105  8474  Kevin Canini"
      ]
     },
     "execution_count": 42,
     "metadata": {},
     "output_type": "execute_result"
    }
   ],
   "source": [
    "authors.query('name == \"Kevin Canini\"')"
   ]
  },
  {
   "cell_type": "code",
   "execution_count": 43,
   "metadata": {},
   "outputs": [
    {
     "data": {
      "text/html": [
       "<div>\n",
       "<style scoped>\n",
       "    .dataframe tbody tr th:only-of-type {\n",
       "        vertical-align: middle;\n",
       "    }\n",
       "\n",
       "    .dataframe tbody tr th {\n",
       "        vertical-align: top;\n",
       "    }\n",
       "\n",
       "    .dataframe thead th {\n",
       "        text-align: right;\n",
       "    }\n",
       "</style>\n",
       "<table border=\"1\" class=\"dataframe\">\n",
       "  <thead>\n",
       "    <tr style=\"text-align: right;\">\n",
       "      <th></th>\n",
       "      <th>id</th>\n",
       "      <th>name</th>\n",
       "    </tr>\n",
       "  </thead>\n",
       "  <tbody>\n",
       "    <tr>\n",
       "      <th>9065</th>\n",
       "      <td>9344</td>\n",
       "      <td>Ahmed M. Alaa</td>\n",
       "    </tr>\n",
       "  </tbody>\n",
       "</table>\n",
       "</div>"
      ],
      "text/plain": [
       "        id           name\n",
       "9065  9344  Ahmed M. Alaa"
      ]
     },
     "execution_count": 43,
     "metadata": {},
     "output_type": "execute_result"
    }
   ],
   "source": [
    "authors.query('name == \"Ahmed M. Alaa\"')"
   ]
  },
  {
   "cell_type": "code",
   "execution_count": 44,
   "metadata": {},
   "outputs": [
    {
     "data": {
      "text/html": [
       "<div>\n",
       "<style scoped>\n",
       "    .dataframe tbody tr th:only-of-type {\n",
       "        vertical-align: middle;\n",
       "    }\n",
       "\n",
       "    .dataframe tbody tr th {\n",
       "        vertical-align: top;\n",
       "    }\n",
       "\n",
       "    .dataframe thead th {\n",
       "        text-align: right;\n",
       "    }\n",
       "</style>\n",
       "<table border=\"1\" class=\"dataframe\">\n",
       "  <thead>\n",
       "    <tr style=\"text-align: right;\">\n",
       "      <th></th>\n",
       "      <th>id</th>\n",
       "      <th>name</th>\n",
       "    </tr>\n",
       "  </thead>\n",
       "  <tbody>\n",
       "    <tr>\n",
       "      <th>9071</th>\n",
       "      <td>9351</td>\n",
       "      <td>Mihaela van der Schaar</td>\n",
       "    </tr>\n",
       "  </tbody>\n",
       "</table>\n",
       "</div>"
      ],
      "text/plain": [
       "        id                    name\n",
       "9071  9351  Mihaela van der Schaar"
      ]
     },
     "execution_count": 44,
     "metadata": {},
     "output_type": "execute_result"
    }
   ],
   "source": [
    "authors.query('name == \"Mihaela van der Schaar\"')"
   ]
  },
  {
   "cell_type": "markdown",
   "metadata": {},
   "source": [
    "Two of the papers have a pair of authors, while the other paper has only one author. This code creates a dataframe that takes the papers known to be missing and duplicates them once, then I drop one of the copies of the paper that has only one author. "
   ]
  },
  {
   "cell_type": "code",
   "execution_count": 45,
   "metadata": {},
   "outputs": [
    {
     "data": {
      "text/html": [
       "<div>\n",
       "<style scoped>\n",
       "    .dataframe tbody tr th:only-of-type {\n",
       "        vertical-align: middle;\n",
       "    }\n",
       "\n",
       "    .dataframe tbody tr th {\n",
       "        vertical-align: top;\n",
       "    }\n",
       "\n",
       "    .dataframe thead th {\n",
       "        text-align: right;\n",
       "    }\n",
       "</style>\n",
       "<table border=\"1\" class=\"dataframe\">\n",
       "  <thead>\n",
       "    <tr style=\"text-align: right;\">\n",
       "      <th></th>\n",
       "      <th>id</th>\n",
       "      <th>year</th>\n",
       "      <th>title</th>\n",
       "      <th>event_type</th>\n",
       "      <th>pdf_name</th>\n",
       "      <th>abstract</th>\n",
       "      <th>paper_text</th>\n",
       "    </tr>\n",
       "  </thead>\n",
       "  <tbody>\n",
       "    <tr>\n",
       "      <th>0</th>\n",
       "      <td>6052</td>\n",
       "      <td>2016</td>\n",
       "      <td>Only H is left: Near-tight Episodic PAC RL</td>\n",
       "      <td>Poster</td>\n",
       "      <td>6052-only-h-is-left-near-tight-episodic-pac-rl...</td>\n",
       "      <td>In many applications such as advertisement pla...</td>\n",
       "      <td>Launch and Iterate: Reducing Prediction Churn\\...</td>\n",
       "    </tr>\n",
       "    <tr>\n",
       "      <th>1</th>\n",
       "      <td>6827</td>\n",
       "      <td>2017</td>\n",
       "      <td>Deep Multi-task Gaussian Processes for Surviva...</td>\n",
       "      <td>Poster</td>\n",
       "      <td>6827-deep-multi-task-gaussian-processes-for-su...</td>\n",
       "      <td>Designing optimal treatment plans for patients...</td>\n",
       "      <td>Deep Multi-task Gaussian Processes for\\nSurviv...</td>\n",
       "    </tr>\n",
       "    <tr>\n",
       "      <th>4</th>\n",
       "      <td>6827</td>\n",
       "      <td>2017</td>\n",
       "      <td>Deep Multi-task Gaussian Processes for Surviva...</td>\n",
       "      <td>Poster</td>\n",
       "      <td>6827-deep-multi-task-gaussian-processes-for-su...</td>\n",
       "      <td>Designing optimal treatment plans for patients...</td>\n",
       "      <td>Deep Multi-task Gaussian Processes for\\nSurviv...</td>\n",
       "    </tr>\n",
       "    <tr>\n",
       "      <th>2</th>\n",
       "      <td>6934</td>\n",
       "      <td>2017</td>\n",
       "      <td>Bayesian Inference of Individualized Treatment...</td>\n",
       "      <td>Poster</td>\n",
       "      <td>6934-bayesian-inference-of-individualized-trea...</td>\n",
       "      <td>Predicated on the increasing abundance of elec...</td>\n",
       "      <td>Bayesian Inference of Individualized Treatment...</td>\n",
       "    </tr>\n",
       "    <tr>\n",
       "      <th>5</th>\n",
       "      <td>6934</td>\n",
       "      <td>2017</td>\n",
       "      <td>Bayesian Inference of Individualized Treatment...</td>\n",
       "      <td>Poster</td>\n",
       "      <td>6934-bayesian-inference-of-individualized-trea...</td>\n",
       "      <td>Predicated on the increasing abundance of elec...</td>\n",
       "      <td>Bayesian Inference of Individualized Treatment...</td>\n",
       "    </tr>\n",
       "  </tbody>\n",
       "</table>\n",
       "</div>"
      ],
      "text/plain": [
       "     id  year                                              title event_type  \\\n",
       "0  6052  2016         Only H is left: Near-tight Episodic PAC RL     Poster   \n",
       "1  6827  2017  Deep Multi-task Gaussian Processes for Surviva...     Poster   \n",
       "4  6827  2017  Deep Multi-task Gaussian Processes for Surviva...     Poster   \n",
       "2  6934  2017  Bayesian Inference of Individualized Treatment...     Poster   \n",
       "5  6934  2017  Bayesian Inference of Individualized Treatment...     Poster   \n",
       "\n",
       "                                            pdf_name  \\\n",
       "0  6052-only-h-is-left-near-tight-episodic-pac-rl...   \n",
       "1  6827-deep-multi-task-gaussian-processes-for-su...   \n",
       "4  6827-deep-multi-task-gaussian-processes-for-su...   \n",
       "2  6934-bayesian-inference-of-individualized-trea...   \n",
       "5  6934-bayesian-inference-of-individualized-trea...   \n",
       "\n",
       "                                            abstract  \\\n",
       "0  In many applications such as advertisement pla...   \n",
       "1  Designing optimal treatment plans for patients...   \n",
       "4  Designing optimal treatment plans for patients...   \n",
       "2  Predicated on the increasing abundance of elec...   \n",
       "5  Predicated on the increasing abundance of elec...   \n",
       "\n",
       "                                          paper_text  \n",
       "0  Launch and Iterate: Reducing Prediction Churn\\...  \n",
       "1  Deep Multi-task Gaussian Processes for\\nSurviv...  \n",
       "4  Deep Multi-task Gaussian Processes for\\nSurviv...  \n",
       "2  Bayesian Inference of Individualized Treatment...  \n",
       "5  Bayesian Inference of Individualized Treatment...  "
      ]
     },
     "execution_count": 45,
     "metadata": {},
     "output_type": "execute_result"
    }
   ],
   "source": [
    "fixed_papers = pd.concat([missing_papers, missing_papers], ignore_index=True)\n",
    "fixed_papers.sort_values('id', inplace=True)\n",
    "fixed_papers.drop(3, inplace=True)\n",
    "fixed_papers"
   ]
  },
  {
   "cell_type": "markdown",
   "metadata": {},
   "source": [
    "Here I am getting the dataframe into the same format as my final dataframe, with paper_id as a column after paper_text. Then I manually imput the author id's for each of those papers. "
   ]
  },
  {
   "cell_type": "code",
   "execution_count": 46,
   "metadata": {},
   "outputs": [
    {
     "data": {
      "text/html": [
       "<div>\n",
       "<style scoped>\n",
       "    .dataframe tbody tr th:only-of-type {\n",
       "        vertical-align: middle;\n",
       "    }\n",
       "\n",
       "    .dataframe tbody tr th {\n",
       "        vertical-align: top;\n",
       "    }\n",
       "\n",
       "    .dataframe thead th {\n",
       "        text-align: right;\n",
       "    }\n",
       "</style>\n",
       "<table border=\"1\" class=\"dataframe\">\n",
       "  <thead>\n",
       "    <tr style=\"text-align: right;\">\n",
       "      <th></th>\n",
       "      <th>year</th>\n",
       "      <th>title</th>\n",
       "      <th>event_type</th>\n",
       "      <th>pdf_name</th>\n",
       "      <th>abstract</th>\n",
       "      <th>paper_text</th>\n",
       "      <th>paper_id</th>\n",
       "      <th>author_id</th>\n",
       "    </tr>\n",
       "  </thead>\n",
       "  <tbody>\n",
       "    <tr>\n",
       "      <th>0</th>\n",
       "      <td>2016</td>\n",
       "      <td>Only H is left: Near-tight Episodic PAC RL</td>\n",
       "      <td>Poster</td>\n",
       "      <td>6052-only-h-is-left-near-tight-episodic-pac-rl...</td>\n",
       "      <td>In many applications such as advertisement pla...</td>\n",
       "      <td>Launch and Iterate: Reducing Prediction Churn\\...</td>\n",
       "      <td>6052</td>\n",
       "      <td>8474</td>\n",
       "    </tr>\n",
       "    <tr>\n",
       "      <th>1</th>\n",
       "      <td>2017</td>\n",
       "      <td>Deep Multi-task Gaussian Processes for Surviva...</td>\n",
       "      <td>Poster</td>\n",
       "      <td>6827-deep-multi-task-gaussian-processes-for-su...</td>\n",
       "      <td>Designing optimal treatment plans for patients...</td>\n",
       "      <td>Deep Multi-task Gaussian Processes for\\nSurviv...</td>\n",
       "      <td>6827</td>\n",
       "      <td>9344</td>\n",
       "    </tr>\n",
       "    <tr>\n",
       "      <th>4</th>\n",
       "      <td>2017</td>\n",
       "      <td>Deep Multi-task Gaussian Processes for Surviva...</td>\n",
       "      <td>Poster</td>\n",
       "      <td>6827-deep-multi-task-gaussian-processes-for-su...</td>\n",
       "      <td>Designing optimal treatment plans for patients...</td>\n",
       "      <td>Deep Multi-task Gaussian Processes for\\nSurviv...</td>\n",
       "      <td>6827</td>\n",
       "      <td>9351</td>\n",
       "    </tr>\n",
       "    <tr>\n",
       "      <th>2</th>\n",
       "      <td>2017</td>\n",
       "      <td>Bayesian Inference of Individualized Treatment...</td>\n",
       "      <td>Poster</td>\n",
       "      <td>6934-bayesian-inference-of-individualized-trea...</td>\n",
       "      <td>Predicated on the increasing abundance of elec...</td>\n",
       "      <td>Bayesian Inference of Individualized Treatment...</td>\n",
       "      <td>6934</td>\n",
       "      <td>9344</td>\n",
       "    </tr>\n",
       "    <tr>\n",
       "      <th>5</th>\n",
       "      <td>2017</td>\n",
       "      <td>Bayesian Inference of Individualized Treatment...</td>\n",
       "      <td>Poster</td>\n",
       "      <td>6934-bayesian-inference-of-individualized-trea...</td>\n",
       "      <td>Predicated on the increasing abundance of elec...</td>\n",
       "      <td>Bayesian Inference of Individualized Treatment...</td>\n",
       "      <td>6934</td>\n",
       "      <td>9351</td>\n",
       "    </tr>\n",
       "  </tbody>\n",
       "</table>\n",
       "</div>"
      ],
      "text/plain": [
       "   year                                              title event_type  \\\n",
       "0  2016         Only H is left: Near-tight Episodic PAC RL     Poster   \n",
       "1  2017  Deep Multi-task Gaussian Processes for Surviva...     Poster   \n",
       "4  2017  Deep Multi-task Gaussian Processes for Surviva...     Poster   \n",
       "2  2017  Bayesian Inference of Individualized Treatment...     Poster   \n",
       "5  2017  Bayesian Inference of Individualized Treatment...     Poster   \n",
       "\n",
       "                                            pdf_name  \\\n",
       "0  6052-only-h-is-left-near-tight-episodic-pac-rl...   \n",
       "1  6827-deep-multi-task-gaussian-processes-for-su...   \n",
       "4  6827-deep-multi-task-gaussian-processes-for-su...   \n",
       "2  6934-bayesian-inference-of-individualized-trea...   \n",
       "5  6934-bayesian-inference-of-individualized-trea...   \n",
       "\n",
       "                                            abstract  \\\n",
       "0  In many applications such as advertisement pla...   \n",
       "1  Designing optimal treatment plans for patients...   \n",
       "4  Designing optimal treatment plans for patients...   \n",
       "2  Predicated on the increasing abundance of elec...   \n",
       "5  Predicated on the increasing abundance of elec...   \n",
       "\n",
       "                                          paper_text  paper_id  author_id  \n",
       "0  Launch and Iterate: Reducing Prediction Churn\\...      6052       8474  \n",
       "1  Deep Multi-task Gaussian Processes for\\nSurviv...      6827       9344  \n",
       "4  Deep Multi-task Gaussian Processes for\\nSurviv...      6827       9351  \n",
       "2  Bayesian Inference of Individualized Treatment...      6934       9344  \n",
       "5  Bayesian Inference of Individualized Treatment...      6934       9351  "
      ]
     },
     "execution_count": 46,
     "metadata": {},
     "output_type": "execute_result"
    }
   ],
   "source": [
    "fixed_papers['paper_id'] = fixed_papers['id']\n",
    "fixed_papers.drop('id', axis=1, inplace=True)\n",
    "fixed_papers['author_id'] = [8474, 9344, 9351, 9344, 9351]\n",
    "fixed_papers"
   ]
  },
  {
   "cell_type": "markdown",
   "metadata": {},
   "source": [
    "Now I concatonate my new papers onto my final dataset to make a \"true\" final dataset. I then used .query to double check that they were added correctly."
   ]
  },
  {
   "cell_type": "code",
   "execution_count": 47,
   "metadata": {},
   "outputs": [
    {
     "data": {
      "text/html": [
       "<div>\n",
       "<style scoped>\n",
       "    .dataframe tbody tr th:only-of-type {\n",
       "        vertical-align: middle;\n",
       "    }\n",
       "\n",
       "    .dataframe tbody tr th {\n",
       "        vertical-align: top;\n",
       "    }\n",
       "\n",
       "    .dataframe thead th {\n",
       "        text-align: right;\n",
       "    }\n",
       "</style>\n",
       "<table border=\"1\" class=\"dataframe\">\n",
       "  <thead>\n",
       "    <tr style=\"text-align: right;\">\n",
       "      <th></th>\n",
       "      <th>year</th>\n",
       "      <th>title</th>\n",
       "      <th>event_type</th>\n",
       "      <th>pdf_name</th>\n",
       "      <th>abstract</th>\n",
       "      <th>paper_text</th>\n",
       "      <th>paper_id</th>\n",
       "      <th>author_id</th>\n",
       "    </tr>\n",
       "  </thead>\n",
       "  <tbody>\n",
       "    <tr>\n",
       "      <th>20839</th>\n",
       "      <td>2017</td>\n",
       "      <td>Deep Multi-task Gaussian Processes for Surviva...</td>\n",
       "      <td>Poster</td>\n",
       "      <td>6827-deep-multi-task-gaussian-processes-for-su...</td>\n",
       "      <td>Designing optimal treatment plans for patients...</td>\n",
       "      <td>Deep Multi-task Gaussian Processes for\\nSurviv...</td>\n",
       "      <td>6827</td>\n",
       "      <td>9344</td>\n",
       "    </tr>\n",
       "    <tr>\n",
       "      <th>20840</th>\n",
       "      <td>2017</td>\n",
       "      <td>Deep Multi-task Gaussian Processes for Surviva...</td>\n",
       "      <td>Poster</td>\n",
       "      <td>6827-deep-multi-task-gaussian-processes-for-su...</td>\n",
       "      <td>Designing optimal treatment plans for patients...</td>\n",
       "      <td>Deep Multi-task Gaussian Processes for\\nSurviv...</td>\n",
       "      <td>6827</td>\n",
       "      <td>9351</td>\n",
       "    </tr>\n",
       "  </tbody>\n",
       "</table>\n",
       "</div>"
      ],
      "text/plain": [
       "       year                                              title event_type  \\\n",
       "20839  2017  Deep Multi-task Gaussian Processes for Surviva...     Poster   \n",
       "20840  2017  Deep Multi-task Gaussian Processes for Surviva...     Poster   \n",
       "\n",
       "                                                pdf_name  \\\n",
       "20839  6827-deep-multi-task-gaussian-processes-for-su...   \n",
       "20840  6827-deep-multi-task-gaussian-processes-for-su...   \n",
       "\n",
       "                                                abstract  \\\n",
       "20839  Designing optimal treatment plans for patients...   \n",
       "20840  Designing optimal treatment plans for patients...   \n",
       "\n",
       "                                              paper_text  paper_id  author_id  \n",
       "20839  Deep Multi-task Gaussian Processes for\\nSurviv...      6827       9344  \n",
       "20840  Deep Multi-task Gaussian Processes for\\nSurviv...      6827       9351  "
      ]
     },
     "execution_count": 47,
     "metadata": {},
     "output_type": "execute_result"
    }
   ],
   "source": [
    "papers_and_authors_f = pd.concat([papers_and_authors, fixed_papers], ignore_index=True)\n",
    "papers_and_authors_f.query('paper_id == 6827')"
   ]
  },
  {
   "cell_type": "markdown",
   "metadata": {},
   "source": [
    "The total number of papers now matches the total number in my initial dataset, so I should be good to save this as a new .csv file I will work with for all of my modeling."
   ]
  },
  {
   "cell_type": "code",
   "execution_count": 48,
   "metadata": {},
   "outputs": [
    {
     "data": {
      "text/plain": [
       "7241"
      ]
     },
     "execution_count": 48,
     "metadata": {},
     "output_type": "execute_result"
    }
   ],
   "source": [
    "len(papers_and_authors_f['paper_id'].value_counts())"
   ]
  },
  {
   "cell_type": "code",
   "execution_count": 49,
   "metadata": {},
   "outputs": [
    {
     "data": {
      "text/plain": [
       "7241"
      ]
     },
     "execution_count": 49,
     "metadata": {},
     "output_type": "execute_result"
    }
   ],
   "source": [
    "len(papers)"
   ]
  },
  {
   "cell_type": "code",
   "execution_count": 50,
   "metadata": {},
   "outputs": [],
   "source": [
    "datapath = 'E:/OtherCodeProjects/Springboard Capstone Projects/Springboard-Capstone-1-Data/papers_and_authors.csv'\n",
    "papers_and_authors_f.to_csv(datapath, index=False)"
   ]
  }
 ],
 "metadata": {
  "kernelspec": {
   "display_name": "Python 3.9.13 ('Springboard_Capstone_1')",
   "language": "python",
   "name": "python3"
  },
  "language_info": {
   "codemirror_mode": {
    "name": "ipython",
    "version": 3
   },
   "file_extension": ".py",
   "mimetype": "text/x-python",
   "name": "python",
   "nbconvert_exporter": "python",
   "pygments_lexer": "ipython3",
   "version": "3.9.13"
  },
  "orig_nbformat": 4,
  "vscode": {
   "interpreter": {
    "hash": "918dc82fcda072602f7dedc1715dd52bd51c73a6bbc48592bc491021bad55eb4"
   }
  }
 },
 "nbformat": 4,
 "nbformat_minor": 2
}
