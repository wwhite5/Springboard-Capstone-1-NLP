{
 "cells": [
  {
   "cell_type": "markdown",
   "metadata": {},
   "source": [
    "This notebook is the first modeling I will do for this project. While it's not likely to be very predictive, I'm going to try to predict the authorship of a paper based only on its title, and only for the most prolific author in the dataset. This will hopefully allow me to gain a familiarity with some of the tools for NLP modeling, and check som einitial strategies to see what works and what doesn't"
   ]
  },
  {
   "cell_type": "code",
   "execution_count": 12,
   "metadata": {},
   "outputs": [],
   "source": [
    "import pandas as pd\n",
    "import os\n",
    "import numpy as np\n",
    "import seaborn as sns\n",
    "from sklearn.model_selection import train_test_split\n",
    "from sklearn.feature_extraction.text import TfidfVectorizer\n",
    "from sklearn.linear_model import LogisticRegression\n",
    "from sklearn.metrics import accuracy_score, confusion_matrix, roc_auc_score, recall_score\n",
    "import matplotlib.pyplot as plt\n",
    "from mlxtend.plotting import plot_confusion_matrix\n",
    "from imblearn.over_sampling import RandomOverSampler\n",
    "from imblearn.under_sampling import RandomUnderSampler"
   ]
  },
  {
   "cell_type": "code",
   "execution_count": 13,
   "metadata": {},
   "outputs": [],
   "source": [
    "papers_and_authors = pd.read_csv('E:/OtherCodeProjects/Springboard Capstone Projects/Springboard-Capstone-1-Data/papers_and_authors.csv')"
   ]
  },
  {
   "cell_type": "markdown",
   "metadata": {},
   "source": [
    "Reading in the corrected dataset, with each paper duplicated for each author it has."
   ]
  },
  {
   "cell_type": "code",
   "execution_count": 14,
   "metadata": {},
   "outputs": [
    {
     "data": {
      "text/html": [
       "<div>\n",
       "<style scoped>\n",
       "    .dataframe tbody tr th:only-of-type {\n",
       "        vertical-align: middle;\n",
       "    }\n",
       "\n",
       "    .dataframe tbody tr th {\n",
       "        vertical-align: top;\n",
       "    }\n",
       "\n",
       "    .dataframe thead th {\n",
       "        text-align: right;\n",
       "    }\n",
       "</style>\n",
       "<table border=\"1\" class=\"dataframe\">\n",
       "  <thead>\n",
       "    <tr style=\"text-align: right;\">\n",
       "      <th></th>\n",
       "      <th>year</th>\n",
       "      <th>title</th>\n",
       "      <th>event_type</th>\n",
       "      <th>pdf_name</th>\n",
       "      <th>abstract</th>\n",
       "      <th>paper_text</th>\n",
       "      <th>paper_id</th>\n",
       "      <th>author_id</th>\n",
       "    </tr>\n",
       "  </thead>\n",
       "  <tbody>\n",
       "    <tr>\n",
       "      <th>0</th>\n",
       "      <td>1987</td>\n",
       "      <td>Self-Organization of Associative Database and ...</td>\n",
       "      <td>NaN</td>\n",
       "      <td>1-self-organization-of-associative-database-an...</td>\n",
       "      <td>Abstract Missing</td>\n",
       "      <td>767\\n\\nSELF-ORGANIZATION OF ASSOCIATIVE DATABA...</td>\n",
       "      <td>1</td>\n",
       "      <td>1</td>\n",
       "    </tr>\n",
       "    <tr>\n",
       "      <th>1</th>\n",
       "      <td>1987</td>\n",
       "      <td>Self-Organization of Associative Database and ...</td>\n",
       "      <td>NaN</td>\n",
       "      <td>1-self-organization-of-associative-database-an...</td>\n",
       "      <td>Abstract Missing</td>\n",
       "      <td>767\\n\\nSELF-ORGANIZATION OF ASSOCIATIVE DATABA...</td>\n",
       "      <td>1</td>\n",
       "      <td>2</td>\n",
       "    </tr>\n",
       "    <tr>\n",
       "      <th>2</th>\n",
       "      <td>1987</td>\n",
       "      <td>A Mean Field Theory of Layer IV of Visual Cort...</td>\n",
       "      <td>NaN</td>\n",
       "      <td>10-a-mean-field-theory-of-layer-iv-of-visual-c...</td>\n",
       "      <td>Abstract Missing</td>\n",
       "      <td>683\\n\\nA MEAN FIELD THEORY OF LAYER IV OF VISU...</td>\n",
       "      <td>10</td>\n",
       "      <td>14</td>\n",
       "    </tr>\n",
       "    <tr>\n",
       "      <th>3</th>\n",
       "      <td>1988</td>\n",
       "      <td>Storing Covariance by the Associative Long-Ter...</td>\n",
       "      <td>NaN</td>\n",
       "      <td>100-storing-covariance-by-the-associative-long...</td>\n",
       "      <td>Abstract Missing</td>\n",
       "      <td>394\\n\\nSTORING COVARIANCE BY THE ASSOCIATIVE\\n...</td>\n",
       "      <td>100</td>\n",
       "      <td>155</td>\n",
       "    </tr>\n",
       "    <tr>\n",
       "      <th>4</th>\n",
       "      <td>1988</td>\n",
       "      <td>Storing Covariance by the Associative Long-Ter...</td>\n",
       "      <td>NaN</td>\n",
       "      <td>100-storing-covariance-by-the-associative-long...</td>\n",
       "      <td>Abstract Missing</td>\n",
       "      <td>394\\n\\nSTORING COVARIANCE BY THE ASSOCIATIVE\\n...</td>\n",
       "      <td>100</td>\n",
       "      <td>54</td>\n",
       "    </tr>\n",
       "  </tbody>\n",
       "</table>\n",
       "</div>"
      ],
      "text/plain": [
       "   year                                              title event_type  \\\n",
       "0  1987  Self-Organization of Associative Database and ...        NaN   \n",
       "1  1987  Self-Organization of Associative Database and ...        NaN   \n",
       "2  1987  A Mean Field Theory of Layer IV of Visual Cort...        NaN   \n",
       "3  1988  Storing Covariance by the Associative Long-Ter...        NaN   \n",
       "4  1988  Storing Covariance by the Associative Long-Ter...        NaN   \n",
       "\n",
       "                                            pdf_name          abstract  \\\n",
       "0  1-self-organization-of-associative-database-an...  Abstract Missing   \n",
       "1  1-self-organization-of-associative-database-an...  Abstract Missing   \n",
       "2  10-a-mean-field-theory-of-layer-iv-of-visual-c...  Abstract Missing   \n",
       "3  100-storing-covariance-by-the-associative-long...  Abstract Missing   \n",
       "4  100-storing-covariance-by-the-associative-long...  Abstract Missing   \n",
       "\n",
       "                                          paper_text  paper_id  author_id  \n",
       "0  767\\n\\nSELF-ORGANIZATION OF ASSOCIATIVE DATABA...         1          1  \n",
       "1  767\\n\\nSELF-ORGANIZATION OF ASSOCIATIVE DATABA...         1          2  \n",
       "2  683\\n\\nA MEAN FIELD THEORY OF LAYER IV OF VISU...        10         14  \n",
       "3  394\\n\\nSTORING COVARIANCE BY THE ASSOCIATIVE\\n...       100        155  \n",
       "4  394\\n\\nSTORING COVARIANCE BY THE ASSOCIATIVE\\n...       100         54  "
      ]
     },
     "execution_count": 14,
     "metadata": {},
     "output_type": "execute_result"
    }
   ],
   "source": [
    "papers_and_authors.head()"
   ]
  },
  {
   "cell_type": "markdown",
   "metadata": {},
   "source": [
    "The dataset has 20843 entries as I would expect, 5 more than the initial uncorrected dataset that was missing three papers."
   ]
  },
  {
   "cell_type": "code",
   "execution_count": 15,
   "metadata": {},
   "outputs": [
    {
     "name": "stdout",
     "output_type": "stream",
     "text": [
      "<class 'pandas.core.frame.DataFrame'>\n",
      "RangeIndex: 20843 entries, 0 to 20842\n",
      "Data columns (total 8 columns):\n",
      " #   Column      Non-Null Count  Dtype \n",
      "---  ------      --------------  ----- \n",
      " 0   year        20843 non-null  int64 \n",
      " 1   title       20843 non-null  object\n",
      " 2   event_type  8156 non-null   object\n",
      " 3   pdf_name    20843 non-null  object\n",
      " 4   abstract    20843 non-null  object\n",
      " 5   paper_text  20843 non-null  object\n",
      " 6   paper_id    20843 non-null  int64 \n",
      " 7   author_id   20843 non-null  int64 \n",
      "dtypes: int64(3), object(5)\n",
      "memory usage: 1.3+ MB\n"
     ]
    }
   ],
   "source": [
    "papers_and_authors.info()"
   ]
  },
  {
   "cell_type": "markdown",
   "metadata": {},
   "source": [
    "For this project I'm going to remove all of the features other than title and the author id."
   ]
  },
  {
   "cell_type": "code",
   "execution_count": 16,
   "metadata": {},
   "outputs": [
    {
     "data": {
      "text/html": [
       "<div>\n",
       "<style scoped>\n",
       "    .dataframe tbody tr th:only-of-type {\n",
       "        vertical-align: middle;\n",
       "    }\n",
       "\n",
       "    .dataframe tbody tr th {\n",
       "        vertical-align: top;\n",
       "    }\n",
       "\n",
       "    .dataframe thead th {\n",
       "        text-align: right;\n",
       "    }\n",
       "</style>\n",
       "<table border=\"1\" class=\"dataframe\">\n",
       "  <thead>\n",
       "    <tr style=\"text-align: right;\">\n",
       "      <th></th>\n",
       "      <th>title</th>\n",
       "      <th>author_id</th>\n",
       "    </tr>\n",
       "  </thead>\n",
       "  <tbody>\n",
       "    <tr>\n",
       "      <th>0</th>\n",
       "      <td>Self-Organization of Associative Database and ...</td>\n",
       "      <td>1</td>\n",
       "    </tr>\n",
       "    <tr>\n",
       "      <th>1</th>\n",
       "      <td>Self-Organization of Associative Database and ...</td>\n",
       "      <td>2</td>\n",
       "    </tr>\n",
       "    <tr>\n",
       "      <th>2</th>\n",
       "      <td>A Mean Field Theory of Layer IV of Visual Cort...</td>\n",
       "      <td>14</td>\n",
       "    </tr>\n",
       "    <tr>\n",
       "      <th>3</th>\n",
       "      <td>Storing Covariance by the Associative Long-Ter...</td>\n",
       "      <td>155</td>\n",
       "    </tr>\n",
       "    <tr>\n",
       "      <th>4</th>\n",
       "      <td>Storing Covariance by the Associative Long-Ter...</td>\n",
       "      <td>54</td>\n",
       "    </tr>\n",
       "  </tbody>\n",
       "</table>\n",
       "</div>"
      ],
      "text/plain": [
       "                                               title  author_id\n",
       "0  Self-Organization of Associative Database and ...          1\n",
       "1  Self-Organization of Associative Database and ...          2\n",
       "2  A Mean Field Theory of Layer IV of Visual Cort...         14\n",
       "3  Storing Covariance by the Associative Long-Ter...        155\n",
       "4  Storing Covariance by the Associative Long-Ter...         54"
      ]
     },
     "execution_count": 16,
     "metadata": {},
     "output_type": "execute_result"
    }
   ],
   "source": [
    "only_auth_title = papers_and_authors.drop(['year', 'event_type', 'pdf_name', 'abstract', 'paper_text', 'paper_id'], axis=1)\n",
    "only_auth_title.head()"
   ]
  },
  {
   "cell_type": "markdown",
   "metadata": {},
   "source": [
    "Now, I need an actual \"target feature\" for my model, in this case if the paper was written by Michael I. Jordan, author_id 330. This function detects if his author id is in the appropriate column, and returns a 1 if it is and a 0 if it is not."
   ]
  },
  {
   "cell_type": "code",
   "execution_count": 17,
   "metadata": {},
   "outputs": [],
   "source": [
    "def jordan_detector(row):\n",
    "    if row['author_id'] == 330:\n",
    "        return 1\n",
    "    else:\n",
    "        return 0"
   ]
  },
  {
   "cell_type": "markdown",
   "metadata": {},
   "source": [
    "Applying this function to create a new 'is_jordan' column, with the appropriate 1 or 0 as the values."
   ]
  },
  {
   "cell_type": "code",
   "execution_count": 18,
   "metadata": {},
   "outputs": [
    {
     "data": {
      "text/html": [
       "<div>\n",
       "<style scoped>\n",
       "    .dataframe tbody tr th:only-of-type {\n",
       "        vertical-align: middle;\n",
       "    }\n",
       "\n",
       "    .dataframe tbody tr th {\n",
       "        vertical-align: top;\n",
       "    }\n",
       "\n",
       "    .dataframe thead th {\n",
       "        text-align: right;\n",
       "    }\n",
       "</style>\n",
       "<table border=\"1\" class=\"dataframe\">\n",
       "  <thead>\n",
       "    <tr style=\"text-align: right;\">\n",
       "      <th></th>\n",
       "      <th>title</th>\n",
       "      <th>author_id</th>\n",
       "      <th>is_jordan</th>\n",
       "    </tr>\n",
       "  </thead>\n",
       "  <tbody>\n",
       "    <tr>\n",
       "      <th>0</th>\n",
       "      <td>Self-Organization of Associative Database and ...</td>\n",
       "      <td>1</td>\n",
       "      <td>0</td>\n",
       "    </tr>\n",
       "    <tr>\n",
       "      <th>1</th>\n",
       "      <td>Self-Organization of Associative Database and ...</td>\n",
       "      <td>2</td>\n",
       "      <td>0</td>\n",
       "    </tr>\n",
       "    <tr>\n",
       "      <th>2</th>\n",
       "      <td>A Mean Field Theory of Layer IV of Visual Cort...</td>\n",
       "      <td>14</td>\n",
       "      <td>0</td>\n",
       "    </tr>\n",
       "    <tr>\n",
       "      <th>3</th>\n",
       "      <td>Storing Covariance by the Associative Long-Ter...</td>\n",
       "      <td>155</td>\n",
       "      <td>0</td>\n",
       "    </tr>\n",
       "    <tr>\n",
       "      <th>4</th>\n",
       "      <td>Storing Covariance by the Associative Long-Ter...</td>\n",
       "      <td>54</td>\n",
       "      <td>0</td>\n",
       "    </tr>\n",
       "  </tbody>\n",
       "</table>\n",
       "</div>"
      ],
      "text/plain": [
       "                                               title  author_id  is_jordan\n",
       "0  Self-Organization of Associative Database and ...          1          0\n",
       "1  Self-Organization of Associative Database and ...          2          0\n",
       "2  A Mean Field Theory of Layer IV of Visual Cort...         14          0\n",
       "3  Storing Covariance by the Associative Long-Ter...        155          0\n",
       "4  Storing Covariance by the Associative Long-Ter...         54          0"
      ]
     },
     "execution_count": 18,
     "metadata": {},
     "output_type": "execute_result"
    }
   ],
   "source": [
    "only_auth_title['is_jordan'] = only_auth_title.apply(lambda row: jordan_detector(row), axis=1)\n",
    "only_auth_title.head()"
   ]
  },
  {
   "cell_type": "markdown",
   "metadata": {},
   "source": [
    "Querying this dataframe for his author id I see that, as expected from the previous notebook, he wrote 79 papers."
   ]
  },
  {
   "cell_type": "code",
   "execution_count": 19,
   "metadata": {},
   "outputs": [
    {
     "data": {
      "text/plain": [
       "79"
      ]
     },
     "execution_count": 19,
     "metadata": {},
     "output_type": "execute_result"
    }
   ],
   "source": [
    "len(only_auth_title.query('author_id == 330'))"
   ]
  },
  {
   "cell_type": "markdown",
   "metadata": {},
   "source": [
    "Now I can drop the author_id column entirely. I also need to get rid of duplicate papers, but some of the duplicated papers wrote or co-wrote, and I need to keep those entries where 'is_jordan' == 1. I sort the papers he wrote up to the top of the dataframe and use .drop_duplicates with keep='first' in order to remove duplicates that aren't his. "
   ]
  },
  {
   "cell_type": "code",
   "execution_count": 20,
   "metadata": {},
   "outputs": [
    {
     "data": {
      "text/plain": [
       "7241"
      ]
     },
     "execution_count": 20,
     "metadata": {},
     "output_type": "execute_result"
    }
   ],
   "source": [
    "is_jordan = only_auth_title.drop('author_id', axis=1)\n",
    "is_jordan.sort_values(by='is_jordan', ascending=False, inplace=True)\n",
    "is_jordan.drop_duplicates(subset='title', keep='first', inplace=True)\n",
    "len(is_jordan)"
   ]
  },
  {
   "cell_type": "markdown",
   "metadata": {},
   "source": [
    "By double checking I can see that he still has 79 papers listed as his."
   ]
  },
  {
   "cell_type": "code",
   "execution_count": 21,
   "metadata": {},
   "outputs": [
    {
     "data": {
      "text/plain": [
       "79"
      ]
     },
     "execution_count": 21,
     "metadata": {},
     "output_type": "execute_result"
    }
   ],
   "source": [
    "len(is_jordan.query('is_jordan == 1'))"
   ]
  },
  {
   "cell_type": "markdown",
   "metadata": {},
   "source": [
    "Having written 79 papers out of ~7000, he is responsible for about ~1% of the dataset as a whole, making this a very imbalanced dataset."
   ]
  },
  {
   "cell_type": "code",
   "execution_count": 22,
   "metadata": {},
   "outputs": [
    {
     "data": {
      "text/plain": [
       "0    0.98909\n",
       "1    0.01091\n",
       "Name: is_jordan, dtype: float64"
      ]
     },
     "execution_count": 22,
     "metadata": {},
     "output_type": "execute_result"
    }
   ],
   "source": [
    "is_jordan.is_jordan.value_counts(normalize=True)"
   ]
  },
  {
   "cell_type": "markdown",
   "metadata": {},
   "source": [
    "Now I split my features into X: the title still in plaintext as a dataframe, and y: the 'is_jordan' column flattened into a 1-dimentional array."
   ]
  },
  {
   "cell_type": "code",
   "execution_count": 23,
   "metadata": {},
   "outputs": [],
   "source": [
    "X = is_jordan['title'].to_frame()\n",
    "y = is_jordan['is_jordan'].values.flatten()\n"
   ]
  },
  {
   "cell_type": "markdown",
   "metadata": {},
   "source": [
    "Creating my train and test split, with the train size set to 75%."
   ]
  },
  {
   "cell_type": "code",
   "execution_count": 24,
   "metadata": {},
   "outputs": [],
   "source": [
    "X_train, X_test, y_train, y_test = train_test_split(X, y, random_state=21, train_size=0.75)"
   ]
  },
  {
   "cell_type": "markdown",
   "metadata": {},
   "source": [
    "Now I can change the title's plaintext into something actually usable by a model. In this case I will be using scikit-learn's TfidfVectorizer, which is essentially an advanced \"bag of words\" representation. Each word in each title is made into a feature, with the values being the number of times that word appears in that title. Then the values are normalized across all of the words in all of the titles."
   ]
  },
  {
   "cell_type": "markdown",
   "metadata": {},
   "source": [
    "In this case, I will fit and transform on the train set, and only transform the test set. The shape tells me I have 5430 titles in the train set, as expected, and 4854 columns each representing a word."
   ]
  },
  {
   "cell_type": "code",
   "execution_count": 25,
   "metadata": {},
   "outputs": [
    {
     "data": {
      "text/plain": [
       "(5430, 4854)"
      ]
     },
     "execution_count": 25,
     "metadata": {},
     "output_type": "execute_result"
    }
   ],
   "source": [
    "tfidf = TfidfVectorizer()\n",
    "X_train = tfidf.fit_transform(X_train.title)\n",
    "X_train.shape"
   ]
  },
  {
   "cell_type": "markdown",
   "metadata": {},
   "source": [
    "This code shows the statistics of the vectorized titles. While most words aren't in a given title, I can see that the proper normalized values are present."
   ]
  },
  {
   "cell_type": "code",
   "execution_count": 15,
   "metadata": {},
   "outputs": [
    {
     "data": {
      "text/html": [
       "<div>\n",
       "<style scoped>\n",
       "    .dataframe tbody tr th:only-of-type {\n",
       "        vertical-align: middle;\n",
       "    }\n",
       "\n",
       "    .dataframe tbody tr th {\n",
       "        vertical-align: top;\n",
       "    }\n",
       "\n",
       "    .dataframe thead th {\n",
       "        text-align: right;\n",
       "    }\n",
       "</style>\n",
       "<table border=\"1\" class=\"dataframe\">\n",
       "  <thead>\n",
       "    <tr style=\"text-align: right;\">\n",
       "      <th></th>\n",
       "      <th>000</th>\n",
       "      <th>1993</th>\n",
       "      <th>1d</th>\n",
       "      <th>25</th>\n",
       "      <th>2d</th>\n",
       "      <th>360</th>\n",
       "      <th>3d</th>\n",
       "      <th>3n2</th>\n",
       "      <th>40</th>\n",
       "      <th>5d</th>\n",
       "      <th>...</th>\n",
       "      <th>young</th>\n",
       "      <th>your</th>\n",
       "      <th>zag</th>\n",
       "      <th>zap</th>\n",
       "      <th>zero</th>\n",
       "      <th>zeroth</th>\n",
       "      <th>zeta</th>\n",
       "      <th>zig</th>\n",
       "      <th>zip</th>\n",
       "      <th>zype</th>\n",
       "    </tr>\n",
       "  </thead>\n",
       "  <tbody>\n",
       "    <tr>\n",
       "      <th>count</th>\n",
       "      <td>5430.000000</td>\n",
       "      <td>5430.000000</td>\n",
       "      <td>5430.000000</td>\n",
       "      <td>5430.000000</td>\n",
       "      <td>5430.000000</td>\n",
       "      <td>5430.000000</td>\n",
       "      <td>5430.000000</td>\n",
       "      <td>5430.000000</td>\n",
       "      <td>5430.000000</td>\n",
       "      <td>5430.000000</td>\n",
       "      <td>...</td>\n",
       "      <td>5430.000000</td>\n",
       "      <td>5430.000000</td>\n",
       "      <td>5430.000000</td>\n",
       "      <td>5430.000000</td>\n",
       "      <td>5430.000000</td>\n",
       "      <td>5430.000000</td>\n",
       "      <td>5430.000000</td>\n",
       "      <td>5430.000000</td>\n",
       "      <td>5430.000000</td>\n",
       "      <td>5430.000000</td>\n",
       "    </tr>\n",
       "    <tr>\n",
       "      <th>mean</th>\n",
       "      <td>0.000076</td>\n",
       "      <td>0.000067</td>\n",
       "      <td>0.000069</td>\n",
       "      <td>0.000073</td>\n",
       "      <td>0.000540</td>\n",
       "      <td>0.000087</td>\n",
       "      <td>0.001820</td>\n",
       "      <td>0.000079</td>\n",
       "      <td>0.000055</td>\n",
       "      <td>0.000083</td>\n",
       "      <td>...</td>\n",
       "      <td>0.000068</td>\n",
       "      <td>0.000215</td>\n",
       "      <td>0.000087</td>\n",
       "      <td>0.000177</td>\n",
       "      <td>0.000531</td>\n",
       "      <td>0.000065</td>\n",
       "      <td>0.000159</td>\n",
       "      <td>0.000087</td>\n",
       "      <td>0.000079</td>\n",
       "      <td>0.000078</td>\n",
       "    </tr>\n",
       "    <tr>\n",
       "      <th>std</th>\n",
       "      <td>0.005578</td>\n",
       "      <td>0.004938</td>\n",
       "      <td>0.005103</td>\n",
       "      <td>0.005361</td>\n",
       "      <td>0.015122</td>\n",
       "      <td>0.006385</td>\n",
       "      <td>0.026184</td>\n",
       "      <td>0.005816</td>\n",
       "      <td>0.004041</td>\n",
       "      <td>0.006111</td>\n",
       "      <td>...</td>\n",
       "      <td>0.004976</td>\n",
       "      <td>0.009418</td>\n",
       "      <td>0.006424</td>\n",
       "      <td>0.013042</td>\n",
       "      <td>0.014882</td>\n",
       "      <td>0.004810</td>\n",
       "      <td>0.008277</td>\n",
       "      <td>0.006424</td>\n",
       "      <td>0.005850</td>\n",
       "      <td>0.005726</td>\n",
       "    </tr>\n",
       "    <tr>\n",
       "      <th>min</th>\n",
       "      <td>0.000000</td>\n",
       "      <td>0.000000</td>\n",
       "      <td>0.000000</td>\n",
       "      <td>0.000000</td>\n",
       "      <td>0.000000</td>\n",
       "      <td>0.000000</td>\n",
       "      <td>0.000000</td>\n",
       "      <td>0.000000</td>\n",
       "      <td>0.000000</td>\n",
       "      <td>0.000000</td>\n",
       "      <td>...</td>\n",
       "      <td>0.000000</td>\n",
       "      <td>0.000000</td>\n",
       "      <td>0.000000</td>\n",
       "      <td>0.000000</td>\n",
       "      <td>0.000000</td>\n",
       "      <td>0.000000</td>\n",
       "      <td>0.000000</td>\n",
       "      <td>0.000000</td>\n",
       "      <td>0.000000</td>\n",
       "      <td>0.000000</td>\n",
       "    </tr>\n",
       "    <tr>\n",
       "      <th>25%</th>\n",
       "      <td>0.000000</td>\n",
       "      <td>0.000000</td>\n",
       "      <td>0.000000</td>\n",
       "      <td>0.000000</td>\n",
       "      <td>0.000000</td>\n",
       "      <td>0.000000</td>\n",
       "      <td>0.000000</td>\n",
       "      <td>0.000000</td>\n",
       "      <td>0.000000</td>\n",
       "      <td>0.000000</td>\n",
       "      <td>...</td>\n",
       "      <td>0.000000</td>\n",
       "      <td>0.000000</td>\n",
       "      <td>0.000000</td>\n",
       "      <td>0.000000</td>\n",
       "      <td>0.000000</td>\n",
       "      <td>0.000000</td>\n",
       "      <td>0.000000</td>\n",
       "      <td>0.000000</td>\n",
       "      <td>0.000000</td>\n",
       "      <td>0.000000</td>\n",
       "    </tr>\n",
       "    <tr>\n",
       "      <th>50%</th>\n",
       "      <td>0.000000</td>\n",
       "      <td>0.000000</td>\n",
       "      <td>0.000000</td>\n",
       "      <td>0.000000</td>\n",
       "      <td>0.000000</td>\n",
       "      <td>0.000000</td>\n",
       "      <td>0.000000</td>\n",
       "      <td>0.000000</td>\n",
       "      <td>0.000000</td>\n",
       "      <td>0.000000</td>\n",
       "      <td>...</td>\n",
       "      <td>0.000000</td>\n",
       "      <td>0.000000</td>\n",
       "      <td>0.000000</td>\n",
       "      <td>0.000000</td>\n",
       "      <td>0.000000</td>\n",
       "      <td>0.000000</td>\n",
       "      <td>0.000000</td>\n",
       "      <td>0.000000</td>\n",
       "      <td>0.000000</td>\n",
       "      <td>0.000000</td>\n",
       "    </tr>\n",
       "    <tr>\n",
       "      <th>75%</th>\n",
       "      <td>0.000000</td>\n",
       "      <td>0.000000</td>\n",
       "      <td>0.000000</td>\n",
       "      <td>0.000000</td>\n",
       "      <td>0.000000</td>\n",
       "      <td>0.000000</td>\n",
       "      <td>0.000000</td>\n",
       "      <td>0.000000</td>\n",
       "      <td>0.000000</td>\n",
       "      <td>0.000000</td>\n",
       "      <td>...</td>\n",
       "      <td>0.000000</td>\n",
       "      <td>0.000000</td>\n",
       "      <td>0.000000</td>\n",
       "      <td>0.000000</td>\n",
       "      <td>0.000000</td>\n",
       "      <td>0.000000</td>\n",
       "      <td>0.000000</td>\n",
       "      <td>0.000000</td>\n",
       "      <td>0.000000</td>\n",
       "      <td>0.000000</td>\n",
       "    </tr>\n",
       "    <tr>\n",
       "      <th>max</th>\n",
       "      <td>0.411016</td>\n",
       "      <td>0.363875</td>\n",
       "      <td>0.376044</td>\n",
       "      <td>0.395056</td>\n",
       "      <td>0.476690</td>\n",
       "      <td>0.470529</td>\n",
       "      <td>0.520284</td>\n",
       "      <td>0.428568</td>\n",
       "      <td>0.297751</td>\n",
       "      <td>0.450327</td>\n",
       "      <td>...</td>\n",
       "      <td>0.366642</td>\n",
       "      <td>0.515761</td>\n",
       "      <td>0.473408</td>\n",
       "      <td>0.961032</td>\n",
       "      <td>0.470466</td>\n",
       "      <td>0.354411</td>\n",
       "      <td>0.443900</td>\n",
       "      <td>0.473408</td>\n",
       "      <td>0.431109</td>\n",
       "      <td>0.421914</td>\n",
       "    </tr>\n",
       "  </tbody>\n",
       "</table>\n",
       "<p>8 rows × 4854 columns</p>\n",
       "</div>"
      ],
      "text/plain": [
       "               000         1993           1d           25           2d  \\\n",
       "count  5430.000000  5430.000000  5430.000000  5430.000000  5430.000000   \n",
       "mean      0.000076     0.000067     0.000069     0.000073     0.000540   \n",
       "std       0.005578     0.004938     0.005103     0.005361     0.015122   \n",
       "min       0.000000     0.000000     0.000000     0.000000     0.000000   \n",
       "25%       0.000000     0.000000     0.000000     0.000000     0.000000   \n",
       "50%       0.000000     0.000000     0.000000     0.000000     0.000000   \n",
       "75%       0.000000     0.000000     0.000000     0.000000     0.000000   \n",
       "max       0.411016     0.363875     0.376044     0.395056     0.476690   \n",
       "\n",
       "               360           3d          3n2           40           5d  ...  \\\n",
       "count  5430.000000  5430.000000  5430.000000  5430.000000  5430.000000  ...   \n",
       "mean      0.000087     0.001820     0.000079     0.000055     0.000083  ...   \n",
       "std       0.006385     0.026184     0.005816     0.004041     0.006111  ...   \n",
       "min       0.000000     0.000000     0.000000     0.000000     0.000000  ...   \n",
       "25%       0.000000     0.000000     0.000000     0.000000     0.000000  ...   \n",
       "50%       0.000000     0.000000     0.000000     0.000000     0.000000  ...   \n",
       "75%       0.000000     0.000000     0.000000     0.000000     0.000000  ...   \n",
       "max       0.470529     0.520284     0.428568     0.297751     0.450327  ...   \n",
       "\n",
       "             young         your          zag          zap         zero  \\\n",
       "count  5430.000000  5430.000000  5430.000000  5430.000000  5430.000000   \n",
       "mean      0.000068     0.000215     0.000087     0.000177     0.000531   \n",
       "std       0.004976     0.009418     0.006424     0.013042     0.014882   \n",
       "min       0.000000     0.000000     0.000000     0.000000     0.000000   \n",
       "25%       0.000000     0.000000     0.000000     0.000000     0.000000   \n",
       "50%       0.000000     0.000000     0.000000     0.000000     0.000000   \n",
       "75%       0.000000     0.000000     0.000000     0.000000     0.000000   \n",
       "max       0.366642     0.515761     0.473408     0.961032     0.470466   \n",
       "\n",
       "            zeroth         zeta          zig          zip         zype  \n",
       "count  5430.000000  5430.000000  5430.000000  5430.000000  5430.000000  \n",
       "mean      0.000065     0.000159     0.000087     0.000079     0.000078  \n",
       "std       0.004810     0.008277     0.006424     0.005850     0.005726  \n",
       "min       0.000000     0.000000     0.000000     0.000000     0.000000  \n",
       "25%       0.000000     0.000000     0.000000     0.000000     0.000000  \n",
       "50%       0.000000     0.000000     0.000000     0.000000     0.000000  \n",
       "75%       0.000000     0.000000     0.000000     0.000000     0.000000  \n",
       "max       0.354411     0.443900     0.473408     0.431109     0.421914  \n",
       "\n",
       "[8 rows x 4854 columns]"
      ]
     },
     "execution_count": 15,
     "metadata": {},
     "output_type": "execute_result"
    }
   ],
   "source": [
    "X_train_array = X_train.toarray()\n",
    "df_X_train = pd.DataFrame(X_train_array, columns=tfidf.get_feature_names_out())\n",
    "df_X_train.describe()"
   ]
  },
  {
   "cell_type": "markdown",
   "metadata": {},
   "source": [
    "Now I only transform on the test set. It still has the same number of features as the train set."
   ]
  },
  {
   "cell_type": "code",
   "execution_count": 16,
   "metadata": {},
   "outputs": [
    {
     "data": {
      "text/plain": [
       "(1811, 4854)"
      ]
     },
     "execution_count": 16,
     "metadata": {},
     "output_type": "execute_result"
    }
   ],
   "source": [
    "X_test = tfidf.transform(X_test.title)\n",
    "X_test.shape"
   ]
  },
  {
   "cell_type": "markdown",
   "metadata": {},
   "source": [
    "For these models I will only be using a simple logistic regression model, as this is more about establishing a baseline of performance than finding the absolute best model."
   ]
  },
  {
   "cell_type": "markdown",
   "metadata": {},
   "source": [
    "First I fit on the train set and predict the test set, with no additional parameters."
   ]
  },
  {
   "cell_type": "code",
   "execution_count": 17,
   "metadata": {},
   "outputs": [],
   "source": [
    "lr = LogisticRegression(random_state=21)\n",
    "\n",
    "lr.fit(X_train, y_train)\n",
    "\n",
    "predictions = lr.predict(X_test)"
   ]
  },
  {
   "cell_type": "markdown",
   "metadata": {},
   "source": [
    "The model has an accuracy of almost 99%, but an AUC of exactly 0.5 and a 0 for a recall score. Plotting the confusion matrix confirms that this model simply predicted that Jordan wrote none of the papers. Obviously this isn't what I'm looking for."
   ]
  },
  {
   "cell_type": "code",
   "execution_count": 18,
   "metadata": {},
   "outputs": [
    {
     "name": "stdout",
     "output_type": "stream",
     "text": [
      "Accuracy: 0.9895085588072888\n",
      "AUC: 0.5\n",
      "Recall score: 0.0\n"
     ]
    }
   ],
   "source": [
    "accuracy = lr.score(X_test, y_test)\n",
    "auc = roc_auc_score(y_test, predictions)\n",
    "recall = recall_score(y_test, predictions)\n",
    "print('Accuracy:', accuracy)\n",
    "print('AUC:', auc)\n",
    "print('Recall score:', recall)"
   ]
  },
  {
   "cell_type": "code",
   "execution_count": 19,
   "metadata": {},
   "outputs": [
    {
     "data": {
      "image/png": "[encoded data removed]",
      "text/plain": [
       "<Figure size 432x288 with 1 Axes>"
      ]
     },
     "metadata": {
      "needs_background": "light"
     },
     "output_type": "display_data"
    }
   ],
   "source": [
    "cm = confusion_matrix(y_test, predictions)\n",
    "fig, ax = plot_confusion_matrix(conf_mat=cm)\n",
    "plt.show()"
   ]
  },
  {
   "cell_type": "markdown",
   "metadata": {},
   "source": [
    "Next I tried using class weights, in this case an incorrect guess on a Jordan paper is penalized 99x more harshly than on another paper. Everything else is exactly the same as the previous model"
   ]
  },
  {
   "cell_type": "code",
   "execution_count": 20,
   "metadata": {},
   "outputs": [],
   "source": [
    "weights = {0:1, 1:99}\n",
    "lr2 = LogisticRegression(random_state=21, class_weight=weights)\n",
    "lr2.fit(X_train, y_train)\n",
    "predictions2 = lr2.predict(X_test)"
   ]
  },
  {
   "cell_type": "markdown",
   "metadata": {},
   "source": [
    "Looking at the model scoring methods, I can see that this model is slightly better than the previous one, but not amazing by any means. 3/17 papers he wrote were sucessfully predicted, along with 41 false positives."
   ]
  },
  {
   "cell_type": "code",
   "execution_count": 21,
   "metadata": {},
   "outputs": [
    {
     "name": "stdout",
     "output_type": "stream",
     "text": [
      "Accuracy: 0.9685256764218664\n",
      "AUC: 0.5675076362781956\n",
      "Recall score: 0.15789473684210525\n"
     ]
    }
   ],
   "source": [
    "accuracy2 = lr2.score(X_test, y_test)\n",
    "auc2 = roc_auc_score(y_test, predictions2)\n",
    "recall2 = recall_score(y_test, predictions2)\n",
    "print('Accuracy:', accuracy2)\n",
    "print('AUC:', auc2)\n",
    "print('Recall score:', recall2)"
   ]
  },
  {
   "cell_type": "code",
   "execution_count": 22,
   "metadata": {},
   "outputs": [
    {
     "data": {
      "image/png": "[encoded data removed]",
      "text/plain": [
       "<Figure size 432x288 with 1 Axes>"
      ]
     },
     "metadata": {
      "needs_background": "light"
     },
     "output_type": "display_data"
    }
   ],
   "source": [
    "cm2 = confusion_matrix(y_test, predictions2)\n",
    "fig, ax = plot_confusion_matrix(conf_mat=cm2)\n",
    "plt.show()"
   ]
  },
  {
   "cell_type": "markdown",
   "metadata": {},
   "source": [
    "Later, I was curious to see if I was overfitting, so I repeated the above test but predicted on the train data instead of the test data. IM STILL NOT SURE IF THiS MEANS I AM OVERFITTING OR NOT, BUT THE SCORES HERE ARE INCREDIBLY HIGH."
   ]
  },
  {
   "cell_type": "code",
   "execution_count": 23,
   "metadata": {},
   "outputs": [],
   "source": [
    "predictions2_train = lr2.predict(X_train)"
   ]
  },
  {
   "cell_type": "code",
   "execution_count": 24,
   "metadata": {},
   "outputs": [
    {
     "name": "stdout",
     "output_type": "stream",
     "text": [
      "Accuracy: 0.9825046040515654\n",
      "AUC: 0.9911545623836127\n",
      "Recall score: 1.0\n"
     ]
    }
   ],
   "source": [
    "accuracy2_train = lr2.score(X_train, y_train)\n",
    "auc2_train = roc_auc_score(y_train, predictions2_train)\n",
    "recall2_train = recall_score(y_train, predictions2_train)\n",
    "print('Accuracy:', accuracy2_train)\n",
    "print('AUC:', auc2_train)\n",
    "print('Recall score:', recall2_train)"
   ]
  },
  {
   "cell_type": "code",
   "execution_count": 25,
   "metadata": {},
   "outputs": [
    {
     "data": {
      "image/png": "[encoded data removed]",
      "text/plain": [
       "<Figure size 432x288 with 1 Axes>"
      ]
     },
     "metadata": {
      "needs_background": "light"
     },
     "output_type": "display_data"
    }
   ],
   "source": [
    "cm2_train = confusion_matrix(y_train, predictions2_train)\n",
    "fig, ax = plot_confusion_matrix(conf_mat=cm2_train)\n",
    "plt.show()"
   ]
  },
  {
   "cell_type": "markdown",
   "metadata": {},
   "source": [
    "Next I wanted to try oversampling and undersampling as methods. I created a new train/test split so that I could oversample or undersample it accordingly. This is the \"oversample\" split, with the same random state as the last split. "
   ]
  },
  {
   "cell_type": "code",
   "execution_count": 23,
   "metadata": {},
   "outputs": [],
   "source": [
    "X_train_over, X_test_over, y_train_over, y_test_over = \\\n",
    "    train_test_split(X, y, random_state=21, train_size=0.75)"
   ]
  },
  {
   "cell_type": "markdown",
   "metadata": {},
   "source": [
    "Here is the actual oversampling. I only oversample the train set, and leave the test set as it was. "
   ]
  },
  {
   "cell_type": "code",
   "execution_count": 24,
   "metadata": {},
   "outputs": [],
   "source": [
    "oversample = RandomOverSampler(random_state=21)\n",
    "\n",
    "X_train_over, y_train_over = oversample.fit_resample(X_train_over, y_train_over)"
   ]
  },
  {
   "cell_type": "markdown",
   "metadata": {},
   "source": [
    "Again TfidfVectorizing the data, the shapes indicate that our train set now has 10,740 papers in it, with many being duplicates of Jordan's papers."
   ]
  },
  {
   "cell_type": "code",
   "execution_count": 25,
   "metadata": {},
   "outputs": [
    {
     "name": "stdout",
     "output_type": "stream",
     "text": [
      "(10740, 4854)\n",
      "(1811, 4854)\n"
     ]
    }
   ],
   "source": [
    "tfidf = TfidfVectorizer()\n",
    "\n",
    "X_train_over = tfidf.fit_transform(X_train_over.title)\n",
    "X_test_over = tfidf.transform(X_test_over.title)\n",
    "\n",
    "print(X_train_over.shape)\n",
    "print(X_test_over.shape)"
   ]
  },
  {
   "cell_type": "markdown",
   "metadata": {},
   "source": [
    "And fitting the Logistic regression model to it, then predicting on the test set."
   ]
  },
  {
   "cell_type": "code",
   "execution_count": 26,
   "metadata": {},
   "outputs": [],
   "source": [
    "lr_over = LogisticRegression(random_state=21)\n",
    "lr_over.fit(X_train_over, y_train_over)\n",
    "predictions_over = lr_over.predict(X_test_over)"
   ]
  },
  {
   "cell_type": "markdown",
   "metadata": {},
   "source": [
    "The model's scores show some improvement over the weighted example, but not by a ton and possibly explained by random variance. I will need to cross validate later to determine if one method is truly better than another."
   ]
  },
  {
   "cell_type": "code",
   "execution_count": 27,
   "metadata": {},
   "outputs": [
    {
     "name": "stdout",
     "output_type": "stream",
     "text": [
      "Accuracy: 0.9707344008834898\n",
      "AUC: 0.5946604793233083\n",
      "Recall score: 0.21052631578947367\n"
     ]
    }
   ],
   "source": [
    "accuracy_over = lr_over.score(X_test_over, y_test_over)\n",
    "auc_over = roc_auc_score(y_test_over, predictions_over)\n",
    "recall_over = recall_score(y_test_over, predictions_over)\n",
    "print('Accuracy:', accuracy_over)\n",
    "print('AUC:', auc_over)\n",
    "print('Recall score:', recall_over)"
   ]
  },
  {
   "cell_type": "markdown",
   "metadata": {},
   "source": [
    "This time it was able to predict one additional paper, and with fewer false positives."
   ]
  },
  {
   "cell_type": "code",
   "execution_count": 28,
   "metadata": {},
   "outputs": [
    {
     "data": {
      "image/png": "[encoded data removed]",
      "text/plain": [
       "<Figure size 432x288 with 1 Axes>"
      ]
     },
     "metadata": {
      "needs_background": "light"
     },
     "output_type": "display_data"
    }
   ],
   "source": [
    "cm_over = confusion_matrix(y_test_over, predictions_over)\n",
    "fig, ax = plot_confusion_matrix(conf_mat=cm_over)\n",
    "plt.show()"
   ]
  },
  {
   "cell_type": "markdown",
   "metadata": {},
   "source": [
    "Now the undersampling split, again with the same random state as before"
   ]
  },
  {
   "cell_type": "code",
   "execution_count": 29,
   "metadata": {},
   "outputs": [],
   "source": [
    "X_train_under, X_test_under, y_train_under, y_test_under = \\\n",
    "    train_test_split(X, y, random_state=21, train_size=0.75)"
   ]
  },
  {
   "cell_type": "markdown",
   "metadata": {},
   "source": [
    "Again only undersampling on the train set"
   ]
  },
  {
   "cell_type": "code",
   "execution_count": 30,
   "metadata": {},
   "outputs": [],
   "source": [
    "undersample = RandomUnderSampler(random_state=21)\n",
    "\n",
    "X_train_under, y_train_under = undersample.fit_resample(X_train_under, y_train_under)"
   ]
  },
  {
   "cell_type": "markdown",
   "metadata": {},
   "source": [
    "TfidfVectorizing the titles, the shapes indicate that only 120 papers remain in the train set."
   ]
  },
  {
   "cell_type": "code",
   "execution_count": 31,
   "metadata": {},
   "outputs": [
    {
     "name": "stdout",
     "output_type": "stream",
     "text": [
      "(120, 461)\n",
      "(1811, 461)\n"
     ]
    }
   ],
   "source": [
    "tfidf = TfidfVectorizer()\n",
    "\n",
    "X_train_under = tfidf.fit_transform(X_train_under.title)\n",
    "X_test_under = tfidf.transform(X_test_under.title)\n",
    "\n",
    "print(X_train_under.shape)\n",
    "print(X_test_under.shape)"
   ]
  },
  {
   "cell_type": "markdown",
   "metadata": {},
   "source": [
    "Fitting the LogisticRegression model to the undersampled data."
   ]
  },
  {
   "cell_type": "code",
   "execution_count": 32,
   "metadata": {},
   "outputs": [],
   "source": [
    "lr_under = LogisticRegression(random_state=21)\n",
    "lr_under.fit(X_train_under, y_train_under)\n",
    "predictions_under = lr_under.predict(X_test_under)"
   ]
  },
  {
   "cell_type": "markdown",
   "metadata": {},
   "source": [
    "The scores here show a marked difference to the previous ones. The accuracy has tanked, while recall score has gone way up to over 50%. The overall AUC remains around the same as the previous models."
   ]
  },
  {
   "cell_type": "code",
   "execution_count": 33,
   "metadata": {},
   "outputs": [
    {
     "name": "stdout",
     "output_type": "stream",
     "text": [
      "Accuracy: 0.5621203754831585\n",
      "AUC: 0.5704446663533834\n",
      "Recall score: 0.5789473684210527\n"
     ]
    }
   ],
   "source": [
    "accuracy_under = lr_under.score(X_test_under, y_test_under)\n",
    "auc_under = roc_auc_score(y_test_under, predictions_under)\n",
    "recall_under = recall_score(y_test_under, predictions_under)\n",
    "print('Accuracy:', accuracy_under)\n",
    "print('AUC:', auc_under)\n",
    "print('Recall score:', recall_under)"
   ]
  },
  {
   "cell_type": "markdown",
   "metadata": {},
   "source": [
    "The confusion matrix indicates that there are now a huge number of false positives, only 20% smaller than the true negatives. The model was able to predict 8/19 of his papers, but overall this seems like a step back, and it's possible I did something incorrectly while undersampling the data. Or undersampling is just not an appropriate method for this type of data."
   ]
  },
  {
   "cell_type": "code",
   "execution_count": 34,
   "metadata": {},
   "outputs": [
    {
     "data": {
      "image/png": "[encoded data removed]",
      "text/plain": [
       "<Figure size 432x288 with 1 Axes>"
      ]
     },
     "metadata": {
      "needs_background": "light"
     },
     "output_type": "display_data"
    }
   ],
   "source": [
    "cm_under = confusion_matrix(y_test_under, predictions_under)\n",
    "fig, ax = plot_confusion_matrix(conf_mat=cm_under)\n",
    "plt.show()"
   ]
  },
  {
   "cell_type": "markdown",
   "metadata": {},
   "source": [
    "Testing with more balanced test set, THIS IS NOT COMPLETED BUT IT\"S CLEAR I SHOULD HAVE USED the STRATIFY PARAMETER IN ORDER TO ENSURE THE PROPER BALANCE OF JORDAN PAPERS IN THE TRAIN AND TEST SETS. IN THIS CASE IT ADDED AN ADDITIONAL JORDAN PAPER TO THE TEST SET."
   ]
  },
  {
   "cell_type": "code",
   "execution_count": 41,
   "metadata": {},
   "outputs": [
    {
     "name": "stdout",
     "output_type": "stream",
     "text": [
      "20\n"
     ]
    }
   ],
   "source": [
    "X_train_t, X_test_t, y_train_t, y_test_t = train_test_split(X, y, random_state=21, train_size=0.75, stratify=y)\n",
    "\n",
    "print(y_test_t.tolist().count(1))"
   ]
  }
 ],
 "metadata": {
  "kernelspec": {
   "display_name": "Python 3.9.13 ('Springboard_Capstone_1')",
   "language": "python",
   "name": "python3"
  },
  "language_info": {
   "codemirror_mode": {
    "name": "ipython",
    "version": 3
   },
   "file_extension": ".py",
   "mimetype": "text/x-python",
   "name": "python",
   "nbconvert_exporter": "python",
   "pygments_lexer": "ipython3",
   "version": "3.9.13"
  },
  "orig_nbformat": 4,
  "vscode": {
   "interpreter": {
    "hash": "918dc82fcda072602f7dedc1715dd52bd51c73a6bbc48592bc491021bad55eb4"
   }
  }
 },
 "nbformat": 4,
 "nbformat_minor": 2
}
